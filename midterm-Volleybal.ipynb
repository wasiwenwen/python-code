{
 "cells": [
  {
   "cell_type": "markdown",
   "metadata": {},
   "source": [
    "# 排球選手的資料整理與分析"
   ]
  },
  {
   "cell_type": "markdown",
   "metadata": {},
   "source": [
    "### 說明：身為排球愛好者，相較於棒球與籃球，台灣對於排球的數據分析似乎較少，因此藉由這次機會來整理一下，並檢驗一些平常的說法是否正確！"
   ]
  },
  {
   "cell_type": "code",
   "execution_count": 1,
   "metadata": {},
   "outputs": [],
   "source": [
    "%matplotlib inline\n",
    "\n",
    "import numpy as np\n",
    "import matplotlib.pyplot as plt\n",
    "import pandas as pd\n",
    "from sklearn.linear_model import LinearRegression\n",
    "from sklearn.model_selection import train_test_split\n",
    "from sklearn.metrics import mean_squared_error\n",
    "from sklearn.metrics import r2_score"
   ]
  },
  {
   "cell_type": "markdown",
   "metadata": {},
   "source": [
    "## 1.抓入排球選手資料\n",
    "#### 資料來源：107年企業十四年甲級男女排球聯賽官網(http://tvl.ctvba.org.tw/)"
   ]
  },
  {
   "cell_type": "markdown",
   "metadata": {},
   "source": [
    "### 1-1先分別抓入男女排得分資料，並加入性別變項，將類別變項做編號"
   ]
  },
  {
   "cell_type": "code",
   "execution_count": 2,
   "metadata": {},
   "outputs": [],
   "source": [
    "df = pd.read_html('http://tvl.ctvba.org.tw/%E5%A5%B3%E5%AD%90%E5%BE%97%E5%88%86%E6%8E%92%E8%A1%8C/')"
   ]
  },
  {
   "cell_type": "code",
   "execution_count": 3,
   "metadata": {},
   "outputs": [],
   "source": [
    "df_girl = df[0][['球員', '位置', '得分']].copy()"
   ]
  },
  {
   "cell_type": "code",
   "execution_count": 4,
   "metadata": {},
   "outputs": [],
   "source": [
    "df_girl['性別'] = np.array(0)"
   ]
  },
  {
   "cell_type": "code",
   "execution_count": 5,
   "metadata": {},
   "outputs": [],
   "source": [
    "df1 = pd.read_html('http://tvl.ctvba.org.tw/%E7%94%B7%E5%AD%90%E5%BE%97%E5%88%86%E6%8E%92%E8%A1%8C/')"
   ]
  },
  {
   "cell_type": "code",
   "execution_count": 6,
   "metadata": {},
   "outputs": [],
   "source": [
    "df_boy = df1[0][['球員', '位置', '得分']].copy()"
   ]
  },
  {
   "cell_type": "code",
   "execution_count": 7,
   "metadata": {},
   "outputs": [],
   "source": [
    "df_boy['性別'] = np.array(1)"
   ]
  },
  {
   "cell_type": "code",
   "execution_count": 8,
   "metadata": {},
   "outputs": [],
   "source": [
    "df_all =  pd.concat([df_boy, df_girl], axis = 0)"
   ]
  },
  {
   "cell_type": "code",
   "execution_count": 9,
   "metadata": {},
   "outputs": [],
   "source": [
    "df_all.replace('主攻手', 0, inplace = True)\n",
    "df_all.replace('中間手', 1, inplace = True)\n",
    "df_all.replace('副攻手', 2, inplace = True)\n",
    "df_all.replace('快攻手', 3, inplace = True)\n",
    "df_all.replace('舉球員', 4, inplace = True)\n",
    "df_all.replace('自由球員', 5, inplace = True)"
   ]
  },
  {
   "cell_type": "code",
   "execution_count": 10,
   "metadata": {},
   "outputs": [
    {
     "data": {
      "text/html": [
       "<div>\n",
       "<style scoped>\n",
       "    .dataframe tbody tr th:only-of-type {\n",
       "        vertical-align: middle;\n",
       "    }\n",
       "\n",
       "    .dataframe tbody tr th {\n",
       "        vertical-align: top;\n",
       "    }\n",
       "\n",
       "    .dataframe thead th {\n",
       "        text-align: right;\n",
       "    }\n",
       "</style>\n",
       "<table border=\"1\" class=\"dataframe\">\n",
       "  <thead>\n",
       "    <tr style=\"text-align: right;\">\n",
       "      <th></th>\n",
       "      <th>球員</th>\n",
       "      <th>位置</th>\n",
       "      <th>得分</th>\n",
       "      <th>性別</th>\n",
       "    </tr>\n",
       "  </thead>\n",
       "  <tbody>\n",
       "    <tr>\n",
       "      <th>0</th>\n",
       "      <td>吳宗軒</td>\n",
       "      <td>2</td>\n",
       "      <td>502</td>\n",
       "      <td>1</td>\n",
       "    </tr>\n",
       "    <tr>\n",
       "      <th>1</th>\n",
       "      <td>黃世豪</td>\n",
       "      <td>0</td>\n",
       "      <td>383</td>\n",
       "      <td>1</td>\n",
       "    </tr>\n",
       "    <tr>\n",
       "      <th>2</th>\n",
       "      <td>張閔舜</td>\n",
       "      <td>0</td>\n",
       "      <td>313</td>\n",
       "      <td>1</td>\n",
       "    </tr>\n",
       "    <tr>\n",
       "      <th>3</th>\n",
       "      <td>張善源</td>\n",
       "      <td>0</td>\n",
       "      <td>290</td>\n",
       "      <td>1</td>\n",
       "    </tr>\n",
       "    <tr>\n",
       "      <th>4</th>\n",
       "      <td>焦璿誠</td>\n",
       "      <td>0</td>\n",
       "      <td>288</td>\n",
       "      <td>1</td>\n",
       "    </tr>\n",
       "  </tbody>\n",
       "</table>\n",
       "</div>"
      ],
      "text/plain": [
       "    球員  位置   得分  性別\n",
       "0  吳宗軒   2  502   1\n",
       "1  黃世豪   0  383   1\n",
       "2  張閔舜   0  313   1\n",
       "3  張善源   0  290   1\n",
       "4  焦璿誠   0  288   1"
      ]
     },
     "execution_count": 10,
     "metadata": {},
     "output_type": "execute_result"
    }
   ],
   "source": [
    "df_all.head()"
   ]
  },
  {
   "cell_type": "markdown",
   "metadata": {},
   "source": [
    "### 1-2 再抓入其他變項的資料"
   ]
  },
  {
   "cell_type": "code",
   "execution_count": 11,
   "metadata": {
    "scrolled": false
   },
   "outputs": [],
   "source": [
    "df2 = pd.read_csv('player1.csv')"
   ]
  },
  {
   "cell_type": "markdown",
   "metadata": {},
   "source": [
    "#### 整理資料"
   ]
  },
  {
   "cell_type": "code",
   "execution_count": 12,
   "metadata": {},
   "outputs": [],
   "source": [
    "#抓出攻擊\n",
    "attack = df2.攻擊\n",
    "attack_index = [i for i in range(3, len(attack), 3)]\n",
    "attackrate = attack[attack_index].to_frame('得分率')\n",
    "attackrate.index = range(1, len(attackrate) + 1)"
   ]
  },
  {
   "cell_type": "code",
   "execution_count": 13,
   "metadata": {},
   "outputs": [],
   "source": [
    "#抓出體重\n",
    "weight = df2.身高\n",
    "weight_index = [i for i in range(2, len(weight) + 1, 3)]\n",
    "weights = weight[weight_index].to_frame('體重')\n",
    "weights.index = range(1, len(weights) + 1)"
   ]
  },
  {
   "cell_type": "code",
   "execution_count": 14,
   "metadata": {},
   "outputs": [],
   "source": [
    "#抓出我要的變數\n",
    "df_player_data = df2[['號碼', '姓名', '生日', '身高', '攻擊', '場數']].copy()"
   ]
  },
  {
   "cell_type": "code",
   "execution_count": 15,
   "metadata": {},
   "outputs": [],
   "source": [
    "#整理遺漏值\n",
    "df_player_data['生日'].fillna('--', inplace = True)\n",
    "df_player_data['身高'].fillna('--', inplace = True)\n",
    "df_player_data.dropna(inplace = True)"
   ]
  },
  {
   "cell_type": "code",
   "execution_count": 16,
   "metadata": {},
   "outputs": [],
   "source": [
    "#合併體重與攻擊得分率\n",
    "df_player_data.index = range(1, len(df_player_data) + 1)\n",
    "df_player_data2 = pd.concat([df_player_data, attackrate, weights], axis = 1)"
   ]
  },
  {
   "cell_type": "code",
   "execution_count": 17,
   "metadata": {},
   "outputs": [],
   "source": [
    "df_player_data2.rename(columns ={'姓名':'球員'}, inplace = True)"
   ]
  },
  {
   "cell_type": "markdown",
   "metadata": {},
   "source": [
    "### 1-3 以球員姓名為key將Dataframe合併，並再度整理資料"
   ]
  },
  {
   "cell_type": "code",
   "execution_count": 18,
   "metadata": {},
   "outputs": [],
   "source": [
    "df_player = pd.merge(df_all, df_player_data2, how = 'left', on = '球員')"
   ]
  },
  {
   "cell_type": "code",
   "execution_count": 19,
   "metadata": {
    "scrolled": true
   },
   "outputs": [],
   "source": [
    "df_player.dropna(inplace = True)"
   ]
  },
  {
   "cell_type": "code",
   "execution_count": 20,
   "metadata": {},
   "outputs": [],
   "source": [
    "df_final = df_player[(df_player['場數'] == 24) & (df_player['身高'] != '--') & (df_player['生日'] != '--')].copy() #只抓相同場數的，避免得分受到此變項混淆\n",
    "# 將字串轉為浮點數\n",
    "df_final.replace('--', 0.0, inplace = True)\n",
    "df_final['攻擊'] = df_final['攻擊'].astype('float')\n",
    "df_final['得分率'] = df_final['得分率'].astype('float')"
   ]
  },
  {
   "cell_type": "markdown",
   "metadata": {},
   "source": [
    "#### 最後整理完成的球員資料"
   ]
  },
  {
   "cell_type": "code",
   "execution_count": 21,
   "metadata": {
    "scrolled": true
   },
   "outputs": [
    {
     "data": {
      "text/html": [
       "<div>\n",
       "<style scoped>\n",
       "    .dataframe tbody tr th:only-of-type {\n",
       "        vertical-align: middle;\n",
       "    }\n",
       "\n",
       "    .dataframe tbody tr th {\n",
       "        vertical-align: top;\n",
       "    }\n",
       "\n",
       "    .dataframe thead th {\n",
       "        text-align: right;\n",
       "    }\n",
       "</style>\n",
       "<table border=\"1\" class=\"dataframe\">\n",
       "  <thead>\n",
       "    <tr style=\"text-align: right;\">\n",
       "      <th></th>\n",
       "      <th>球員</th>\n",
       "      <th>位置</th>\n",
       "      <th>得分</th>\n",
       "      <th>性別</th>\n",
       "      <th>號碼</th>\n",
       "      <th>生日</th>\n",
       "      <th>身高</th>\n",
       "      <th>攻擊</th>\n",
       "      <th>場數</th>\n",
       "      <th>得分率</th>\n",
       "      <th>體重</th>\n",
       "    </tr>\n",
       "  </thead>\n",
       "  <tbody>\n",
       "    <tr>\n",
       "      <th>0</th>\n",
       "      <td>吳宗軒</td>\n",
       "      <td>2</td>\n",
       "      <td>502</td>\n",
       "      <td>1</td>\n",
       "      <td>11</td>\n",
       "      <td>7月9日</td>\n",
       "      <td>186.0</td>\n",
       "      <td>440.0</td>\n",
       "      <td>24.0</td>\n",
       "      <td>0.48</td>\n",
       "      <td>80.0</td>\n",
       "    </tr>\n",
       "    <tr>\n",
       "      <th>1</th>\n",
       "      <td>黃世豪</td>\n",
       "      <td>0</td>\n",
       "      <td>383</td>\n",
       "      <td>1</td>\n",
       "      <td>5</td>\n",
       "      <td>1月1日</td>\n",
       "      <td>183.0</td>\n",
       "      <td>342.0</td>\n",
       "      <td>24.0</td>\n",
       "      <td>0.52</td>\n",
       "      <td>85.0</td>\n",
       "    </tr>\n",
       "    <tr>\n",
       "      <th>2</th>\n",
       "      <td>張閔舜</td>\n",
       "      <td>0</td>\n",
       "      <td>313</td>\n",
       "      <td>1</td>\n",
       "      <td>16</td>\n",
       "      <td>4月27日</td>\n",
       "      <td>180.0</td>\n",
       "      <td>276.0</td>\n",
       "      <td>24.0</td>\n",
       "      <td>0.40</td>\n",
       "      <td>78.0</td>\n",
       "    </tr>\n",
       "    <tr>\n",
       "      <th>3</th>\n",
       "      <td>張善源</td>\n",
       "      <td>0</td>\n",
       "      <td>290</td>\n",
       "      <td>1</td>\n",
       "      <td>15</td>\n",
       "      <td>2月25日</td>\n",
       "      <td>187.0</td>\n",
       "      <td>253.0</td>\n",
       "      <td>24.0</td>\n",
       "      <td>0.55</td>\n",
       "      <td>84.0</td>\n",
       "    </tr>\n",
       "    <tr>\n",
       "      <th>4</th>\n",
       "      <td>焦璿誠</td>\n",
       "      <td>0</td>\n",
       "      <td>288</td>\n",
       "      <td>1</td>\n",
       "      <td>20</td>\n",
       "      <td>6月9日</td>\n",
       "      <td>185.0</td>\n",
       "      <td>252.0</td>\n",
       "      <td>24.0</td>\n",
       "      <td>0.47</td>\n",
       "      <td>76.0</td>\n",
       "    </tr>\n",
       "  </tbody>\n",
       "</table>\n",
       "</div>"
      ],
      "text/plain": [
       "    球員  位置   得分  性別  號碼     生日     身高     攻擊    場數   得分率    體重\n",
       "0  吳宗軒   2  502   1  11   7月9日  186.0  440.0  24.0  0.48  80.0\n",
       "1  黃世豪   0  383   1   5   1月1日  183.0  342.0  24.0  0.52  85.0\n",
       "2  張閔舜   0  313   1  16  4月27日  180.0  276.0  24.0  0.40  78.0\n",
       "3  張善源   0  290   1  15  2月25日  187.0  253.0  24.0  0.55  84.0\n",
       "4  焦璿誠   0  288   1  20   6月9日  185.0  252.0  24.0  0.47  76.0"
      ]
     },
     "execution_count": 21,
     "metadata": {},
     "output_type": "execute_result"
    }
   ],
   "source": [
    "df_final.head()"
   ]
  },
  {
   "cell_type": "markdown",
   "metadata": {},
   "source": [
    "## 2.資料分析"
   ]
  },
  {
   "cell_type": "markdown",
   "metadata": {},
   "source": [
    "### 2-1 身高高的人打排球具有絕對優勢嗎？先來看看身高與攻擊手表現的關係"
   ]
  },
  {
   "cell_type": "markdown",
   "metadata": {},
   "source": [
    "### 2-1-1看看是不是身高愈高的攻擊手表現愈好？以選手身高預測總得分"
   ]
  },
  {
   "cell_type": "markdown",
   "metadata": {},
   "source": [
    "#### 先挑出隊上的攻擊手"
   ]
  },
  {
   "cell_type": "code",
   "execution_count": 22,
   "metadata": {},
   "outputs": [],
   "source": [
    "df_attack = df_final[(df_final['位置'] != 5) & (df_final['位置'] != 4)].copy()"
   ]
  },
  {
   "cell_type": "code",
   "execution_count": 23,
   "metadata": {},
   "outputs": [],
   "source": [
    "x = np.array(df_attack['身高'])\n",
    "y = np.array(df_attack['得分'])"
   ]
  },
  {
   "cell_type": "code",
   "execution_count": 24,
   "metadata": {},
   "outputs": [
    {
     "data": {
      "text/plain": [
       "<matplotlib.collections.PathCollection at 0x1c4f059ae80>"
      ]
     },
     "execution_count": 24,
     "metadata": {},
     "output_type": "execute_result"
    },
    {
     "data": {
      "image/png": "[encoded data removed]",
      "text/plain": [
       "<Figure size 432x288 with 1 Axes>"
      ]
     },
     "metadata": {
      "needs_background": "light"
     },
     "output_type": "display_data"
    }
   ],
   "source": [
    "plt.scatter(x,y)"
   ]
  },
  {
   "cell_type": "code",
   "execution_count": 25,
   "metadata": {},
   "outputs": [
    {
     "data": {
      "text/plain": [
       "LinearRegression(copy_X=True, fit_intercept=True, n_jobs=None,\n",
       "         normalize=False)"
      ]
     },
     "execution_count": 25,
     "metadata": {},
     "output_type": "execute_result"
    }
   ],
   "source": [
    "from sklearn.model_selection import train_test_split\n",
    "X = x.reshape(len(x), 1)\n",
    "#分離資料\n",
    "x_train, x_test, y_train, y_test = train_test_split(X, y, test_size = 0.3, random_state = 100)\n",
    "#開線性回歸\n",
    "regr = LinearRegression()\n",
    "#訓練\n",
    "regr.fit(x_train, y_train)"
   ]
  },
  {
   "cell_type": "code",
   "execution_count": 26,
   "metadata": {},
   "outputs": [],
   "source": [
    "Y_pred = regr.predict(x_test)"
   ]
  },
  {
   "cell_type": "markdown",
   "metadata": {},
   "source": [
    "#### 結果"
   ]
  },
  {
   "cell_type": "code",
   "execution_count": 27,
   "metadata": {},
   "outputs": [
    {
     "data": {
      "text/plain": [
       "[<matplotlib.lines.Line2D at 0x1c4f060e2e8>]"
      ]
     },
     "execution_count": 27,
     "metadata": {},
     "output_type": "execute_result"
    },
    {
     "data": {
      "image/png": "[encoded data removed]",
      "text/plain": [
       "<Figure size 432x288 with 1 Axes>"
      ]
     },
     "metadata": {
      "needs_background": "light"
     },
     "output_type": "display_data"
    }
   ],
   "source": [
    "plt.scatter(x_test, y_test)\n",
    "plt.plot(x_test, Y_pred, 'g')"
   ]
  },
  {
   "cell_type": "code",
   "execution_count": 28,
   "metadata": {},
   "outputs": [
    {
     "name": "stdout",
     "output_type": "stream",
     "text": [
      "Rsquared = 0.02341744347377328\n",
      "係數為 [-1.53107333]\n"
     ]
    }
   ],
   "source": [
    "print('Rsquared =', regr.score(x_train, y_train))\n",
    "print('係數為', regr.coef_)"
   ]
  },
  {
   "cell_type": "markdown",
   "metadata": {},
   "source": [
    "#### 小結: 身高對得分的解釋變異量很低，而且居然是負相關，看來能不能成為得分王身高並不是最大的考量，不過得分數當然跟其他因子有關(例如:隊上的戰術、配球、上場的局數)，因此接下來改用得分率(攻擊得分/攻擊數)來代表選手的表現。"
   ]
  },
  {
   "cell_type": "markdown",
   "metadata": {},
   "source": [
    "### 2-1-2 那愈高的攻擊手攻擊得分率會愈高嗎？"
   ]
  },
  {
   "cell_type": "code",
   "execution_count": 29,
   "metadata": {},
   "outputs": [],
   "source": [
    "x1 = np.array(df_attack['身高'])\n",
    "y1 = np.array(df_attack['得分率'])"
   ]
  },
  {
   "cell_type": "code",
   "execution_count": 30,
   "metadata": {},
   "outputs": [
    {
     "data": {
      "text/plain": [
       "<matplotlib.collections.PathCollection at 0x1c4f06b43c8>"
      ]
     },
     "execution_count": 30,
     "metadata": {},
     "output_type": "execute_result"
    },
    {
     "data": {
      "image/png": "[encoded data removed]",
      "text/plain": [
       "<Figure size 432x288 with 1 Axes>"
      ]
     },
     "metadata": {
      "needs_background": "light"
     },
     "output_type": "display_data"
    }
   ],
   "source": [
    "plt.scatter(x1, y1)"
   ]
  },
  {
   "cell_type": "code",
   "execution_count": 31,
   "metadata": {},
   "outputs": [
    {
     "data": {
      "text/plain": [
       "LinearRegression(copy_X=True, fit_intercept=True, n_jobs=None,\n",
       "         normalize=False)"
      ]
     },
     "execution_count": 31,
     "metadata": {},
     "output_type": "execute_result"
    }
   ],
   "source": [
    "X1 = x1.reshape(len(x1), 1)\n",
    "#分離資料\n",
    "x_train, x_test, y_train, y_test = train_test_split(X1, y1, test_size = 0.3, random_state = 100)\n",
    "#開線性回歸\n",
    "regr = LinearRegression()\n",
    "#訓練\n",
    "regr.fit(x_train, y_train)"
   ]
  },
  {
   "cell_type": "code",
   "execution_count": 32,
   "metadata": {},
   "outputs": [],
   "source": [
    "Y_pred = regr.predict(x_test)"
   ]
  },
  {
   "cell_type": "code",
   "execution_count": 33,
   "metadata": {},
   "outputs": [
    {
     "data": {
      "text/plain": [
       "[<matplotlib.lines.Line2D at 0x1c4f06eebe0>]"
      ]
     },
     "execution_count": 33,
     "metadata": {},
     "output_type": "execute_result"
    },
    {
     "data": {
      "image/png": "[encoded data removed]",
      "text/plain": [
       "<Figure size 432x288 with 1 Axes>"
      ]
     },
     "metadata": {
      "needs_background": "light"
     },
     "output_type": "display_data"
    }
   ],
   "source": [
    "plt.scatter(x_test, y_test)\n",
    "plt.plot(x_test, Y_pred, 'g')"
   ]
  },
  {
   "cell_type": "code",
   "execution_count": 34,
   "metadata": {},
   "outputs": [
    {
     "name": "stdout",
     "output_type": "stream",
     "text": [
      "Rsquared = 0.5124716016291679\n",
      "係數為 [0.00791718]\n"
     ]
    }
   ],
   "source": [
    "print('Rsquared =', regr.score(x_train, y_train))\n",
    "print('係數為', regr.coef_)"
   ]
  },
  {
   "cell_type": "markdown",
   "metadata": {},
   "source": [
    "#### 看起來似乎合理多了，但左下角似乎有個界外值在干擾(得分率最低的)，拿掉看看"
   ]
  },
  {
   "cell_type": "code",
   "execution_count": 35,
   "metadata": {},
   "outputs": [],
   "source": [
    "df_attack2 = df_attack[df_attack['得分率'] > min(df_attack.得分率)]"
   ]
  },
  {
   "cell_type": "code",
   "execution_count": 36,
   "metadata": {},
   "outputs": [],
   "source": [
    "x2 = np.array(df_attack2['身高'])\n",
    "y2 = np.array(df_attack2['得分率'])"
   ]
  },
  {
   "cell_type": "code",
   "execution_count": 37,
   "metadata": {},
   "outputs": [
    {
     "data": {
      "text/plain": [
       "<matplotlib.collections.PathCollection at 0x1c4f077ed30>"
      ]
     },
     "execution_count": 37,
     "metadata": {},
     "output_type": "execute_result"
    },
    {
     "data": {
      "image/png": "[encoded data removed]",
      "text/plain": [
       "<Figure size 432x288 with 1 Axes>"
      ]
     },
     "metadata": {
      "needs_background": "light"
     },
     "output_type": "display_data"
    }
   ],
   "source": [
    "plt.scatter(x2, y2)"
   ]
  },
  {
   "cell_type": "code",
   "execution_count": 38,
   "metadata": {},
   "outputs": [
    {
     "data": {
      "text/plain": [
       "LinearRegression(copy_X=True, fit_intercept=True, n_jobs=None,\n",
       "         normalize=False)"
      ]
     },
     "execution_count": 38,
     "metadata": {},
     "output_type": "execute_result"
    }
   ],
   "source": [
    "X2 = x2.reshape(len(x2), 1)\n",
    "#分離資料\n",
    "x_train, x_test, y_train, y_test = train_test_split(X2, y2, test_size = 0.3, random_state = 100)\n",
    "#開線性回歸\n",
    "regr = LinearRegression()\n",
    "#訓練\n",
    "regr.fit(x_train, y_train)"
   ]
  },
  {
   "cell_type": "code",
   "execution_count": 39,
   "metadata": {},
   "outputs": [],
   "source": [
    "Y_pred = regr.predict(x_test)"
   ]
  },
  {
   "cell_type": "code",
   "execution_count": 40,
   "metadata": {},
   "outputs": [
    {
     "data": {
      "text/plain": [
       "[<matplotlib.lines.Line2D at 0x1c4f07bfc18>]"
      ]
     },
     "execution_count": 40,
     "metadata": {},
     "output_type": "execute_result"
    },
    {
     "data": {
      "image/png": "[encoded data removed]",
      "text/plain": [
       "<Figure size 432x288 with 1 Axes>"
      ]
     },
     "metadata": {
      "needs_background": "light"
     },
     "output_type": "display_data"
    }
   ],
   "source": [
    "plt.scatter(x_test, y_test)\n",
    "plt.plot(x_test, Y_pred, 'g')"
   ]
  },
  {
   "cell_type": "code",
   "execution_count": 41,
   "metadata": {},
   "outputs": [
    {
     "name": "stdout",
     "output_type": "stream",
     "text": [
      "Rsquared = 0.5389165465741319\n",
      "係數為 [0.00787848]\n"
     ]
    }
   ],
   "source": [
    "print('Rsquared =', regr.score(x_train, y_train))\n",
    "print('係數為', regr.coef_)"
   ]
  },
  {
   "cell_type": "markdown",
   "metadata": {},
   "source": [
    "#### 小結：整體成正相關，解釋變異量稍微提升，但也不是很高"
   ]
  },
  {
   "cell_type": "markdown",
   "metadata": {},
   "source": [
    "### 2-1結論：看來身高高具有優勢，但不高的人也還是很有機會的！"
   ]
  },
  {
   "cell_type": "markdown",
   "metadata": {},
   "source": [
    "## 2-2 在排球運動裡性別有影響嗎？"
   ]
  },
  {
   "cell_type": "markdown",
   "metadata": {},
   "source": [
    "### 2-2-1 簡單用性別與身高來預測一下分組看看，是不是先天就決定了你未來"
   ]
  },
  {
   "cell_type": "code",
   "execution_count": 42,
   "metadata": {},
   "outputs": [],
   "source": [
    "## 先增加高分組與低分組\n",
    "df_attack.得分率.mean()\n",
    "df_attack['高低分組'] = df_attack['得分率'] > df_attack.得分率.mean()\n",
    "df_attack['高低分組'].replace(True, 1, inplace = True)\n",
    "df_attack['高低分組'].replace(False, 0, inplace = True)"
   ]
  },
  {
   "cell_type": "code",
   "execution_count": 43,
   "metadata": {
    "scrolled": true
   },
   "outputs": [],
   "source": [
    "X_data = df_attack.iloc[:, [3, 6]]\n",
    "Y_data = df_attack.高低分組"
   ]
  },
  {
   "cell_type": "code",
   "execution_count": 44,
   "metadata": {},
   "outputs": [
    {
     "data": {
      "text/plain": [
       "<matplotlib.collections.PathCollection at 0x1c4f08535f8>"
      ]
     },
     "execution_count": 44,
     "metadata": {},
     "output_type": "execute_result"
    },
    {
     "data": {
      "image/png": "[encoded data removed]",
      "text/plain": [
       "<Figure size 432x288 with 1 Axes>"
      ]
     },
     "metadata": {
      "needs_background": "light"
     },
     "output_type": "display_data"
    }
   ],
   "source": [
    "plt.scatter(X_data['性別'], X_data['身高'], c = Y_data)"
   ]
  },
  {
   "cell_type": "code",
   "execution_count": 45,
   "metadata": {},
   "outputs": [],
   "source": [
    "x_train, x_test, y_train, y_test = train_test_split(X_data, Y_data, test_size = 0.2, random_state = 10)"
   ]
  },
  {
   "cell_type": "code",
   "execution_count": 46,
   "metadata": {},
   "outputs": [],
   "source": [
    "from sklearn.svm import SVC\n",
    "clf = SVC()"
   ]
  },
  {
   "cell_type": "code",
   "execution_count": 47,
   "metadata": {},
   "outputs": [
    {
     "name": "stderr",
     "output_type": "stream",
     "text": [
      "c:\\users\\ts105\\appdata\\local\\programs\\python\\python37\\lib\\site-packages\\sklearn\\svm\\base.py:196: FutureWarning: The default value of gamma will change from 'auto' to 'scale' in version 0.22 to account better for unscaled features. Set gamma explicitly to 'auto' or 'scale' to avoid this warning.\n",
      "  \"avoid this warning.\", FutureWarning)\n"
     ]
    },
    {
     "data": {
      "text/plain": [
       "SVC(C=1.0, cache_size=200, class_weight=None, coef0=0.0,\n",
       "  decision_function_shape='ovr', degree=3, gamma='auto_deprecated',\n",
       "  kernel='rbf', max_iter=-1, probability=False, random_state=None,\n",
       "  shrinking=True, tol=0.001, verbose=False)"
      ]
     },
     "execution_count": 47,
     "metadata": {},
     "output_type": "execute_result"
    }
   ],
   "source": [
    "clf.fit(x_train, y_train)"
   ]
  },
  {
   "cell_type": "code",
   "execution_count": 48,
   "metadata": {},
   "outputs": [],
   "source": [
    "y_predict = clf.predict(x_test)"
   ]
  },
  {
   "cell_type": "code",
   "execution_count": 49,
   "metadata": {},
   "outputs": [
    {
     "data": {
      "text/plain": [
       "<matplotlib.collections.PathCollection at 0x1c4f08d3cc0>"
      ]
     },
     "execution_count": 49,
     "metadata": {},
     "output_type": "execute_result"
    },
    {
     "data": {
      "image/png": "[encoded data removed]",
      "text/plain": [
       "<Figure size 432x288 with 1 Axes>"
      ]
     },
     "metadata": {
      "needs_background": "light"
     },
     "output_type": "display_data"
    }
   ],
   "source": [
    "plt.scatter(x_train['性別'], x_train['身高'], c = y_train)"
   ]
  },
  {
   "cell_type": "code",
   "execution_count": 50,
   "metadata": {},
   "outputs": [
    {
     "data": {
      "text/plain": [
       "0.5384615384615384"
      ]
     },
     "execution_count": 50,
     "metadata": {},
     "output_type": "execute_result"
    }
   ],
   "source": [
    "from sklearn.metrics import accuracy_score\n",
    "accuracy_score(y_test, y_predict)"
   ]
  },
  {
   "cell_type": "markdown",
   "metadata": {},
   "source": [
    "#### 小結：若看一個人的性別與身高，對於他的表現好壞似乎預測準確度似乎不太高，大家不用太擔心，好好練習還是可以突破先天的困境"
   ]
  },
  {
   "cell_type": "markdown",
   "metadata": {},
   "source": [
    "### 2-2-2 但性別真的無關嗎？簡單畫個圖來看看身高、得分率與性別關係"
   ]
  },
  {
   "cell_type": "code",
   "execution_count": 51,
   "metadata": {},
   "outputs": [],
   "source": [
    "X_data1 = df_attack.iloc[:, [6, 9]]\n",
    "Y_data1 = df_attack.性別"
   ]
  },
  {
   "cell_type": "code",
   "execution_count": 59,
   "metadata": {},
   "outputs": [
    {
     "data": {
      "text/plain": [
       "<matplotlib.collections.PathCollection at 0x1c4f09bfba8>"
      ]
     },
     "execution_count": 59,
     "metadata": {},
     "output_type": "execute_result"
    },
    {
     "data": {
      "image/png": "[encoded data removed]",
      "text/plain": [
       "<Figure size 432x288 with 1 Axes>"
      ]
     },
     "metadata": {
      "needs_background": "light"
     },
     "output_type": "display_data"
    }
   ],
   "source": [
    "plt.scatter(X_data1['身高'], X_data1['得分率'], c = Y_data1)"
   ]
  },
  {
   "cell_type": "markdown",
   "metadata": {},
   "source": [
    "####  小結：不同性別在身高與得分率的表現上看起來還是有差的。"
   ]
  },
  {
   "cell_type": "markdown",
   "metadata": {},
   "source": [
    "### 總結：對排球員而言，雖然先天上的特質與排球表現有正相關，但預測力並不是很高，後天的努力還是很重要的！"
   ]
  }
 ],
 "metadata": {
  "kernelspec": {
   "display_name": "Python 3",
   "language": "python",
   "name": "python3"
  },
  "language_info": {
   "codemirror_mode": {
    "name": "ipython",
    "version": 3
   },
   "file_extension": ".py",
   "mimetype": "text/x-python",
   "name": "python",
   "nbconvert_exporter": "python",
   "pygments_lexer": "ipython3",
   "version": "3.7.0"
  }
 },
 "nbformat": 4,
 "nbformat_minor": 2
}
