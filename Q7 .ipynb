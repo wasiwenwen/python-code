{
 "cells": [
  {
   "cell_type": "markdown",
   "metadata": {},
   "source": [
    "# 訓練一個正確率90%的神經網路"
   ]
  },
  {
   "cell_type": "markdown",
   "metadata": {},
   "source": [
    "## 讀入基本套件"
   ]
  },
  {
   "cell_type": "code",
   "execution_count": 1,
   "metadata": {},
   "outputs": [
    {
     "name": "stdout",
     "output_type": "stream",
     "text": [
      "env: KERAS_BACKEND=tensorflow\n"
     ]
    },
    {
     "name": "stderr",
     "output_type": "stream",
     "text": [
      "Using TensorFlow backend.\n"
     ]
    }
   ],
   "source": [
    "%env KERAS_BACKEND=tensorflow\n",
    "%matplotlib inline\n",
    "\n",
    "import numpy as np\n",
    "import matplotlib.pyplot as plt\n",
    "from keras.models import Sequential\n",
    "from keras.layers import Dense, Activation\n",
    "from keras.optimizers import SGD"
   ]
  },
  {
   "cell_type": "code",
   "execution_count": 2,
   "metadata": {},
   "outputs": [],
   "source": [
    "from keras.datasets import mnist"
   ]
  },
  {
   "cell_type": "code",
   "execution_count": 3,
   "metadata": {},
   "outputs": [],
   "source": [
    "#讀入data\n",
    "(x_train, y_train), (x_test, y_test) = mnist.load_data()"
   ]
  },
  {
   "cell_type": "code",
   "execution_count": 4,
   "metadata": {},
   "outputs": [
    {
     "data": {
      "text/plain": [
       "10000"
      ]
     },
     "execution_count": 4,
     "metadata": {},
     "output_type": "execute_result"
    }
   ],
   "source": [
    "#檢查data\n",
    "len(x_train)\n",
    "len(x_test)"
   ]
  },
  {
   "cell_type": "code",
   "execution_count": 5,
   "metadata": {},
   "outputs": [],
   "source": [
    "x_train = x_train.reshape(60000, 784)\n",
    "x_test = x_test.reshape(10000, 784)"
   ]
  },
  {
   "cell_type": "markdown",
   "metadata": {},
   "source": [
    "調整輸出格式"
   ]
  },
  {
   "cell_type": "code",
   "execution_count": 6,
   "metadata": {},
   "outputs": [],
   "source": [
    "from keras.utils import np_utils"
   ]
  },
  {
   "cell_type": "code",
   "execution_count": 7,
   "metadata": {},
   "outputs": [],
   "source": [
    "y_train = np_utils.to_categorical(y_train, 10)\n",
    "y_test = np_utils.to_categorical(y_test, 10)"
   ]
  },
  {
   "cell_type": "markdown",
   "metadata": {},
   "source": [
    "## 先用上課的參數跑一個成果不是太好的的神經網絡，當作改善標準(model_0)"
   ]
  },
  {
   "cell_type": "markdown",
   "metadata": {},
   "source": [
    "- 使用 2 個 hidden layers\n",
    "- Hidden layer 1 用 4 個神經元\n",
    "- Hidden layer 2 用 2 個神經元\n",
    "- Activation Function 唯一指名 sigmoid\n",
    "- loss function 用 mse\n",
    "- optimizer 用標準的 SGD\n",
    "- learning rate 設0.087\n",
    "- batch_size = 100\n",
    "- epochs = 20"
   ]
  },
  {
   "cell_type": "code",
   "execution_count": 8,
   "metadata": {},
   "outputs": [
    {
     "name": "stdout",
     "output_type": "stream",
     "text": [
      "WARNING:tensorflow:From c:\\users\\ts105\\appdata\\local\\programs\\python\\python37\\lib\\site-packages\\tensorflow\\python\\framework\\op_def_library.py:263: colocate_with (from tensorflow.python.framework.ops) is deprecated and will be removed in a future version.\n",
      "Instructions for updating:\n",
      "Colocations handled automatically by placer.\n"
     ]
    }
   ],
   "source": [
    "model_0 = Sequential()\n",
    "model_0.add(Dense(4, input_dim = 784))\n",
    "model_0.add(Activation('sigmoid'))"
   ]
  },
  {
   "cell_type": "code",
   "execution_count": 9,
   "metadata": {},
   "outputs": [],
   "source": [
    "model_0.add(Dense(2))\n",
    "model_0.add(Activation('sigmoid'))"
   ]
  },
  {
   "cell_type": "code",
   "execution_count": 10,
   "metadata": {},
   "outputs": [],
   "source": [
    "model_0.add(Dense(10))\n",
    "model_0.add(Activation('softmax'))"
   ]
  },
  {
   "cell_type": "code",
   "execution_count": 11,
   "metadata": {},
   "outputs": [],
   "source": [
    "model_0.compile(loss='mse', optimizer = SGD(lr = 0.087), metrics=['accuracy'])"
   ]
  },
  {
   "cell_type": "code",
   "execution_count": 12,
   "metadata": {},
   "outputs": [
    {
     "name": "stdout",
     "output_type": "stream",
     "text": [
      "_________________________________________________________________\n",
      "Layer (type)                 Output Shape              Param #   \n",
      "=================================================================\n",
      "dense_1 (Dense)              (None, 4)                 3140      \n",
      "_________________________________________________________________\n",
      "activation_1 (Activation)    (None, 4)                 0         \n",
      "_________________________________________________________________\n",
      "dense_2 (Dense)              (None, 2)                 10        \n",
      "_________________________________________________________________\n",
      "activation_2 (Activation)    (None, 2)                 0         \n",
      "_________________________________________________________________\n",
      "dense_3 (Dense)              (None, 10)                30        \n",
      "_________________________________________________________________\n",
      "activation_3 (Activation)    (None, 10)                0         \n",
      "=================================================================\n",
      "Total params: 3,180\n",
      "Trainable params: 3,180\n",
      "Non-trainable params: 0\n",
      "_________________________________________________________________\n"
     ]
    }
   ],
   "source": [
    "model_0.summary()"
   ]
  },
  {
   "cell_type": "code",
   "execution_count": 13,
   "metadata": {},
   "outputs": [
    {
     "name": "stdout",
     "output_type": "stream",
     "text": [
      "WARNING:tensorflow:From c:\\users\\ts105\\appdata\\local\\programs\\python\\python37\\lib\\site-packages\\tensorflow\\python\\ops\\math_ops.py:3066: to_int32 (from tensorflow.python.ops.math_ops) is deprecated and will be removed in a future version.\n",
      "Instructions for updating:\n",
      "Use tf.cast instead.\n",
      "Train on 60000 samples, validate on 10000 samples\n",
      "Epoch 1/20\n",
      "60000/60000 [==============================] - 1s 20us/step - loss: 0.0901 - acc: 0.1050 - val_loss: 0.0899 - val_acc: 0.1442\n",
      "Epoch 2/20\n",
      "60000/60000 [==============================] - 1s 17us/step - loss: 0.0898 - acc: 0.1419 - val_loss: 0.0897 - val_acc: 0.1482\n",
      "Epoch 3/20\n",
      "60000/60000 [==============================] - 1s 14us/step - loss: 0.0896 - acc: 0.1608 - val_loss: 0.0895 - val_acc: 0.1661\n",
      "Epoch 4/20\n",
      "60000/60000 [==============================] - 1s 15us/step - loss: 0.0894 - acc: 0.1666 - val_loss: 0.0893 - val_acc: 0.1722\n",
      "Epoch 5/20\n",
      "60000/60000 [==============================] - 1s 15us/step - loss: 0.0892 - acc: 0.1717 - val_loss: 0.0892 - val_acc: 0.1755\n",
      "Epoch 6/20\n",
      "60000/60000 [==============================] - 1s 14us/step - loss: 0.0891 - acc: 0.1746 - val_loss: 0.0890 - val_acc: 0.1792\n",
      "Epoch 7/20\n",
      "60000/60000 [==============================] - 1s 14us/step - loss: 0.0889 - acc: 0.1788 - val_loss: 0.0889 - val_acc: 0.1811\n",
      "Epoch 8/20\n",
      "60000/60000 [==============================] - 1s 20us/step - loss: 0.0888 - acc: 0.1823 - val_loss: 0.0887 - val_acc: 0.1842\n",
      "Epoch 9/20\n",
      "60000/60000 [==============================] - 1s 13us/step - loss: 0.0887 - acc: 0.1844 - val_loss: 0.0886 - val_acc: 0.1847\n",
      "Epoch 10/20\n",
      "60000/60000 [==============================] - 1s 13us/step - loss: 0.0885 - acc: 0.1855 - val_loss: 0.0885 - val_acc: 0.1858\n",
      "Epoch 11/20\n",
      "60000/60000 [==============================] - 1s 14us/step - loss: 0.0884 - acc: 0.1867 - val_loss: 0.0883 - val_acc: 0.1856\n",
      "Epoch 12/20\n",
      "60000/60000 [==============================] - 1s 12us/step - loss: 0.0883 - acc: 0.1869 - val_loss: 0.0882 - val_acc: 0.1864\n",
      "Epoch 13/20\n",
      "60000/60000 [==============================] - 1s 12us/step - loss: 0.0881 - acc: 0.1877 - val_loss: 0.0880 - val_acc: 0.1866\n",
      "Epoch 14/20\n",
      "60000/60000 [==============================] - 1s 12us/step - loss: 0.0880 - acc: 0.1880 - val_loss: 0.0879 - val_acc: 0.1882\n",
      "Epoch 15/20\n",
      "60000/60000 [==============================] - 1s 12us/step - loss: 0.0878 - acc: 0.1877 - val_loss: 0.0877 - val_acc: 0.1859\n",
      "Epoch 16/20\n",
      "60000/60000 [==============================] - 1s 13us/step - loss: 0.0877 - acc: 0.1883 - val_loss: 0.0875 - val_acc: 0.1866\n",
      "Epoch 17/20\n",
      "60000/60000 [==============================] - 1s 14us/step - loss: 0.0875 - acc: 0.1876 - val_loss: 0.0874 - val_acc: 0.1870\n",
      "Epoch 18/20\n",
      "60000/60000 [==============================] - 1s 21us/step - loss: 0.0873 - acc: 0.1878 - val_loss: 0.0872 - val_acc: 0.1880\n",
      "Epoch 19/20\n",
      "60000/60000 [==============================] - 1s 18us/step - loss: 0.0871 - acc: 0.1879 - val_loss: 0.0870 - val_acc: 0.1879\n",
      "Epoch 20/20\n",
      "60000/60000 [==============================] - 1s 15us/step - loss: 0.0869 - acc: 0.1851 - val_loss: 0.0868 - val_acc: 0.1851\n"
     ]
    }
   ],
   "source": [
    "model_0_20 = model_0.fit(x_train, y_train, batch_size = 100, epochs = 20, validation_data = (x_test, y_test))"
   ]
  },
  {
   "cell_type": "code",
   "execution_count": 14,
   "metadata": {
    "scrolled": true
   },
   "outputs": [
    {
     "name": "stdout",
     "output_type": "stream",
     "text": [
      "10000/10000 [==============================] - 0s 17us/step\n",
      "loss: 0.08679383916854859\n",
      "正確率 0.1851\n"
     ]
    }
   ],
   "source": [
    "score = model_0.evaluate(x_test, y_test)\n",
    "print('loss:', score[0])\n",
    "print('正確率', score[1])"
   ]
  },
  {
   "cell_type": "markdown",
   "metadata": {},
   "source": [
    "多訓練幾次看會不會變好(重複執行下列程式碼)"
   ]
  },
  {
   "cell_type": "code",
   "execution_count": 57,
   "metadata": {},
   "outputs": [
    {
     "name": "stdout",
     "output_type": "stream",
     "text": [
      "Train on 60000 samples, validate on 10000 samples\n",
      "Epoch 1/20\n",
      "60000/60000 [==============================] - 1s 15us/step - loss: 0.0641 - acc: 0.4618 - val_loss: 0.0645 - val_acc: 0.4601\n",
      "Epoch 2/20\n",
      "60000/60000 [==============================] - 1s 15us/step - loss: 0.0642 - acc: 0.4609 - val_loss: 0.0647 - val_acc: 0.4541\n",
      "Epoch 3/20\n",
      "60000/60000 [==============================] - 1s 14us/step - loss: 0.0641 - acc: 0.4625 - val_loss: 0.0642 - val_acc: 0.4569\n",
      "Epoch 4/20\n",
      "60000/60000 [==============================] - 1s 14us/step - loss: 0.0640 - acc: 0.4584 - val_loss: 0.0642 - val_acc: 0.4564\n",
      "Epoch 5/20\n",
      "60000/60000 [==============================] - 1s 14us/step - loss: 0.0641 - acc: 0.4585 - val_loss: 0.0644 - val_acc: 0.4513\n",
      "Epoch 6/20\n",
      "60000/60000 [==============================] - 1s 14us/step - loss: 0.0641 - acc: 0.4610 - val_loss: 0.0642 - val_acc: 0.4570\n",
      "Epoch 7/20\n",
      "60000/60000 [==============================] - 1s 15us/step - loss: 0.0638 - acc: 0.4620 - val_loss: 0.0641 - val_acc: 0.4577\n",
      "Epoch 8/20\n",
      "60000/60000 [==============================] - 1s 14us/step - loss: 0.0639 - acc: 0.4583 - val_loss: 0.0644 - val_acc: 0.4511\n",
      "Epoch 9/20\n",
      "60000/60000 [==============================] - 1s 14us/step - loss: 0.0639 - acc: 0.4589 - val_loss: 0.0639 - val_acc: 0.4595\n",
      "Epoch 10/20\n",
      "60000/60000 [==============================] - 1s 14us/step - loss: 0.0637 - acc: 0.4626 - val_loss: 0.0638 - val_acc: 0.4587\n",
      "Epoch 11/20\n",
      "60000/60000 [==============================] - 1s 15us/step - loss: 0.0638 - acc: 0.4598 - val_loss: 0.0643 - val_acc: 0.4464\n",
      "Epoch 12/20\n",
      "60000/60000 [==============================] - 1s 17us/step - loss: 0.0637 - acc: 0.4601 - val_loss: 0.0637 - val_acc: 0.4555\n",
      "Epoch 13/20\n",
      "60000/60000 [==============================] - 1s 15us/step - loss: 0.0636 - acc: 0.4592 - val_loss: 0.0640 - val_acc: 0.4506\n",
      "Epoch 14/20\n",
      "60000/60000 [==============================] - 1s 14us/step - loss: 0.0637 - acc: 0.4588 - val_loss: 0.0641 - val_acc: 0.4562\n",
      "Epoch 15/20\n",
      "60000/60000 [==============================] - 1s 19us/step - loss: 0.0634 - acc: 0.4634 - val_loss: 0.0639 - val_acc: 0.4503\n",
      "Epoch 16/20\n",
      "60000/60000 [==============================] - 1s 18us/step - loss: 0.0634 - acc: 0.4615 - val_loss: 0.0635 - val_acc: 0.4562\n",
      "Epoch 17/20\n",
      "60000/60000 [==============================] - 1s 15us/step - loss: 0.0634 - acc: 0.4615 - val_loss: 0.0638 - val_acc: 0.4580\n",
      "Epoch 18/20\n",
      "60000/60000 [==============================] - 1s 14us/step - loss: 0.0634 - acc: 0.4588 - val_loss: 0.0641 - val_acc: 0.4589\n",
      "Epoch 19/20\n",
      "60000/60000 [==============================] - 1s 14us/step - loss: 0.0633 - acc: 0.4630 - val_loss: 0.0636 - val_acc: 0.4592\n",
      "Epoch 20/20\n",
      "60000/60000 [==============================] - 1s 16us/step - loss: 0.0634 - acc: 0.4603 - val_loss: 0.0636 - val_acc: 0.4619\n"
     ]
    },
    {
     "data": {
      "text/plain": [
       "<keras.callbacks.History at 0x14e414eac50>"
      ]
     },
     "execution_count": 57,
     "metadata": {},
     "output_type": "execute_result"
    }
   ],
   "source": [
    "model_0.fit(x_train, y_train, batch_size = 100, epochs = 20, validation_data = (x_test, y_test))"
   ]
  },
  {
   "cell_type": "code",
   "execution_count": 58,
   "metadata": {},
   "outputs": [
    {
     "name": "stdout",
     "output_type": "stream",
     "text": [
      "10000/10000 [==============================] - 0s 21us/step\n",
      "loss: 0.06364026155471801\n",
      "正確率 0.4619\n"
     ]
    }
   ],
   "source": [
    "score = model_0.evaluate(x_test, y_test)\n",
    "print('loss:', score[0])\n",
    "print('正確率', score[1])"
   ]
  },
  {
   "cell_type": "markdown",
   "metadata": {},
   "source": [
    "### 小結：連續跑幾次後，正確率達到45%"
   ]
  },
  {
   "cell_type": "markdown",
   "metadata": {},
   "source": [
    "## 測試1：調高神經元數(model_1)"
   ]
  },
  {
   "cell_type": "markdown",
   "metadata": {},
   "source": [
    "- 使用 2 個 hidden layers\n",
    "- Hidden layer 1 用 50 個神經元\n",
    "- Hidden layer 2 用 50 個神經元\n",
    "- Activation Function 用 sigmoid\n",
    "- 最後的輸出Activation Function 用 softmax\n",
    "- loss function 用 mse\n",
    "- optimizer 用標準的 SGD\n",
    "- learning rate 設0.087\n",
    "- batch_size = 100\n",
    "- epochs = 20"
   ]
  },
  {
   "cell_type": "code",
   "execution_count": 17,
   "metadata": {},
   "outputs": [],
   "source": [
    "model_1 = Sequential()"
   ]
  },
  {
   "cell_type": "code",
   "execution_count": 18,
   "metadata": {},
   "outputs": [],
   "source": [
    "model_1.add(Dense(50, input_dim = 784))\n",
    "model_1.add(Activation('sigmoid'))"
   ]
  },
  {
   "cell_type": "code",
   "execution_count": 19,
   "metadata": {},
   "outputs": [],
   "source": [
    "model_1.add(Dense(50))\n",
    "model_1.add(Activation('sigmoid'))"
   ]
  },
  {
   "cell_type": "code",
   "execution_count": 20,
   "metadata": {},
   "outputs": [],
   "source": [
    "model_1.add(Dense(10))\n",
    "model_1.add(Activation('softmax'))"
   ]
  },
  {
   "cell_type": "code",
   "execution_count": 21,
   "metadata": {},
   "outputs": [],
   "source": [
    "model_1.compile(loss='mse', optimizer = SGD(lr = 0.087), metrics=['accuracy'])"
   ]
  },
  {
   "cell_type": "code",
   "execution_count": 22,
   "metadata": {},
   "outputs": [
    {
     "name": "stdout",
     "output_type": "stream",
     "text": [
      "_________________________________________________________________\n",
      "Layer (type)                 Output Shape              Param #   \n",
      "=================================================================\n",
      "dense_4 (Dense)              (None, 50)                39250     \n",
      "_________________________________________________________________\n",
      "activation_4 (Activation)    (None, 50)                0         \n",
      "_________________________________________________________________\n",
      "dense_5 (Dense)              (None, 50)                2550      \n",
      "_________________________________________________________________\n",
      "activation_5 (Activation)    (None, 50)                0         \n",
      "_________________________________________________________________\n",
      "dense_6 (Dense)              (None, 10)                510       \n",
      "_________________________________________________________________\n",
      "activation_6 (Activation)    (None, 10)                0         \n",
      "=================================================================\n",
      "Total params: 42,310\n",
      "Trainable params: 42,310\n",
      "Non-trainable params: 0\n",
      "_________________________________________________________________\n"
     ]
    }
   ],
   "source": [
    "model_1.summary()"
   ]
  },
  {
   "cell_type": "code",
   "execution_count": 23,
   "metadata": {},
   "outputs": [
    {
     "name": "stdout",
     "output_type": "stream",
     "text": [
      "Train on 60000 samples, validate on 10000 samples\n",
      "Epoch 1/20\n",
      "60000/60000 [==============================] - 1s 21us/step - loss: 0.0896 - acc: 0.2280 - val_loss: 0.0872 - val_acc: 0.3230\n",
      "Epoch 2/20\n",
      "60000/60000 [==============================] - 1s 17us/step - loss: 0.0855 - acc: 0.3860 - val_loss: 0.0838 - val_acc: 0.5010\n",
      "Epoch 3/20\n",
      "60000/60000 [==============================] - 1s 18us/step - loss: 0.0823 - acc: 0.5153 - val_loss: 0.0805 - val_acc: 0.5243\n",
      "Epoch 4/20\n",
      "60000/60000 [==============================] - 1s 18us/step - loss: 0.0786 - acc: 0.5207 - val_loss: 0.0764 - val_acc: 0.5315\n",
      "Epoch 5/20\n",
      "60000/60000 [==============================] - 1s 16us/step - loss: 0.0741 - acc: 0.5311 - val_loss: 0.0716 - val_acc: 0.5430\n",
      "Epoch 6/20\n",
      "60000/60000 [==============================] - 1s 18us/step - loss: 0.0689 - acc: 0.5560 - val_loss: 0.0662 - val_acc: 0.5829\n",
      "Epoch 7/20\n",
      "60000/60000 [==============================] - 1s 17us/step - loss: 0.0636 - acc: 0.6067 - val_loss: 0.0608 - val_acc: 0.6346\n",
      "Epoch 8/20\n",
      "60000/60000 [==============================] - 1s 17us/step - loss: 0.0585 - acc: 0.6550 - val_loss: 0.0560 - val_acc: 0.6793\n",
      "Epoch 9/20\n",
      "60000/60000 [==============================] - 1s 18us/step - loss: 0.0539 - acc: 0.6964 - val_loss: 0.0516 - val_acc: 0.7151\n",
      "Epoch 10/20\n",
      "60000/60000 [==============================] - 1s 18us/step - loss: 0.0497 - acc: 0.7296 - val_loss: 0.0476 - val_acc: 0.7479\n",
      "Epoch 11/20\n",
      "60000/60000 [==============================] - 1s 18us/step - loss: 0.0459 - acc: 0.7594 - val_loss: 0.0439 - val_acc: 0.7746\n",
      "Epoch 12/20\n",
      "60000/60000 [==============================] - 1s 16us/step - loss: 0.0424 - acc: 0.7808 - val_loss: 0.0405 - val_acc: 0.7932\n",
      "Epoch 13/20\n",
      "60000/60000 [==============================] - 1s 15us/step - loss: 0.0392 - acc: 0.7971 - val_loss: 0.0374 - val_acc: 0.8077\n",
      "Epoch 14/20\n",
      "60000/60000 [==============================] - 1s 15us/step - loss: 0.0362 - acc: 0.8082 - val_loss: 0.0347 - val_acc: 0.8144\n",
      "Epoch 15/20\n",
      "60000/60000 [==============================] - 1s 16us/step - loss: 0.0335 - acc: 0.8211 - val_loss: 0.0319 - val_acc: 0.8322\n",
      "Epoch 16/20\n",
      "60000/60000 [==============================] - 1s 17us/step - loss: 0.0310 - acc: 0.8418 - val_loss: 0.0297 - val_acc: 0.8511\n",
      "Epoch 17/20\n",
      "60000/60000 [==============================] - 1s 16us/step - loss: 0.0287 - acc: 0.8608 - val_loss: 0.0276 - val_acc: 0.8694\n",
      "Epoch 18/20\n",
      "60000/60000 [==============================] - 1s 17us/step - loss: 0.0266 - acc: 0.8747 - val_loss: 0.0257 - val_acc: 0.8775\n",
      "Epoch 19/20\n",
      "60000/60000 [==============================] - 1s 16us/step - loss: 0.0249 - acc: 0.8829 - val_loss: 0.0241 - val_acc: 0.8849\n",
      "Epoch 20/20\n",
      "60000/60000 [==============================] - 1s 22us/step - loss: 0.0234 - acc: 0.8888 - val_loss: 0.0227 - val_acc: 0.8908\n"
     ]
    }
   ],
   "source": [
    "model_1_20 = model_1.fit(x_train, y_train, batch_size = 100, epochs = 20, validation_data = (x_test, y_test))"
   ]
  },
  {
   "cell_type": "code",
   "execution_count": 24,
   "metadata": {},
   "outputs": [
    {
     "name": "stdout",
     "output_type": "stream",
     "text": [
      "10000/10000 [==============================] - 0s 30us/step\n",
      "loss: 0.022710071156919004\n",
      "正確率 0.8908\n"
     ]
    }
   ],
   "source": [
    "score = model_1.evaluate(x_test, y_test)\n",
    "print('loss:', score[0])\n",
    "print('正確率', score[1])"
   ]
  },
  {
   "cell_type": "markdown",
   "metadata": {},
   "source": [
    "#### 看起來很讚，正確率穩定上升，多訓練幾次(重複執行下列程式碼)"
   ]
  },
  {
   "cell_type": "code",
   "execution_count": 61,
   "metadata": {},
   "outputs": [
    {
     "name": "stdout",
     "output_type": "stream",
     "text": [
      "Train on 60000 samples, validate on 10000 samples\n",
      "Epoch 1/20\n",
      "60000/60000 [==============================] - 1s 24us/step - loss: 0.0098 - acc: 0.9423 - val_loss: 0.0108 - val_acc: 0.9316\n",
      "Epoch 2/20\n",
      "60000/60000 [==============================] - 1s 20us/step - loss: 0.0098 - acc: 0.9421 - val_loss: 0.0109 - val_acc: 0.9326\n",
      "Epoch 3/20\n",
      "60000/60000 [==============================] - 1s 20us/step - loss: 0.0097 - acc: 0.9432 - val_loss: 0.0109 - val_acc: 0.9321\n",
      "Epoch 4/20\n",
      "60000/60000 [==============================] - 1s 24us/step - loss: 0.0097 - acc: 0.9434 - val_loss: 0.0109 - val_acc: 0.9302\n",
      "Epoch 5/20\n",
      "60000/60000 [==============================] - 1s 20us/step - loss: 0.0096 - acc: 0.9442 - val_loss: 0.0108 - val_acc: 0.9309\n",
      "Epoch 6/20\n",
      "60000/60000 [==============================] - 1s 21us/step - loss: 0.0095 - acc: 0.9446 - val_loss: 0.0107 - val_acc: 0.9320\n",
      "Epoch 7/20\n",
      "60000/60000 [==============================] - 1s 19us/step - loss: 0.0094 - acc: 0.9446 - val_loss: 0.0106 - val_acc: 0.9339\n",
      "Epoch 8/20\n",
      "60000/60000 [==============================] - 1s 19us/step - loss: 0.0093 - acc: 0.9451 - val_loss: 0.0105 - val_acc: 0.9357\n",
      "Epoch 9/20\n",
      "60000/60000 [==============================] - 1s 19us/step - loss: 0.0094 - acc: 0.9449 - val_loss: 0.0104 - val_acc: 0.9329\n",
      "Epoch 10/20\n",
      "60000/60000 [==============================] - 1s 23us/step - loss: 0.0091 - acc: 0.9461 - val_loss: 0.0104 - val_acc: 0.9341\n",
      "Epoch 11/20\n",
      "60000/60000 [==============================] - 1s 23us/step - loss: 0.0091 - acc: 0.9466 - val_loss: 0.0105 - val_acc: 0.9317\n",
      "Epoch 12/20\n",
      "60000/60000 [==============================] - 1s 22us/step - loss: 0.0091 - acc: 0.9464 - val_loss: 0.0104 - val_acc: 0.9338\n",
      "Epoch 13/20\n",
      "60000/60000 [==============================] - 1s 20us/step - loss: 0.0089 - acc: 0.9474 - val_loss: 0.0104 - val_acc: 0.9338\n",
      "Epoch 14/20\n",
      "60000/60000 [==============================] - 1s 20us/step - loss: 0.0089 - acc: 0.9476 - val_loss: 0.0104 - val_acc: 0.9341\n",
      "Epoch 15/20\n",
      "60000/60000 [==============================] - 1s 21us/step - loss: 0.0088 - acc: 0.9479 - val_loss: 0.0102 - val_acc: 0.9349\n",
      "Epoch 16/20\n",
      "60000/60000 [==============================] - 1s 20us/step - loss: 0.0088 - acc: 0.9481 - val_loss: 0.0102 - val_acc: 0.9354\n",
      "Epoch 17/20\n",
      "60000/60000 [==============================] - 2s 25us/step - loss: 0.0087 - acc: 0.9481 - val_loss: 0.0101 - val_acc: 0.9364\n",
      "Epoch 18/20\n",
      "60000/60000 [==============================] - 1s 24us/step - loss: 0.0086 - acc: 0.9488 - val_loss: 0.0102 - val_acc: 0.9350\n",
      "Epoch 19/20\n",
      "60000/60000 [==============================] - 1s 25us/step - loss: 0.0086 - acc: 0.9495 - val_loss: 0.0101 - val_acc: 0.9354\n",
      "Epoch 20/20\n",
      "60000/60000 [==============================] - 1s 24us/step - loss: 0.0086 - acc: 0.9490 - val_loss: 0.0101 - val_acc: 0.9356\n"
     ]
    },
    {
     "data": {
      "text/plain": [
       "<keras.callbacks.History at 0x14e414ea9b0>"
      ]
     },
     "execution_count": 61,
     "metadata": {},
     "output_type": "execute_result"
    }
   ],
   "source": [
    "model_1.fit(x_train, y_train, batch_size = 100, epochs = 20, validation_data = (x_test, y_test))"
   ]
  },
  {
   "cell_type": "code",
   "execution_count": 62,
   "metadata": {},
   "outputs": [
    {
     "name": "stdout",
     "output_type": "stream",
     "text": [
      "10000/10000 [==============================] - 0s 24us/step\n",
      "loss: 0.010059133320953697\n",
      "正確率 0.9356\n"
     ]
    }
   ],
   "source": [
    "score = model_1.evaluate(x_test, y_test)\n",
    "print('loss:', score[0])\n",
    "print('正確率', score[1])"
   ]
  },
  {
   "cell_type": "markdown",
   "metadata": {},
   "source": [
    "### 測試1結論：把神經元調多，重複訓練幾次後，正確率就穩定破90%了!!成功達標!!最後為94%"
   ]
  },
  {
   "cell_type": "markdown",
   "metadata": {},
   "source": [
    "## 測試2：多設幾個hidden layer(model_2)"
   ]
  },
  {
   "cell_type": "markdown",
   "metadata": {},
   "source": [
    "- 使用 10 個 hidden layers (參考model_1總共也是用100個神經元，平均分到10層)\n",
    "- Hidden layer 1 用 10 個神經元\n",
    "- Hidden layer 2 用 10 個神經元\n",
    "- Hidden layer 3 用 10 個神經元\n",
    "- Hidden layer 4 用 10 個神經元\n",
    "- Hidden layer 5 用 10 個神經元\n",
    "- Hidden layer 6 用 10 個神經元\n",
    "- Hidden layer 7 用 10 個神經元\n",
    "- Hidden layer 8 用 10 個神經元\n",
    "- Hidden layer 9 用 10 個神經元\n",
    "- Hidden layer 10 用 10 個神經元\n",
    "- Activation Function 用 sigmoid\n",
    "- 最後的輸出Activation Function 用 softmax\n",
    "- loss function 用 mse\n",
    "- optimizer 用標準的 SGD\n",
    "- learning rate 設0.087\n",
    "- batch_size = 100\n",
    "- epochs = 20"
   ]
  },
  {
   "cell_type": "code",
   "execution_count": 27,
   "metadata": {},
   "outputs": [],
   "source": [
    "model_2 = Sequential()\n",
    "model_2.add(Dense(10, input_dim = 784))\n",
    "model_2.add(Activation('sigmoid'))"
   ]
  },
  {
   "cell_type": "code",
   "execution_count": 28,
   "metadata": {},
   "outputs": [],
   "source": [
    "model_2.add(Dense(10))\n",
    "model_2.add(Activation('sigmoid'))\n",
    "model_2.add(Dense(10))\n",
    "model_2.add(Activation('sigmoid'))\n",
    "model_2.add(Dense(10))\n",
    "model_2.add(Activation('sigmoid'))\n",
    "model_2.add(Dense(10))\n",
    "model_2.add(Activation('sigmoid'))\n",
    "model_2.add(Dense(10))\n",
    "model_2.add(Activation('sigmoid'))\n",
    "model_2.add(Dense(10))\n",
    "model_2.add(Activation('sigmoid'))\n",
    "model_2.add(Dense(10))\n",
    "model_2.add(Activation('sigmoid'))\n",
    "model_2.add(Dense(10))\n",
    "model_2.add(Activation('sigmoid'))\n",
    "model_2.add(Dense(10))\n",
    "model_2.add(Activation('sigmoid'))\n",
    "model_2.add(Dense(10))\n",
    "model_2.add(Activation('softmax'))"
   ]
  },
  {
   "cell_type": "code",
   "execution_count": 29,
   "metadata": {},
   "outputs": [],
   "source": [
    "model_2.compile(loss='mse', optimizer = SGD(lr = 0.087), metrics=['accuracy'])"
   ]
  },
  {
   "cell_type": "code",
   "execution_count": 30,
   "metadata": {},
   "outputs": [
    {
     "name": "stdout",
     "output_type": "stream",
     "text": [
      "_________________________________________________________________\n",
      "Layer (type)                 Output Shape              Param #   \n",
      "=================================================================\n",
      "dense_7 (Dense)              (None, 10)                7850      \n",
      "_________________________________________________________________\n",
      "activation_7 (Activation)    (None, 10)                0         \n",
      "_________________________________________________________________\n",
      "dense_8 (Dense)              (None, 10)                110       \n",
      "_________________________________________________________________\n",
      "activation_8 (Activation)    (None, 10)                0         \n",
      "_________________________________________________________________\n",
      "dense_9 (Dense)              (None, 10)                110       \n",
      "_________________________________________________________________\n",
      "activation_9 (Activation)    (None, 10)                0         \n",
      "_________________________________________________________________\n",
      "dense_10 (Dense)             (None, 10)                110       \n",
      "_________________________________________________________________\n",
      "activation_10 (Activation)   (None, 10)                0         \n",
      "_________________________________________________________________\n",
      "dense_11 (Dense)             (None, 10)                110       \n",
      "_________________________________________________________________\n",
      "activation_11 (Activation)   (None, 10)                0         \n",
      "_________________________________________________________________\n",
      "dense_12 (Dense)             (None, 10)                110       \n",
      "_________________________________________________________________\n",
      "activation_12 (Activation)   (None, 10)                0         \n",
      "_________________________________________________________________\n",
      "dense_13 (Dense)             (None, 10)                110       \n",
      "_________________________________________________________________\n",
      "activation_13 (Activation)   (None, 10)                0         \n",
      "_________________________________________________________________\n",
      "dense_14 (Dense)             (None, 10)                110       \n",
      "_________________________________________________________________\n",
      "activation_14 (Activation)   (None, 10)                0         \n",
      "_________________________________________________________________\n",
      "dense_15 (Dense)             (None, 10)                110       \n",
      "_________________________________________________________________\n",
      "activation_15 (Activation)   (None, 10)                0         \n",
      "_________________________________________________________________\n",
      "dense_16 (Dense)             (None, 10)                110       \n",
      "_________________________________________________________________\n",
      "activation_16 (Activation)   (None, 10)                0         \n",
      "_________________________________________________________________\n",
      "dense_17 (Dense)             (None, 10)                110       \n",
      "_________________________________________________________________\n",
      "activation_17 (Activation)   (None, 10)                0         \n",
      "=================================================================\n",
      "Total params: 8,950\n",
      "Trainable params: 8,950\n",
      "Non-trainable params: 0\n",
      "_________________________________________________________________\n"
     ]
    }
   ],
   "source": [
    "model_2.summary()"
   ]
  },
  {
   "cell_type": "code",
   "execution_count": 31,
   "metadata": {},
   "outputs": [
    {
     "name": "stdout",
     "output_type": "stream",
     "text": [
      "Train on 60000 samples, validate on 10000 samples\n",
      "Epoch 1/20\n",
      "60000/60000 [==============================] - 1s 22us/step - loss: 0.0920 - acc: 0.0903 - val_loss: 0.0914 - val_acc: 0.0892\n",
      "Epoch 2/20\n",
      "60000/60000 [==============================] - 1s 17us/step - loss: 0.0911 - acc: 0.0970 - val_loss: 0.0908 - val_acc: 0.1135\n",
      "Epoch 3/20\n",
      "60000/60000 [==============================] - 1s 16us/step - loss: 0.0907 - acc: 0.1124 - val_loss: 0.0905 - val_acc: 0.1135\n",
      "Epoch 4/20\n",
      "60000/60000 [==============================] - 1s 16us/step - loss: 0.0904 - acc: 0.1124 - val_loss: 0.0903 - val_acc: 0.1135\n",
      "Epoch 5/20\n",
      "60000/60000 [==============================] - 1s 15us/step - loss: 0.0903 - acc: 0.1124 - val_loss: 0.0902 - val_acc: 0.1135\n",
      "Epoch 6/20\n",
      "60000/60000 [==============================] - 1s 15us/step - loss: 0.0902 - acc: 0.1124 - val_loss: 0.0901 - val_acc: 0.1135\n",
      "Epoch 7/20\n",
      "60000/60000 [==============================] - 1s 15us/step - loss: 0.0901 - acc: 0.1124 - val_loss: 0.0901 - val_acc: 0.1135\n",
      "Epoch 8/20\n",
      "60000/60000 [==============================] - 1s 16us/step - loss: 0.0900 - acc: 0.1124 - val_loss: 0.0900 - val_acc: 0.1135\n",
      "Epoch 9/20\n",
      "60000/60000 [==============================] - 1s 15us/step - loss: 0.0900 - acc: 0.1124 - val_loss: 0.0900 - val_acc: 0.1135\n",
      "Epoch 10/20\n",
      "60000/60000 [==============================] - 1s 15us/step - loss: 0.0900 - acc: 0.1124 - val_loss: 0.0900 - val_acc: 0.1135\n",
      "Epoch 11/20\n",
      "60000/60000 [==============================] - 1s 16us/step - loss: 0.0900 - acc: 0.1124 - val_loss: 0.0900 - val_acc: 0.1135\n",
      "Epoch 12/20\n",
      "60000/60000 [==============================] - 1s 16us/step - loss: 0.0900 - acc: 0.1124 - val_loss: 0.0900 - val_acc: 0.1135\n",
      "Epoch 13/20\n",
      "60000/60000 [==============================] - 1s 16us/step - loss: 0.0900 - acc: 0.1124 - val_loss: 0.0900 - val_acc: 0.1135\n",
      "Epoch 14/20\n",
      "60000/60000 [==============================] - 1s 15us/step - loss: 0.0900 - acc: 0.1124 - val_loss: 0.0900 - val_acc: 0.1135\n",
      "Epoch 15/20\n",
      "60000/60000 [==============================] - 1s 15us/step - loss: 0.0900 - acc: 0.1124 - val_loss: 0.0900 - val_acc: 0.1135\n",
      "Epoch 16/20\n",
      "60000/60000 [==============================] - 1s 15us/step - loss: 0.0900 - acc: 0.1124 - val_loss: 0.0900 - val_acc: 0.1135\n",
      "Epoch 17/20\n",
      "60000/60000 [==============================] - 1s 14us/step - loss: 0.0900 - acc: 0.1124 - val_loss: 0.0900 - val_acc: 0.1135\n",
      "Epoch 18/20\n",
      "60000/60000 [==============================] - 1s 15us/step - loss: 0.0900 - acc: 0.1124 - val_loss: 0.0900 - val_acc: 0.1135\n",
      "Epoch 19/20\n",
      "60000/60000 [==============================] - 1s 15us/step - loss: 0.0900 - acc: 0.1124 - val_loss: 0.0900 - val_acc: 0.1135\n",
      "Epoch 20/20\n",
      "60000/60000 [==============================] - 1s 15us/step - loss: 0.0900 - acc: 0.1124 - val_loss: 0.0900 - val_acc: 0.1135\n"
     ]
    }
   ],
   "source": [
    "model_2_20 = model_2.fit(x_train, y_train, batch_size = 100, epochs = 20, validation_data = (x_test, y_test))"
   ]
  },
  {
   "cell_type": "code",
   "execution_count": 32,
   "metadata": {},
   "outputs": [
    {
     "name": "stdout",
     "output_type": "stream",
     "text": [
      "10000/10000 [==============================] - 0s 16us/step\n",
      "loss: 0.08996859245300293\n",
      "正確率 0.1135\n"
     ]
    }
   ],
   "source": [
    "score = model_2.evaluate(x_test, y_test)\n",
    "print('loss:', score[0])\n",
    "print('正確率', score[1])"
   ]
  },
  {
   "cell_type": "markdown",
   "metadata": {},
   "source": [
    "### 測試2小結：調多層數後，正確率為11%，不但沒有上升，跑的時間還變長，失敗。"
   ]
  },
  {
   "cell_type": "markdown",
   "metadata": {},
   "source": [
    "## 測試3：把神經元集中在某一層"
   ]
  },
  {
   "cell_type": "markdown",
   "metadata": {},
   "source": [
    "### 先集中在第一層(model_3)\n",
    "- 使用 2 個 hidden layers (參考model_1，把神經元都集中在第一層)\n",
    "- Hidden layer 1 用 90 個神經元\n",
    "- Hidden layer 2 用 10 個神經元\n",
    "- Activation Function 用 sigmoid\n",
    "- 最後的輸出Activation Function 用 softmax\n",
    "- loss function 用 mse\n",
    "- optimizer 用標準的 SGD\n",
    "- learning rate 設0.087\n",
    "- batch_size = 100\n",
    "- epochs = 20"
   ]
  },
  {
   "cell_type": "code",
   "execution_count": 33,
   "metadata": {},
   "outputs": [],
   "source": [
    "model_3 = Sequential()\n",
    "model_3.add(Dense(90, input_dim = 784))\n",
    "model_3.add(Activation('sigmoid'))\n",
    "model_3.add(Dense(10))\n",
    "model_3.add(Activation('sigmoid'))\n",
    "model_3.add(Dense(10))\n",
    "model_3.add(Activation('softmax'))"
   ]
  },
  {
   "cell_type": "code",
   "execution_count": 34,
   "metadata": {},
   "outputs": [],
   "source": [
    "model_3.compile(loss='mse', optimizer = SGD(lr = 0.087), metrics=['accuracy'])"
   ]
  },
  {
   "cell_type": "code",
   "execution_count": 35,
   "metadata": {},
   "outputs": [
    {
     "name": "stdout",
     "output_type": "stream",
     "text": [
      "_________________________________________________________________\n",
      "Layer (type)                 Output Shape              Param #   \n",
      "=================================================================\n",
      "dense_18 (Dense)             (None, 90)                70650     \n",
      "_________________________________________________________________\n",
      "activation_18 (Activation)   (None, 90)                0         \n",
      "_________________________________________________________________\n",
      "dense_19 (Dense)             (None, 10)                910       \n",
      "_________________________________________________________________\n",
      "activation_19 (Activation)   (None, 10)                0         \n",
      "_________________________________________________________________\n",
      "dense_20 (Dense)             (None, 10)                110       \n",
      "_________________________________________________________________\n",
      "activation_20 (Activation)   (None, 10)                0         \n",
      "=================================================================\n",
      "Total params: 71,670\n",
      "Trainable params: 71,670\n",
      "Non-trainable params: 0\n",
      "_________________________________________________________________\n"
     ]
    }
   ],
   "source": [
    "model_3.summary()"
   ]
  },
  {
   "cell_type": "code",
   "execution_count": 36,
   "metadata": {},
   "outputs": [
    {
     "name": "stdout",
     "output_type": "stream",
     "text": [
      "Train on 60000 samples, validate on 10000 samples\n",
      "Epoch 1/20\n",
      "60000/60000 [==============================] - 1s 24us/step - loss: 0.0900 - acc: 0.1324 - val_loss: 0.0888 - val_acc: 0.2140\n",
      "Epoch 2/20\n",
      "60000/60000 [==============================] - 1s 19us/step - loss: 0.0879 - acc: 0.2745 - val_loss: 0.0868 - val_acc: 0.2966\n",
      "Epoch 3/20\n",
      "60000/60000 [==============================] - 1s 17us/step - loss: 0.0857 - acc: 0.2937 - val_loss: 0.0844 - val_acc: 0.2904\n",
      "Epoch 4/20\n",
      "60000/60000 [==============================] - 1s 17us/step - loss: 0.0832 - acc: 0.2794 - val_loss: 0.0817 - val_acc: 0.2825\n",
      "Epoch 5/20\n",
      "60000/60000 [==============================] - 1s 17us/step - loss: 0.0805 - acc: 0.2887 - val_loss: 0.0789 - val_acc: 0.3135\n",
      "Epoch 6/20\n",
      "60000/60000 [==============================] - 1s 17us/step - loss: 0.0777 - acc: 0.3274 - val_loss: 0.0761 - val_acc: 0.3615\n",
      "Epoch 7/20\n",
      "60000/60000 [==============================] - 1s 17us/step - loss: 0.0750 - acc: 0.3819 - val_loss: 0.0735 - val_acc: 0.4100\n",
      "Epoch 8/20\n",
      "60000/60000 [==============================] - 1s 17us/step - loss: 0.0726 - acc: 0.4277 - val_loss: 0.0711 - val_acc: 0.4506\n",
      "Epoch 9/20\n",
      "60000/60000 [==============================] - 1s 17us/step - loss: 0.0703 - acc: 0.4669 - val_loss: 0.0688 - val_acc: 0.4865\n",
      "Epoch 10/20\n",
      "60000/60000 [==============================] - 1s 17us/step - loss: 0.0681 - acc: 0.4973 - val_loss: 0.0667 - val_acc: 0.5113\n",
      "Epoch 11/20\n",
      "60000/60000 [==============================] - 1s 19us/step - loss: 0.0660 - acc: 0.5232 - val_loss: 0.0646 - val_acc: 0.5403\n",
      "Epoch 12/20\n",
      "60000/60000 [==============================] - 1s 17us/step - loss: 0.0640 - acc: 0.5508 - val_loss: 0.0626 - val_acc: 0.5713\n",
      "Epoch 13/20\n",
      "60000/60000 [==============================] - 1s 17us/step - loss: 0.0619 - acc: 0.5843 - val_loss: 0.0605 - val_acc: 0.6004\n",
      "Epoch 14/20\n",
      "60000/60000 [==============================] - 1s 17us/step - loss: 0.0598 - acc: 0.6181 - val_loss: 0.0582 - val_acc: 0.6387\n",
      "Epoch 15/20\n",
      "60000/60000 [==============================] - 1s 17us/step - loss: 0.0575 - acc: 0.6574 - val_loss: 0.0559 - val_acc: 0.6844\n",
      "Epoch 16/20\n",
      "60000/60000 [==============================] - 1s 17us/step - loss: 0.0552 - acc: 0.6920 - val_loss: 0.0536 - val_acc: 0.7127\n",
      "Epoch 17/20\n",
      "60000/60000 [==============================] - 1s 17us/step - loss: 0.0528 - acc: 0.7180 - val_loss: 0.0512 - val_acc: 0.7407\n",
      "Epoch 18/20\n",
      "60000/60000 [==============================] - 1s 17us/step - loss: 0.0504 - acc: 0.7378 - val_loss: 0.0488 - val_acc: 0.7540\n",
      "Epoch 19/20\n",
      "60000/60000 [==============================] - 1s 17us/step - loss: 0.0480 - acc: 0.7484 - val_loss: 0.0464 - val_acc: 0.7606\n",
      "Epoch 20/20\n",
      "60000/60000 [==============================] - 1s 17us/step - loss: 0.0456 - acc: 0.7552 - val_loss: 0.0441 - val_acc: 0.7676\n"
     ]
    }
   ],
   "source": [
    "model_3_20 = model_3.fit(x_train, y_train, batch_size = 100, epochs = 20, validation_data = (x_test, y_test))"
   ]
  },
  {
   "cell_type": "code",
   "execution_count": 37,
   "metadata": {},
   "outputs": [
    {
     "name": "stdout",
     "output_type": "stream",
     "text": [
      "10000/10000 [==============================] - 0s 18us/step\n",
      "loss: 0.04411541872024536\n",
      "正確率 0.7676\n"
     ]
    }
   ],
   "source": [
    "score = model_3.evaluate(x_test, y_test)\n",
    "print('loss:', score[0])\n",
    "print('正確率', score[1])"
   ]
  },
  {
   "cell_type": "markdown",
   "metadata": {},
   "source": [
    "#### 看起來很讚，多訓練幾次達穩定(重複執行下列的程式碼)"
   ]
  },
  {
   "cell_type": "code",
   "execution_count": 68,
   "metadata": {},
   "outputs": [
    {
     "name": "stdout",
     "output_type": "stream",
     "text": [
      "Train on 60000 samples, validate on 10000 samples\n",
      "Epoch 1/20\n",
      "60000/60000 [==============================] - 1s 22us/step - loss: 0.0075 - acc: 0.9596 - val_loss: 0.0098 - val_acc: 0.9396\n",
      "Epoch 2/20\n",
      "60000/60000 [==============================] - 1s 21us/step - loss: 0.0075 - acc: 0.9596 - val_loss: 0.0098 - val_acc: 0.9388\n",
      "Epoch 3/20\n",
      "60000/60000 [==============================] - 1s 24us/step - loss: 0.0075 - acc: 0.9594 - val_loss: 0.0099 - val_acc: 0.9387\n",
      "Epoch 4/20\n",
      "60000/60000 [==============================] - 1s 23us/step - loss: 0.0075 - acc: 0.9594 - val_loss: 0.0098 - val_acc: 0.9387\n",
      "Epoch 5/20\n",
      "60000/60000 [==============================] - 1s 23us/step - loss: 0.0073 - acc: 0.9599 - val_loss: 0.0098 - val_acc: 0.9374\n",
      "Epoch 6/20\n",
      "60000/60000 [==============================] - 1s 24us/step - loss: 0.0072 - acc: 0.9609 - val_loss: 0.0098 - val_acc: 0.9384\n",
      "Epoch 7/20\n",
      "60000/60000 [==============================] - 1s 24us/step - loss: 0.0072 - acc: 0.9608 - val_loss: 0.0097 - val_acc: 0.9389\n",
      "Epoch 8/20\n",
      "60000/60000 [==============================] - 1s 23us/step - loss: 0.0071 - acc: 0.9620 - val_loss: 0.0097 - val_acc: 0.9395\n",
      "Epoch 9/20\n",
      "60000/60000 [==============================] - 1s 23us/step - loss: 0.0071 - acc: 0.9613 - val_loss: 0.0095 - val_acc: 0.9422\n",
      "Epoch 10/20\n",
      "60000/60000 [==============================] - 1s 24us/step - loss: 0.0071 - acc: 0.9615 - val_loss: 0.0096 - val_acc: 0.9406\n",
      "Epoch 11/20\n",
      "60000/60000 [==============================] - 1s 23us/step - loss: 0.0070 - acc: 0.9615 - val_loss: 0.0097 - val_acc: 0.9395\n",
      "Epoch 12/20\n",
      "60000/60000 [==============================] - 2s 30us/step - loss: 0.0070 - acc: 0.9619 - val_loss: 0.0095 - val_acc: 0.9396\n",
      "Epoch 13/20\n",
      "60000/60000 [==============================] - 1s 24us/step - loss: 0.0069 - acc: 0.9629 - val_loss: 0.0095 - val_acc: 0.9417\n",
      "Epoch 14/20\n",
      "60000/60000 [==============================] - 2s 25us/step - loss: 0.0069 - acc: 0.9627 - val_loss: 0.0094 - val_acc: 0.9413\n",
      "Epoch 15/20\n",
      "60000/60000 [==============================] - 1s 25us/step - loss: 0.0068 - acc: 0.9625 - val_loss: 0.0095 - val_acc: 0.9391\n",
      "Epoch 16/20\n",
      "60000/60000 [==============================] - 1s 24us/step - loss: 0.0068 - acc: 0.9632 - val_loss: 0.0094 - val_acc: 0.9400\n",
      "Epoch 17/20\n",
      "60000/60000 [==============================] - 1s 22us/step - loss: 0.0067 - acc: 0.9636 - val_loss: 0.0094 - val_acc: 0.9413\n",
      "Epoch 18/20\n",
      "60000/60000 [==============================] - 1s 22us/step - loss: 0.0067 - acc: 0.9634 - val_loss: 0.0094 - val_acc: 0.9387\n",
      "Epoch 19/20\n",
      "60000/60000 [==============================] - 2s 26us/step - loss: 0.0066 - acc: 0.9636 - val_loss: 0.0094 - val_acc: 0.9405\n",
      "Epoch 20/20\n",
      "60000/60000 [==============================] - 1s 22us/step - loss: 0.0066 - acc: 0.9645 - val_loss: 0.0092 - val_acc: 0.9423\n"
     ]
    },
    {
     "data": {
      "text/plain": [
       "<keras.callbacks.History at 0x14e414ea828>"
      ]
     },
     "execution_count": 68,
     "metadata": {},
     "output_type": "execute_result"
    }
   ],
   "source": [
    "model_3.fit(x_train, y_train, batch_size = 100, epochs = 20, validation_data = (x_test, y_test))"
   ]
  },
  {
   "cell_type": "code",
   "execution_count": 69,
   "metadata": {},
   "outputs": [
    {
     "name": "stdout",
     "output_type": "stream",
     "text": [
      "10000/10000 [==============================] - 0s 25us/step\n",
      "loss: 0.009209773046523333\n",
      "正確率 0.9423\n"
     ]
    }
   ],
   "source": [
    "score = model_3.evaluate(x_test, y_test)\n",
    "print('loss:', score[0])\n",
    "print('正確率', score[1])"
   ]
  },
  {
   "cell_type": "markdown",
   "metadata": {},
   "source": [
    "多訓練幾次就破90%啦~"
   ]
  },
  {
   "cell_type": "markdown",
   "metadata": {},
   "source": [
    "### 把神經元集中在第二層(model_4)\n",
    "- 使用 2 個 hidden layers (參考model_1，把神經元都集中在第二層)\n",
    "- Hidden layer 1 用 10 個神經元\n",
    "- Hidden layer 2 用 90 個神經元\n",
    "- Activation Function 用 sigmoid\n",
    "- 最後的輸出Activation Function 用 softmax\n",
    "- loss function 用 mse\n",
    "- optimizer 用標準的 SGD\n",
    "- learning rate 設0.087\n",
    "- batch_size = 100\n",
    "- epochs = 20"
   ]
  },
  {
   "cell_type": "code",
   "execution_count": 40,
   "metadata": {},
   "outputs": [],
   "source": [
    "model_4 = Sequential()\n",
    "model_4.add(Dense(10, input_dim = 784))\n",
    "model_4.add(Activation('sigmoid'))\n",
    "model_4.add(Dense(90))\n",
    "model_4.add(Activation('sigmoid'))\n",
    "model_4.add(Dense(10))\n",
    "model_4.add(Activation('softmax'))"
   ]
  },
  {
   "cell_type": "code",
   "execution_count": 41,
   "metadata": {},
   "outputs": [],
   "source": [
    "model_4.compile(loss='mse', optimizer = SGD(lr = 0.087), metrics=['accuracy'])"
   ]
  },
  {
   "cell_type": "code",
   "execution_count": 42,
   "metadata": {},
   "outputs": [
    {
     "name": "stdout",
     "output_type": "stream",
     "text": [
      "_________________________________________________________________\n",
      "Layer (type)                 Output Shape              Param #   \n",
      "=================================================================\n",
      "dense_21 (Dense)             (None, 10)                7850      \n",
      "_________________________________________________________________\n",
      "activation_21 (Activation)   (None, 10)                0         \n",
      "_________________________________________________________________\n",
      "dense_22 (Dense)             (None, 90)                990       \n",
      "_________________________________________________________________\n",
      "activation_22 (Activation)   (None, 90)                0         \n",
      "_________________________________________________________________\n",
      "dense_23 (Dense)             (None, 10)                910       \n",
      "_________________________________________________________________\n",
      "activation_23 (Activation)   (None, 10)                0         \n",
      "=================================================================\n",
      "Total params: 9,750\n",
      "Trainable params: 9,750\n",
      "Non-trainable params: 0\n",
      "_________________________________________________________________\n"
     ]
    }
   ],
   "source": [
    "model_4.summary()"
   ]
  },
  {
   "cell_type": "code",
   "execution_count": 43,
   "metadata": {},
   "outputs": [
    {
     "name": "stdout",
     "output_type": "stream",
     "text": [
      "Train on 60000 samples, validate on 10000 samples\n",
      "Epoch 1/20\n",
      "60000/60000 [==============================] - 1s 20us/step - loss: 0.0918 - acc: 0.1171 - val_loss: 0.0897 - val_acc: 0.2311\n",
      "Epoch 2/20\n",
      "60000/60000 [==============================] - 1s 16us/step - loss: 0.0892 - acc: 0.1904 - val_loss: 0.0888 - val_acc: 0.1771\n",
      "Epoch 3/20\n",
      "60000/60000 [==============================] - 1s 20us/step - loss: 0.0884 - acc: 0.1890 - val_loss: 0.0880 - val_acc: 0.1949\n",
      "Epoch 4/20\n",
      "60000/60000 [==============================] - 1s 17us/step - loss: 0.0877 - acc: 0.1902 - val_loss: 0.0871 - val_acc: 0.2216\n",
      "Epoch 5/20\n",
      "60000/60000 [==============================] - 1s 15us/step - loss: 0.0867 - acc: 0.2005 - val_loss: 0.0861 - val_acc: 0.1876\n",
      "Epoch 6/20\n",
      "60000/60000 [==============================] - 1s 17us/step - loss: 0.0855 - acc: 0.2115 - val_loss: 0.0847 - val_acc: 0.2042\n",
      "Epoch 7/20\n",
      "60000/60000 [==============================] - 1s 16us/step - loss: 0.0840 - acc: 0.2424 - val_loss: 0.0831 - val_acc: 0.2680\n",
      "Epoch 8/20\n",
      "60000/60000 [==============================] - 1s 14us/step - loss: 0.0825 - acc: 0.2756 - val_loss: 0.0815 - val_acc: 0.2770\n",
      "Epoch 9/20\n",
      "60000/60000 [==============================] - 1s 14us/step - loss: 0.0811 - acc: 0.2862 - val_loss: 0.0802 - val_acc: 0.2952\n",
      "Epoch 10/20\n",
      "60000/60000 [==============================] - 1s 15us/step - loss: 0.0799 - acc: 0.2981 - val_loss: 0.0791 - val_acc: 0.3040\n",
      "Epoch 11/20\n",
      "60000/60000 [==============================] - 1s 14us/step - loss: 0.0789 - acc: 0.3109 - val_loss: 0.0781 - val_acc: 0.3362\n",
      "Epoch 12/20\n",
      "60000/60000 [==============================] - 1s 20us/step - loss: 0.0779 - acc: 0.3314 - val_loss: 0.0772 - val_acc: 0.3442\n",
      "Epoch 13/20\n",
      "60000/60000 [==============================] - 1s 14us/step - loss: 0.0771 - acc: 0.3400 - val_loss: 0.0763 - val_acc: 0.3569\n",
      "Epoch 14/20\n",
      "60000/60000 [==============================] - 1s 14us/step - loss: 0.0763 - acc: 0.3567 - val_loss: 0.0756 - val_acc: 0.3567\n",
      "Epoch 15/20\n",
      "60000/60000 [==============================] - 1s 15us/step - loss: 0.0755 - acc: 0.3599 - val_loss: 0.0748 - val_acc: 0.3642\n",
      "Epoch 16/20\n",
      "60000/60000 [==============================] - 1s 16us/step - loss: 0.0747 - acc: 0.3640 - val_loss: 0.0741 - val_acc: 0.3689\n",
      "Epoch 17/20\n",
      "60000/60000 [==============================] - 1s 18us/step - loss: 0.0740 - acc: 0.3679 - val_loss: 0.0733 - val_acc: 0.3704\n",
      "Epoch 18/20\n",
      "60000/60000 [==============================] - 1s 16us/step - loss: 0.0732 - acc: 0.3713 - val_loss: 0.0726 - val_acc: 0.3753\n",
      "Epoch 19/20\n",
      "60000/60000 [==============================] - 1s 15us/step - loss: 0.0725 - acc: 0.3771 - val_loss: 0.0718 - val_acc: 0.3755\n",
      "Epoch 20/20\n",
      "60000/60000 [==============================] - 1s 14us/step - loss: 0.0717 - acc: 0.4067 - val_loss: 0.0709 - val_acc: 0.4557\n"
     ]
    }
   ],
   "source": [
    "model_4_20 = model_4.fit(x_train, y_train, batch_size = 100, epochs = 20, validation_data = (x_test, y_test))"
   ]
  },
  {
   "cell_type": "code",
   "execution_count": 44,
   "metadata": {},
   "outputs": [
    {
     "name": "stdout",
     "output_type": "stream",
     "text": [
      "10000/10000 [==============================] - 0s 15us/step\n",
      "loss: 0.07092073347568512\n",
      "正確率 0.4557\n"
     ]
    }
   ],
   "source": [
    "score = model_4.evaluate(x_test, y_test)\n",
    "print('loss:', score[0])\n",
    "print('正確率', score[1])"
   ]
  },
  {
   "cell_type": "markdown",
   "metadata": {},
   "source": [
    "結果看起來不太好，再多訓練幾次看看他會不會變好"
   ]
  },
  {
   "cell_type": "code",
   "execution_count": 73,
   "metadata": {},
   "outputs": [
    {
     "name": "stdout",
     "output_type": "stream",
     "text": [
      "Train on 60000 samples, validate on 10000 samples\n",
      "Epoch 1/20\n",
      "60000/60000 [==============================] - 1s 17us/step - loss: 0.0215 - acc: 0.8613 - val_loss: 0.0211 - val_acc: 0.8649\n",
      "Epoch 2/20\n",
      "60000/60000 [==============================] - 1s 17us/step - loss: 0.0212 - acc: 0.8648 - val_loss: 0.0229 - val_acc: 0.8533\n",
      "Epoch 3/20\n",
      "60000/60000 [==============================] - 1s 17us/step - loss: 0.0213 - acc: 0.8658 - val_loss: 0.0214 - val_acc: 0.8680\n",
      "Epoch 4/20\n",
      "60000/60000 [==============================] - 1s 17us/step - loss: 0.0210 - acc: 0.8679 - val_loss: 0.0219 - val_acc: 0.8623\n",
      "Epoch 5/20\n",
      "60000/60000 [==============================] - 1s 18us/step - loss: 0.0212 - acc: 0.8652 - val_loss: 0.0226 - val_acc: 0.8494\n",
      "Epoch 6/20\n",
      "60000/60000 [==============================] - 1s 17us/step - loss: 0.0208 - acc: 0.8680 - val_loss: 0.0203 - val_acc: 0.8740\n",
      "Epoch 7/20\n",
      "60000/60000 [==============================] - 1s 20us/step - loss: 0.0206 - acc: 0.8683 - val_loss: 0.0217 - val_acc: 0.8535\n",
      "Epoch 8/20\n",
      "60000/60000 [==============================] - 1s 18us/step - loss: 0.0206 - acc: 0.8673 - val_loss: 0.0236 - val_acc: 0.8403\n",
      "Epoch 9/20\n",
      "60000/60000 [==============================] - 1s 24us/step - loss: 0.0208 - acc: 0.8672 - val_loss: 0.0204 - val_acc: 0.8700\n",
      "Epoch 10/20\n",
      "60000/60000 [==============================] - 1s 18us/step - loss: 0.0206 - acc: 0.8668 - val_loss: 0.0206 - val_acc: 0.8703\n",
      "Epoch 11/20\n",
      "60000/60000 [==============================] - 1s 16us/step - loss: 0.0202 - acc: 0.8695 - val_loss: 0.0214 - val_acc: 0.8601\n",
      "Epoch 12/20\n",
      "60000/60000 [==============================] - 1s 16us/step - loss: 0.0203 - acc: 0.8692 - val_loss: 0.0209 - val_acc: 0.8636\n",
      "Epoch 13/20\n",
      "60000/60000 [==============================] - 1s 16us/step - loss: 0.0205 - acc: 0.8678 - val_loss: 0.0221 - val_acc: 0.8517\n",
      "Epoch 14/20\n",
      "60000/60000 [==============================] - 1s 16us/step - loss: 0.0205 - acc: 0.8687 - val_loss: 0.0202 - val_acc: 0.8731\n",
      "Epoch 15/20\n",
      "60000/60000 [==============================] - 1s 16us/step - loss: 0.0201 - acc: 0.8731 - val_loss: 0.0201 - val_acc: 0.8740\n",
      "Epoch 16/20\n",
      "60000/60000 [==============================] - 1s 17us/step - loss: 0.0199 - acc: 0.8728 - val_loss: 0.0200 - val_acc: 0.8735\n",
      "Epoch 17/20\n",
      "60000/60000 [==============================] - 1s 17us/step - loss: 0.0203 - acc: 0.8695 - val_loss: 0.0202 - val_acc: 0.8702\n",
      "Epoch 18/20\n",
      "60000/60000 [==============================] - 1s 18us/step - loss: 0.0198 - acc: 0.8712 - val_loss: 0.0200 - val_acc: 0.8758\n",
      "Epoch 19/20\n",
      "60000/60000 [==============================] - 1s 19us/step - loss: 0.0198 - acc: 0.8756 - val_loss: 0.0204 - val_acc: 0.8667\n",
      "Epoch 20/20\n",
      "60000/60000 [==============================] - 1s 17us/step - loss: 0.0195 - acc: 0.8767 - val_loss: 0.0201 - val_acc: 0.8765\n"
     ]
    },
    {
     "data": {
      "text/plain": [
       "<keras.callbacks.History at 0x14e3ea03828>"
      ]
     },
     "execution_count": 73,
     "metadata": {},
     "output_type": "execute_result"
    }
   ],
   "source": [
    "model_4.fit(x_train, y_train, batch_size = 100, epochs = 20, validation_data = (x_test, y_test))"
   ]
  },
  {
   "cell_type": "code",
   "execution_count": 74,
   "metadata": {},
   "outputs": [
    {
     "name": "stdout",
     "output_type": "stream",
     "text": [
      "10000/10000 [==============================] - 0s 22us/step\n",
      "loss: 0.020124128882586956\n",
      "正確率 0.8765\n"
     ]
    }
   ],
   "source": [
    "score = model_4.evaluate(x_test, y_test)\n",
    "print('loss:', score[0])\n",
    "print('正確率', score[1])"
   ]
  },
  {
   "cell_type": "markdown",
   "metadata": {},
   "source": [
    "即使多訓練幾次也無法破90%"
   ]
  },
  {
   "cell_type": "markdown",
   "metadata": {},
   "source": [
    "### 測試3小結：第一層神經元數>第二層神經元數時的正確率(94%)比第一層神經元數<第二層神經元數時的正確率(88%)高。"
   ]
  },
  {
   "cell_type": "markdown",
   "metadata": {},
   "source": [
    "## 作圖來看結果訓練前20次的效果"
   ]
  },
  {
   "cell_type": "code",
   "execution_count": 76,
   "metadata": {},
   "outputs": [
    {
     "data": {
      "image/png": "[encoded data removed]",
      "text/plain": [
       "<Figure size 432x288 with 1 Axes>"
      ]
     },
     "metadata": {
      "needs_background": "light"
     },
     "output_type": "display_data"
    }
   ],
   "source": [
    "plt.plot(model_0_20.history[\"acc\"])\n",
    "plt.plot(model_1_20.history[\"acc\"])\n",
    "plt.plot(model_2_20.history[\"acc\"])\n",
    "plt.plot(model_3_20.history[\"acc\"])\n",
    "plt.plot(model_4_20.history[\"acc\"])\n",
    "\n",
    "plt.title(\"model training accuracy\")\n",
    "plt.ylabel(\"accuracy\")\n",
    "plt.xlabel(\"epoch\")\n",
    "plt.legend(['model_0_20', 'model_1_20', 'model_2_20', 'model_3_20', 'model_4_20'], loc = 'best')\n",
    "plt.show()"
   ]
  },
  {
   "cell_type": "code",
   "execution_count": 75,
   "metadata": {},
   "outputs": [
    {
     "data": {
      "image/png": "[encoded data removed]",
      "text/plain": [
       "<Figure size 432x288 with 1 Axes>"
      ]
     },
     "metadata": {
      "needs_background": "light"
     },
     "output_type": "display_data"
    }
   ],
   "source": [
    "plt.plot(model_0_20.history[\"val_loss\"])\n",
    "plt.plot(model_1_20.history[\"val_loss\"])\n",
    "plt.plot(model_2_20.history[\"val_loss\"])\n",
    "plt.plot(model_3_20.history[\"val_loss\"])\n",
    "plt.plot(model_4_20.history[\"val_loss\"])\n",
    "\n",
    "\n",
    "plt.title(\"model validation loss\")\n",
    "plt.ylabel(\"loss\")\n",
    "plt.xlabel(\"epoch\")\n",
    "plt.legend(['model_0_20', 'model_1_20', 'model_2_20', 'model_3_20','model_4_20'], loc = 'best')\n",
    "plt.show()"
   ]
  },
  {
   "cell_type": "markdown",
   "metadata": {},
   "source": [
    "### 結論：看起來model_1(增加神經元並且兩層神經元數量相同)的結果最好，model_3(第一層神經元個數>第二層)的次之，model_4(第一層神經元個數<第二層)再次之，model_2(增加layer數)最差。"
   ]
  }
 ],
 "metadata": {
  "kernelspec": {
   "display_name": "Python 3",
   "language": "python",
   "name": "python3"
  },
  "language_info": {
   "codemirror_mode": {
    "name": "ipython",
    "version": 3
   },
   "file_extension": ".py",
   "mimetype": "text/x-python",
   "name": "python",
   "nbconvert_exporter": "python",
   "pygments_lexer": "ipython3",
   "version": "3.7.0"
  }
 },
 "nbformat": 4,
 "nbformat_minor": 2
}
