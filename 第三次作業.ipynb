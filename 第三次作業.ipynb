{
 "cells": [
  {
   "cell_type": "code",
   "execution_count": 2,
   "metadata": {},
   "outputs": [],
   "source": [
    "%matplotlib inline\n",
    "#找到測驗的界外值(如:考試特別不理想的孩子)\n",
    "import numpy as np\n",
    "import matplotlib.pyplot as plt\n",
    "import pandas as pd"
   ]
  },
  {
   "cell_type": "code",
   "execution_count": 3,
   "metadata": {},
   "outputs": [
    {
     "data": {
      "text/plain": [
       "[<matplotlib.lines.Line2D at 0x1aa6f3cc8d0>]"
      ]
     },
     "execution_count": 3,
     "metadata": {},
     "output_type": "execute_result"
    },
    {
     "data": {
      "image/png": "[encoded data removed]",
      "text/plain": [
       "<Figure size 432x288 with 1 Axes>"
      ]
     },
     "metadata": {
      "needs_background": "light"
     },
     "output_type": "display_data"
    }
   ],
   "source": [
    "x = np.linspace(-5, 5, 1000)\n",
    "y = np.sinc(x)\n",
    "\n",
    "plt.plot(x,y,lw=6)\n",
    "plt.plot(x[y>0] , y[y>0], 'o')"
   ]
  },
  {
   "cell_type": "code",
   "execution_count": 11,
   "metadata": {},
   "outputs": [
    {
     "data": {
      "text/html": [
       "<div>\n",
       "<style scoped>\n",
       "    .dataframe tbody tr th:only-of-type {\n",
       "        vertical-align: middle;\n",
       "    }\n",
       "\n",
       "    .dataframe tbody tr th {\n",
       "        vertical-align: top;\n",
       "    }\n",
       "\n",
       "    .dataframe thead th {\n",
       "        text-align: right;\n",
       "    }\n",
       "</style>\n",
       "<table border=\"1\" class=\"dataframe\">\n",
       "  <thead>\n",
       "    <tr style=\"text-align: right;\">\n",
       "      <th></th>\n",
       "      <th>代碼</th>\n",
       "      <th>學校名稱</th>\n",
       "      <th>公私立</th>\n",
       "      <th>縣市名稱</th>\n",
       "      <th>地址</th>\n",
       "      <th>電話</th>\n",
       "      <th>網址</th>\n",
       "      <th>備註</th>\n",
       "    </tr>\n",
       "  </thead>\n",
       "  <tbody>\n",
       "    <tr>\n",
       "      <th>0</th>\n",
       "      <td>010301</td>\n",
       "      <td>國立華僑高級中等學校</td>\n",
       "      <td>公立</td>\n",
       "      <td>[01]新北市</td>\n",
       "      <td>[220]新北市板橋區大觀路一段32號</td>\n",
       "      <td>(02)29684131</td>\n",
       "      <td>http://www.nocsh.ntpc.edu.tw</td>\n",
       "      <td>NaN</td>\n",
       "    </tr>\n",
       "    <tr>\n",
       "      <th>1</th>\n",
       "      <td>011301</td>\n",
       "      <td>私立淡江高中</td>\n",
       "      <td>私立</td>\n",
       "      <td>[01]新北市</td>\n",
       "      <td>[251]新北市淡水區真理街26號</td>\n",
       "      <td>(02)26203850</td>\n",
       "      <td>http://www.tksh.ntpc.edu.tw</td>\n",
       "      <td>NaN</td>\n",
       "    </tr>\n",
       "    <tr>\n",
       "      <th>2</th>\n",
       "      <td>011302</td>\n",
       "      <td>私立康橋高中</td>\n",
       "      <td>私立</td>\n",
       "      <td>[01]新北市</td>\n",
       "      <td>[231]新北市新店區華城路800號</td>\n",
       "      <td>(02)22166000</td>\n",
       "      <td>http://www.kcbs.ntpc.edu.tw</td>\n",
       "      <td>NaN</td>\n",
       "    </tr>\n",
       "    <tr>\n",
       "      <th>3</th>\n",
       "      <td>011306</td>\n",
       "      <td>私立金陵女中</td>\n",
       "      <td>私立</td>\n",
       "      <td>[01]新北市</td>\n",
       "      <td>[241]新北市三重區重新路五段656號</td>\n",
       "      <td>(02)29956776</td>\n",
       "      <td>http://www.glghs.ntpc.edu.tw</td>\n",
       "      <td>NaN</td>\n",
       "    </tr>\n",
       "    <tr>\n",
       "      <th>4</th>\n",
       "      <td>011307</td>\n",
       "      <td>新北市裕德高級中等學校</td>\n",
       "      <td>私立</td>\n",
       "      <td>[01]新北市</td>\n",
       "      <td>[236]新北市土城區擺接堡路1號</td>\n",
       "      <td>(02)82617889</td>\n",
       "      <td>http://www.yuteh.ntpc.edu.tw/yuteh/</td>\n",
       "      <td>NaN</td>\n",
       "    </tr>\n",
       "    <tr>\n",
       "      <th>5</th>\n",
       "      <td>011309</td>\n",
       "      <td>財團法人南山高中</td>\n",
       "      <td>私立</td>\n",
       "      <td>[01]新北市</td>\n",
       "      <td>[235]新北市中和區廣福路41號</td>\n",
       "      <td>(02)22453000</td>\n",
       "      <td>http://www.nssh.ntpc.edu.tw</td>\n",
       "      <td>NaN</td>\n",
       "    </tr>\n",
       "    <tr>\n",
       "      <th>6</th>\n",
       "      <td>011310</td>\n",
       "      <td>財團法人恆毅高中</td>\n",
       "      <td>私立</td>\n",
       "      <td>[01]新北市</td>\n",
       "      <td>[242]新北市新莊區中正路108號</td>\n",
       "      <td>(02)29923619</td>\n",
       "      <td>http://www.hchs.ntpc.edu.tw</td>\n",
       "      <td>NaN</td>\n",
       "    </tr>\n",
       "    <tr>\n",
       "      <th>7</th>\n",
       "      <td>011311</td>\n",
       "      <td>私立聖心女中</td>\n",
       "      <td>私立</td>\n",
       "      <td>[01]新北市</td>\n",
       "      <td>[249]新北市八里區龍米路一段263號</td>\n",
       "      <td>(02)26182287</td>\n",
       "      <td>http://www.shgsh.ntpc.edu.tw</td>\n",
       "      <td>NaN</td>\n",
       "    </tr>\n",
       "    <tr>\n",
       "      <th>8</th>\n",
       "      <td>011312</td>\n",
       "      <td>私立崇義高中</td>\n",
       "      <td>私立</td>\n",
       "      <td>[01]新北市</td>\n",
       "      <td>[221]新北市汐止區大同路三段68號</td>\n",
       "      <td>(02)86482078</td>\n",
       "      <td>http://www.tyhs.ntpc.edu.tw/</td>\n",
       "      <td>NaN</td>\n",
       "    </tr>\n",
       "    <tr>\n",
       "      <th>9</th>\n",
       "      <td>011314</td>\n",
       "      <td>財團法人中華高中</td>\n",
       "      <td>私立</td>\n",
       "      <td>[01]新北市</td>\n",
       "      <td>[236]新北市土城區城林路2號</td>\n",
       "      <td>(02)22693641</td>\n",
       "      <td>http://www.chsh.ntpc.edu.tw</td>\n",
       "      <td>NaN</td>\n",
       "    </tr>\n",
       "  </tbody>\n",
       "</table>\n",
       "</div>"
      ],
      "text/plain": [
       "       代碼         學校名稱 公私立     縣市名稱                    地址              電話  \\\n",
       "0  010301   國立華僑高級中等學校  公立  [01]新北市   [220]新北市板橋區大觀路一段32號    (02)29684131   \n",
       "1  011301       私立淡江高中  私立  [01]新北市     [251]新北市淡水區真理街26號    (02)26203850   \n",
       "2  011302       私立康橋高中  私立  [01]新北市    [231]新北市新店區華城路800號    (02)22166000   \n",
       "3  011306       私立金陵女中  私立  [01]新北市  [241]新北市三重區重新路五段656號    (02)29956776   \n",
       "4  011307  新北市裕德高級中等學校  私立  [01]新北市     [236]新北市土城區擺接堡路1號    (02)82617889   \n",
       "5  011309     財團法人南山高中  私立  [01]新北市     [235]新北市中和區廣福路41號    (02)22453000   \n",
       "6  011310     財團法人恆毅高中  私立  [01]新北市    [242]新北市新莊區中正路108號  (02)29923619     \n",
       "7  011311       私立聖心女中  私立  [01]新北市  [249]新北市八里區龍米路一段263號    (02)26182287   \n",
       "8  011312       私立崇義高中  私立  [01]新北市   [221]新北市汐止區大同路三段68號    (02)86482078   \n",
       "9  011314     財團法人中華高中  私立  [01]新北市      [236]新北市土城區城林路2號    (02)22693641   \n",
       "\n",
       "                                    網址   備註  \n",
       "0         http://www.nocsh.ntpc.edu.tw  NaN  \n",
       "1          http://www.tksh.ntpc.edu.tw  NaN  \n",
       "2          http://www.kcbs.ntpc.edu.tw  NaN  \n",
       "3         http://www.glghs.ntpc.edu.tw  NaN  \n",
       "4  http://www.yuteh.ntpc.edu.tw/yuteh/  NaN  \n",
       "5          http://www.nssh.ntpc.edu.tw  NaN  \n",
       "6          http://www.hchs.ntpc.edu.tw  NaN  \n",
       "7         http://www.shgsh.ntpc.edu.tw  NaN  \n",
       "8         http://www.tyhs.ntpc.edu.tw/  NaN  \n",
       "9          http://www.chsh.ntpc.edu.tw  NaN  "
      ]
     },
     "execution_count": 11,
     "metadata": {},
     "output_type": "execute_result"
    }
   ],
   "source": [
    "df = pd.read_csv('http://stats.moe.gov.tw/files/school/107/high.csv')\n",
    "\n",
    "df.head(10)"
   ]
  },
  {
   "cell_type": "code",
   "execution_count": 130,
   "metadata": {},
   "outputs": [
    {
     "name": "stdout",
     "output_type": "stream",
     "text": [
      "本次考試不理想的同學座號為: [3] ，請多多關心他(們)唷(*´∀`)~♥\n"
     ]
    }
   ],
   "source": [
    "#使用numpy幫助老師快速找到考試特別不理想的孩子(測驗界外值)\n",
    "import numpy as np\n",
    "#假設班上同學的考試成績按座號排如下\n",
    "score = np.array([95, 90, 60, 70, 82, 98, 100, 92, 80, 97, 65, 80, 97, 66, 90, 78, 90, 90, 98, 100])\n",
    "score_std = np.std(score)\n",
    "score_mean = np.mean(score)\n",
    "Z_score = (score - score_mean) / score_std\n",
    "num = list(np.where(Z_score <= -2)[0] + 1) #以低於平均兩個標準差為界外值的標準\n",
    "if len(num) != 0:\n",
    "    print('本次考試不理想的同學座號為:', num, '，請多多關心他(們)唷(*´∀`)~♥')\n",
    "else: print('這次大家都好棒棒啊ε٩(๑> ₃ <)۶з')\n"
   ]
  },
  {
   "cell_type": "code",
   "execution_count": null,
   "metadata": {},
   "outputs": [],
   "source": []
  },
  {
   "cell_type": "code",
   "execution_count": null,
   "metadata": {},
   "outputs": [],
   "source": []
  },
  {
   "cell_type": "code",
   "execution_count": null,
   "metadata": {},
   "outputs": [],
   "source": []
  }
 ],
 "metadata": {
  "kernelspec": {
   "display_name": "Python 3",
   "language": "python",
   "name": "python3"
  },
  "language_info": {
   "codemirror_mode": {
    "name": "ipython",
    "version": 3
   },
   "file_extension": ".py",
   "mimetype": "text/x-python",
   "name": "python",
   "nbconvert_exporter": "python",
   "pygments_lexer": "ipython3",
   "version": "3.7.0"
  }
 },
 "nbformat": 4,
 "nbformat_minor": 2
}
