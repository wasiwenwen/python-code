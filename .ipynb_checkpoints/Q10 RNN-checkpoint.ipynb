{
 "cells": [
  {
   "cell_type": "markdown",
   "metadata": {},
   "source": [
    "# 打造87%的RNN\n",
    "#### 更改文字壓縮維度、LSTM神經元個數、增加不同dropout、降低訓練次數"
   ]
  },
  {
   "cell_type": "markdown",
   "metadata": {},
   "source": [
    "## 1.初始準備"
   ]
  },
  {
   "cell_type": "markdown",
   "metadata": {},
   "source": [
    "### 1.1讀入基本套件"
   ]
  },
  {
   "cell_type": "code",
   "execution_count": 1,
   "metadata": {},
   "outputs": [
    {
     "name": "stdout",
     "output_type": "stream",
     "text": [
      "env: KERAS_BACKEND=tensorflow\n"
     ]
    }
   ],
   "source": [
    "%env KERAS_BACKEND=tensorflow"
   ]
  },
  {
   "cell_type": "code",
   "execution_count": 2,
   "metadata": {},
   "outputs": [],
   "source": [
    "%matplotlib inline"
   ]
  },
  {
   "cell_type": "code",
   "execution_count": 3,
   "metadata": {},
   "outputs": [],
   "source": [
    "import numpy as np\n",
    "import matplotlib.pyplot as plt"
   ]
  },
  {
   "cell_type": "markdown",
   "metadata": {},
   "source": [
    "### 1.2 讀入 IMDB 電影數據庫"
   ]
  },
  {
   "cell_type": "code",
   "execution_count": 4,
   "metadata": {},
   "outputs": [
    {
     "name": "stderr",
     "output_type": "stream",
     "text": [
      "Using TensorFlow backend.\n"
     ]
    }
   ],
   "source": [
    "from keras.datasets import imdb"
   ]
  },
  {
   "cell_type": "code",
   "execution_count": 73,
   "metadata": {},
   "outputs": [],
   "source": [
    "(x_train0, y_train), (x_test0, y_test) = imdb.load_data(num_words=10000)"
   ]
  },
  {
   "cell_type": "markdown",
   "metadata": {},
   "source": [
    "### 1.3 調整輸入長度一致(150個字)"
   ]
  },
  {
   "cell_type": "code",
   "execution_count": 6,
   "metadata": {},
   "outputs": [],
   "source": [
    "from keras.preprocessing import sequence"
   ]
  },
  {
   "cell_type": "code",
   "execution_count": 7,
   "metadata": {},
   "outputs": [],
   "source": [
    "x_train = sequence.pad_sequences(x_train0, maxlen=150)\n",
    "x_test = sequence.pad_sequences(x_test0, maxlen=150)"
   ]
  },
  {
   "cell_type": "code",
   "execution_count": 8,
   "metadata": {},
   "outputs": [
    {
     "data": {
      "text/plain": [
       "(25000, 150)"
      ]
     },
     "execution_count": 8,
     "metadata": {},
     "output_type": "execute_result"
    }
   ],
   "source": [
    "x_train.shape"
   ]
  },
  {
   "cell_type": "markdown",
   "metadata": {},
   "source": [
    "## 2.打造CNN"
   ]
  },
  {
   "cell_type": "code",
   "execution_count": 13,
   "metadata": {},
   "outputs": [],
   "source": [
    "from keras.models import Sequential\n",
    "from keras.layers import Dense, Embedding\n",
    "from keras.layers import LSTM"
   ]
  },
  {
   "cell_type": "markdown",
   "metadata": {},
   "source": [
    "### 2.1 Model_0(上課的設定)\n",
    "- 文字要壓到 3 維\n",
    "- LSTM 有 4 個神經元\n",
    "- activation function指定sigmoid"
   ]
  },
  {
   "cell_type": "code",
   "execution_count": 14,
   "metadata": {},
   "outputs": [],
   "source": [
    "N0 = 3 # 文字要壓到 N 維\n",
    "K0 = 4 # LSTM 有 K 個神經元"
   ]
  },
  {
   "cell_type": "code",
   "execution_count": 19,
   "metadata": {},
   "outputs": [],
   "source": [
    "model_0 = Sequential()\n",
    "model_0.add(Embedding(10000, N0))\n",
    "model_0.add(LSTM(K0))\n",
    "model_0.add(Dense(1, activation='sigmoid'))"
   ]
  },
  {
   "cell_type": "code",
   "execution_count": 20,
   "metadata": {},
   "outputs": [],
   "source": [
    "model_0.compile(loss = 'binary_crossentropy',\n",
    "               optimizer = 'adam',\n",
    "               metrics = ['accuracy'])"
   ]
  },
  {
   "cell_type": "code",
   "execution_count": 21,
   "metadata": {},
   "outputs": [
    {
     "name": "stdout",
     "output_type": "stream",
     "text": [
      "_________________________________________________________________\n",
      "Layer (type)                 Output Shape              Param #   \n",
      "=================================================================\n",
      "embedding_2 (Embedding)      (None, None, 3)           30000     \n",
      "_________________________________________________________________\n",
      "lstm_2 (LSTM)                (None, 4)                 128       \n",
      "_________________________________________________________________\n",
      "dense_2 (Dense)              (None, 1)                 5         \n",
      "=================================================================\n",
      "Total params: 30,133\n",
      "Trainable params: 30,133\n",
      "Non-trainable params: 0\n",
      "_________________________________________________________________\n"
     ]
    }
   ],
   "source": [
    "model_0.summary()"
   ]
  },
  {
   "cell_type": "code",
   "execution_count": 22,
   "metadata": {},
   "outputs": [
    {
     "name": "stdout",
     "output_type": "stream",
     "text": [
      "WARNING:tensorflow:From c:\\users\\ts105\\appdata\\local\\programs\\python\\python37\\lib\\site-packages\\tensorflow\\python\\ops\\math_ops.py:3066: to_int32 (from tensorflow.python.ops.math_ops) is deprecated and will be removed in a future version.\n",
      "Instructions for updating:\n",
      "Use tf.cast instead.\n",
      "Train on 25000 samples, validate on 25000 samples\n",
      "Epoch 1/5\n",
      "25000/25000 [==============================] - 53s 2ms/step - loss: 0.5155 - acc: 0.7423 - val_loss: 0.3758 - val_acc: 0.8436\n",
      "Epoch 2/5\n",
      "25000/25000 [==============================] - 54s 2ms/step - loss: 0.2911 - acc: 0.8874 - val_loss: 0.3305 - val_acc: 0.8618\n",
      "Epoch 3/5\n",
      "25000/25000 [==============================] - 54s 2ms/step - loss: 0.2241 - acc: 0.9198 - val_loss: 0.3413 - val_acc: 0.8627\n",
      "Epoch 4/5\n",
      "25000/25000 [==============================] - 61s 2ms/step - loss: 0.1847 - acc: 0.9386 - val_loss: 0.3829 - val_acc: 0.8527\n",
      "Epoch 5/5\n",
      "25000/25000 [==============================] - 58s 2ms/step - loss: 0.1605 - acc: 0.9466 - val_loss: 0.4166 - val_acc: 0.8484\n"
     ]
    }
   ],
   "source": [
    "model_0_result = model_0.fit(x_train, y_train,\n",
    "                          batch_size = 32,\n",
    "                          epochs = 5,\n",
    "                          validation_data = (x_test, y_test))"
   ]
  },
  {
   "cell_type": "markdown",
   "metadata": {},
   "source": [
    "### 2.1.1 model_0結果：正確率為0.85"
   ]
  },
  {
   "cell_type": "code",
   "execution_count": 23,
   "metadata": {},
   "outputs": [
    {
     "name": "stdout",
     "output_type": "stream",
     "text": [
      "25000/25000 [==============================] - 7s 293us/step\n"
     ]
    }
   ],
   "source": [
    "score = model_0.evaluate(x_test, y_test)"
   ]
  },
  {
   "cell_type": "code",
   "execution_count": 24,
   "metadata": {},
   "outputs": [
    {
     "name": "stdout",
     "output_type": "stream",
     "text": [
      "測試資料的 loss = 0.4165778584384918\n",
      "測試資正確率 = 0.84844\n"
     ]
    }
   ],
   "source": [
    "print(f'測試資料的 loss = {score[0]}')\n",
    "print(f'測試資正確率 = {score[1]}')"
   ]
  },
  {
   "cell_type": "markdown",
   "metadata": {},
   "source": [
    "### 2.2 Model_1(先增加N跟K)\n",
    "- 文字要壓到 <span style=\"color:red;\">80</span> 維\n",
    "- LSTM 有 <span style=\"color:red;\">10</span> 個神經元\n",
    "- activation function指定sigmoid"
   ]
  },
  {
   "cell_type": "code",
   "execution_count": 45,
   "metadata": {},
   "outputs": [],
   "source": [
    "N1 = 80 # 文字要壓到 N 維\n",
    "K1 = 10 # LSTM 有 K 個神經元"
   ]
  },
  {
   "cell_type": "code",
   "execution_count": 46,
   "metadata": {},
   "outputs": [],
   "source": [
    "model_1 = Sequential()\n",
    "model_1.add(Embedding(10000, N1))\n",
    "model_1.add(LSTM(K1))\n",
    "model_1.add(Dense(1, activation='sigmoid'))"
   ]
  },
  {
   "cell_type": "code",
   "execution_count": 47,
   "metadata": {},
   "outputs": [],
   "source": [
    "model_1.compile(loss = 'binary_crossentropy',\n",
    "               optimizer = 'adam',\n",
    "               metrics = ['accuracy'])"
   ]
  },
  {
   "cell_type": "code",
   "execution_count": 48,
   "metadata": {},
   "outputs": [
    {
     "name": "stdout",
     "output_type": "stream",
     "text": [
      "_________________________________________________________________\n",
      "Layer (type)                 Output Shape              Param #   \n",
      "=================================================================\n",
      "embedding_8 (Embedding)      (None, None, 80)          800000    \n",
      "_________________________________________________________________\n",
      "lstm_8 (LSTM)                (None, 10)                3640      \n",
      "_________________________________________________________________\n",
      "dense_8 (Dense)              (None, 1)                 11        \n",
      "=================================================================\n",
      "Total params: 803,651\n",
      "Trainable params: 803,651\n",
      "Non-trainable params: 0\n",
      "_________________________________________________________________\n"
     ]
    }
   ],
   "source": [
    "model_1.summary()"
   ]
  },
  {
   "cell_type": "code",
   "execution_count": 49,
   "metadata": {},
   "outputs": [
    {
     "name": "stdout",
     "output_type": "stream",
     "text": [
      "Train on 25000 samples, validate on 25000 samples\n",
      "Epoch 1/5\n",
      "25000/25000 [==============================] - 71s 3ms/step - loss: 0.4475 - acc: 0.7892 - val_loss: 0.3374 - val_acc: 0.8579\n",
      "Epoch 2/5\n",
      "25000/25000 [==============================] - 69s 3ms/step - loss: 0.2578 - acc: 0.8994 - val_loss: 0.3460 - val_acc: 0.8564\n",
      "Epoch 3/5\n",
      "25000/25000 [==============================] - 66s 3ms/step - loss: 0.1806 - acc: 0.9354 - val_loss: 0.4173 - val_acc: 0.8532\n",
      "Epoch 4/5\n",
      "25000/25000 [==============================] - 63s 3ms/step - loss: 0.1410 - acc: 0.9506 - val_loss: 0.4321 - val_acc: 0.8510\n",
      "Epoch 5/5\n",
      "25000/25000 [==============================] - 65s 3ms/step - loss: 0.1091 - acc: 0.9619 - val_loss: 0.4148 - val_acc: 0.8600\n"
     ]
    }
   ],
   "source": [
    "model_1_result = model_1.fit(x_train, y_train,\n",
    "                          batch_size = 32,\n",
    "                          epochs = 5,\n",
    "                          validation_data = (x_test, y_test))"
   ]
  },
  {
   "cell_type": "code",
   "execution_count": 50,
   "metadata": {},
   "outputs": [
    {
     "name": "stdout",
     "output_type": "stream",
     "text": [
      "25000/25000 [==============================] - 9s 375us/step\n"
     ]
    }
   ],
   "source": [
    "score_1 = model_1.evaluate(x_test, y_test)"
   ]
  },
  {
   "cell_type": "markdown",
   "metadata": {},
   "source": [
    "### 2.2.1model_1結果：正確率為0.86，些微上升"
   ]
  },
  {
   "cell_type": "code",
   "execution_count": 51,
   "metadata": {},
   "outputs": [
    {
     "name": "stdout",
     "output_type": "stream",
     "text": [
      "測試資料的 loss = 0.4148408073139191\n",
      "測試資正確率 = 0.85996\n"
     ]
    }
   ],
   "source": [
    "print(f'測試資料的 loss = {score_1[0]}')\n",
    "print(f'測試資正確率 = {score_1[1]}')"
   ]
  },
  {
   "cell_type": "markdown",
   "metadata": {},
   "source": [
    "### 2.3model_2 加入dropout，解決overfitting的問題\n",
    "- 文字要壓到 80 維\n",
    "- LSTM 有 10 個神經元\n",
    "- activation function指定sigmoid\n",
    "- <span style=\"color:red;\">加入dropout(0.5)</span>"
   ]
  },
  {
   "cell_type": "code",
   "execution_count": 55,
   "metadata": {},
   "outputs": [],
   "source": [
    "from keras.layers import Dropout"
   ]
  },
  {
   "cell_type": "code",
   "execution_count": 56,
   "metadata": {},
   "outputs": [],
   "source": [
    "N2 = 80 # 文字要壓到 N 維\n",
    "K2 = 10 # LSTM 有 K 個神經元\n",
    "D1 = 0.5 # dropout比例\n",
    "D2 = 0.5 # dropout比例"
   ]
  },
  {
   "cell_type": "code",
   "execution_count": 60,
   "metadata": {},
   "outputs": [],
   "source": [
    "model_2 = Sequential()\n",
    "model_2.add(Embedding(10000, N2))\n",
    "model_2.add(Dropout(D1))\n",
    "model_2.add(LSTM(K2))\n",
    "model_2.add(Dropout(D2))\n",
    "model_2.add(Dense(1, activation='sigmoid'))"
   ]
  },
  {
   "cell_type": "code",
   "execution_count": 61,
   "metadata": {},
   "outputs": [],
   "source": [
    "model_2.compile(loss = 'binary_crossentropy',\n",
    "               optimizer = 'adam',\n",
    "               metrics = ['accuracy'])"
   ]
  },
  {
   "cell_type": "code",
   "execution_count": 62,
   "metadata": {},
   "outputs": [
    {
     "name": "stdout",
     "output_type": "stream",
     "text": [
      "_________________________________________________________________\n",
      "Layer (type)                 Output Shape              Param #   \n",
      "=================================================================\n",
      "embedding_11 (Embedding)     (None, None, 80)          800000    \n",
      "_________________________________________________________________\n",
      "dropout_3 (Dropout)          (None, None, 80)          0         \n",
      "_________________________________________________________________\n",
      "lstm_10 (LSTM)               (None, 10)                3640      \n",
      "_________________________________________________________________\n",
      "dropout_4 (Dropout)          (None, 10)                0         \n",
      "_________________________________________________________________\n",
      "dense_10 (Dense)             (None, 1)                 11        \n",
      "=================================================================\n",
      "Total params: 803,651\n",
      "Trainable params: 803,651\n",
      "Non-trainable params: 0\n",
      "_________________________________________________________________\n"
     ]
    }
   ],
   "source": [
    "model_2.summary()"
   ]
  },
  {
   "cell_type": "code",
   "execution_count": 63,
   "metadata": {},
   "outputs": [
    {
     "name": "stdout",
     "output_type": "stream",
     "text": [
      "Train on 25000 samples, validate on 25000 samples\n",
      "Epoch 1/5\n",
      "25000/25000 [==============================] - 75s 3ms/step - loss: 0.4717 - acc: 0.7823 - val_loss: 0.3404 - val_acc: 0.8570\n",
      "Epoch 2/5\n",
      "25000/25000 [==============================] - 71s 3ms/step - loss: 0.2948 - acc: 0.8916 - val_loss: 0.3318 - val_acc: 0.8565\n",
      "Epoch 3/5\n",
      "25000/25000 [==============================] - 71s 3ms/step - loss: 0.2335 - acc: 0.9186 - val_loss: 0.3717 - val_acc: 0.8606\n",
      "Epoch 4/5\n",
      "25000/25000 [==============================] - 72s 3ms/step - loss: 0.1954 - acc: 0.9322 - val_loss: 0.4067 - val_acc: 0.8502\n",
      "Epoch 5/5\n",
      "25000/25000 [==============================] - 73s 3ms/step - loss: 0.1723 - acc: 0.9412 - val_loss: 0.3800 - val_acc: 0.8616\n"
     ]
    }
   ],
   "source": [
    "model_2_result = model_2.fit(x_train, y_train,\n",
    "                          batch_size = 32,\n",
    "                          epochs = 5,\n",
    "                          validation_data = (x_test, y_test))"
   ]
  },
  {
   "cell_type": "code",
   "execution_count": 64,
   "metadata": {},
   "outputs": [
    {
     "name": "stdout",
     "output_type": "stream",
     "text": [
      "25000/25000 [==============================] - 18s 730us/step\n"
     ]
    }
   ],
   "source": [
    "score_2 = model_2.evaluate(x_test, y_test)"
   ]
  },
  {
   "cell_type": "code",
   "execution_count": 65,
   "metadata": {},
   "outputs": [
    {
     "name": "stdout",
     "output_type": "stream",
     "text": [
      "測試資料的 loss = 0.37998341552257536\n",
      "測試資正確率 = 0.86164\n"
     ]
    }
   ],
   "source": [
    "print(f'測試資料的 loss = {score_2[0]}')\n",
    "print(f'測試資正確率 = {score_2[1]}')"
   ]
  },
  {
   "cell_type": "markdown",
   "metadata": {},
   "source": [
    "###  2.3.1 model_2結論：正確率為0.86，有稍微再上升，但沒有達到0.87"
   ]
  },
  {
   "cell_type": "markdown",
   "metadata": {},
   "source": [
    "### 2.4 model_3 更改dropout的數值，調小一點\n",
    "- 文字要壓到 80 維\n",
    "- LSTM 有 10 個神經元\n",
    "- activation function指定sigmoid\n",
    "- 加入dropout(<span style=\"color:red;\">0.2</span>)"
   ]
  },
  {
   "cell_type": "code",
   "execution_count": 66,
   "metadata": {},
   "outputs": [],
   "source": [
    "N3 = 80 # 文字要壓到 N 維\n",
    "K3 = 10 # LSTM 有 K 個神經元\n",
    "D1 = 0.2 # dropout比例\n",
    "D2 = 0.2 # dropout比例"
   ]
  },
  {
   "cell_type": "code",
   "execution_count": 67,
   "metadata": {},
   "outputs": [],
   "source": [
    "model_3 = Sequential()\n",
    "model_3.add(Embedding(10000, N3))\n",
    "model_3.add(Dropout(D1))\n",
    "model_3.add(LSTM(K3))\n",
    "model_3.add(Dropout(D2))\n",
    "model_3.add(Dense(1, activation='sigmoid'))"
   ]
  },
  {
   "cell_type": "code",
   "execution_count": 68,
   "metadata": {},
   "outputs": [],
   "source": [
    "model_3.compile(loss = 'binary_crossentropy',\n",
    "               optimizer = 'adam',\n",
    "               metrics = ['accuracy'])"
   ]
  },
  {
   "cell_type": "code",
   "execution_count": 69,
   "metadata": {},
   "outputs": [
    {
     "name": "stdout",
     "output_type": "stream",
     "text": [
      "_________________________________________________________________\n",
      "Layer (type)                 Output Shape              Param #   \n",
      "=================================================================\n",
      "embedding_12 (Embedding)     (None, None, 80)          800000    \n",
      "_________________________________________________________________\n",
      "dropout_5 (Dropout)          (None, None, 80)          0         \n",
      "_________________________________________________________________\n",
      "lstm_11 (LSTM)               (None, 10)                3640      \n",
      "_________________________________________________________________\n",
      "dropout_6 (Dropout)          (None, 10)                0         \n",
      "_________________________________________________________________\n",
      "dense_11 (Dense)             (None, 1)                 11        \n",
      "=================================================================\n",
      "Total params: 803,651\n",
      "Trainable params: 803,651\n",
      "Non-trainable params: 0\n",
      "_________________________________________________________________\n"
     ]
    }
   ],
   "source": [
    "model_3.summary()"
   ]
  },
  {
   "cell_type": "code",
   "execution_count": 70,
   "metadata": {},
   "outputs": [
    {
     "name": "stdout",
     "output_type": "stream",
     "text": [
      "Train on 25000 samples, validate on 25000 samples\n",
      "Epoch 1/5\n",
      "25000/25000 [==============================] - 132s 5ms/step - loss: 0.4780 - acc: 0.7781 - val_loss: 0.3727 - val_acc: 0.8447\n",
      "Epoch 2/5\n",
      "25000/25000 [==============================] - 126s 5ms/step - loss: 0.2991 - acc: 0.8823 - val_loss: 0.3294 - val_acc: 0.8605\n",
      "Epoch 3/5\n",
      "25000/25000 [==============================] - 126s 5ms/step - loss: 0.2231 - acc: 0.9186 - val_loss: 0.3435 - val_acc: 0.8618\n",
      "Epoch 4/5\n",
      "25000/25000 [==============================] - 127s 5ms/step - loss: 0.1792 - acc: 0.9377 - val_loss: 0.3602 - val_acc: 0.8567\n",
      "Epoch 5/5\n",
      "25000/25000 [==============================] - 127s 5ms/step - loss: 0.1437 - acc: 0.9508 - val_loss: 0.4190 - val_acc: 0.8558\n"
     ]
    }
   ],
   "source": [
    "model_3_result = model_3.fit(x_train, y_train,\n",
    "                          batch_size = 32,\n",
    "                          epochs = 5,\n",
    "                          validation_data = (x_test, y_test))"
   ]
  },
  {
   "cell_type": "code",
   "execution_count": 71,
   "metadata": {},
   "outputs": [
    {
     "name": "stdout",
     "output_type": "stream",
     "text": [
      "25000/25000 [==============================] - 18s 737us/step\n"
     ]
    }
   ],
   "source": [
    "score_3 = model_3.evaluate(x_test, y_test)"
   ]
  },
  {
   "cell_type": "code",
   "execution_count": 72,
   "metadata": {},
   "outputs": [
    {
     "name": "stdout",
     "output_type": "stream",
     "text": [
      "測試資料的 loss = 0.4189763802242279\n",
      "測試資正確率 = 0.8558\n"
     ]
    }
   ],
   "source": [
    "print(f'測試資料的 loss = {score_3[0]}')\n",
    "print(f'測試資正確率 = {score_3[1]}')"
   ]
  },
  {
   "cell_type": "markdown",
   "metadata": {},
   "source": [
    "### 2.4.1 model_3結論：正確率為0.85，不升反降QQ"
   ]
  },
  {
   "cell_type": "markdown",
   "metadata": {},
   "source": [
    "### 2.5 model_4 增加maxlen\n",
    "- 文字要壓到 80 維\n",
    "- LSTM 有 10 個神經元\n",
    "- activation function指定sigmoid\n",
    "- 加入dropout(0.2)\n",
    "- maxlen從150改為<span style=\"color:red;\">250</span>"
   ]
  },
  {
   "cell_type": "code",
   "execution_count": 74,
   "metadata": {},
   "outputs": [],
   "source": [
    "x_train1 = sequence.pad_sequences(x_train0, maxlen=250)\n",
    "x_test1 = sequence.pad_sequences(x_test0, maxlen=250)"
   ]
  },
  {
   "cell_type": "code",
   "execution_count": 75,
   "metadata": {},
   "outputs": [],
   "source": [
    "N4 = 80 # 文字要壓到 N 維\n",
    "K4 = 10 # LSTM 有 K 個神經元\n",
    "D1 = 0.2 # dropout比例\n",
    "D2 = 0.2 # dropout比例"
   ]
  },
  {
   "cell_type": "code",
   "execution_count": 76,
   "metadata": {},
   "outputs": [],
   "source": [
    "model_4 = Sequential()\n",
    "model_4.add(Embedding(10000, N4))\n",
    "model_4.add(Dropout(D1))\n",
    "model_4.add(LSTM(K4))\n",
    "model_4.add(Dropout(D2))\n",
    "model_4.add(Dense(1, activation='sigmoid'))"
   ]
  },
  {
   "cell_type": "code",
   "execution_count": 78,
   "metadata": {},
   "outputs": [],
   "source": [
    "model_4.compile(loss = 'binary_crossentropy',\n",
    "               optimizer = 'adam',\n",
    "               metrics = ['accuracy'])"
   ]
  },
  {
   "cell_type": "code",
   "execution_count": 79,
   "metadata": {},
   "outputs": [
    {
     "name": "stdout",
     "output_type": "stream",
     "text": [
      "_________________________________________________________________\n",
      "Layer (type)                 Output Shape              Param #   \n",
      "=================================================================\n",
      "embedding_13 (Embedding)     (None, None, 80)          800000    \n",
      "_________________________________________________________________\n",
      "dropout_7 (Dropout)          (None, None, 80)          0         \n",
      "_________________________________________________________________\n",
      "lstm_12 (LSTM)               (None, 10)                3640      \n",
      "_________________________________________________________________\n",
      "dropout_8 (Dropout)          (None, 10)                0         \n",
      "_________________________________________________________________\n",
      "dense_12 (Dense)             (None, 1)                 11        \n",
      "=================================================================\n",
      "Total params: 803,651\n",
      "Trainable params: 803,651\n",
      "Non-trainable params: 0\n",
      "_________________________________________________________________\n"
     ]
    }
   ],
   "source": [
    "model_4.summary()"
   ]
  },
  {
   "cell_type": "code",
   "execution_count": 80,
   "metadata": {},
   "outputs": [
    {
     "name": "stdout",
     "output_type": "stream",
     "text": [
      "Train on 25000 samples, validate on 25000 samples\n",
      "Epoch 1/5\n",
      "25000/25000 [==============================] - 197s 8ms/step - loss: 0.4781 - acc: 0.7800 - val_loss: 0.3695 - val_acc: 0.8444\n",
      "Epoch 2/5\n",
      "25000/25000 [==============================] - 191s 8ms/step - loss: 0.2868 - acc: 0.8867 - val_loss: 0.3288 - val_acc: 0.8551\n",
      "Epoch 3/5\n",
      "25000/25000 [==============================] - 187s 7ms/step - loss: 0.2102 - acc: 0.9245 - val_loss: 0.3384 - val_acc: 0.8610\n",
      "Epoch 4/5\n",
      "25000/25000 [==============================] - 191s 8ms/step - loss: 0.1625 - acc: 0.9426 - val_loss: 0.3535 - val_acc: 0.8675\n",
      "Epoch 5/5\n",
      "25000/25000 [==============================] - 193s 8ms/step - loss: 0.1285 - acc: 0.9544 - val_loss: 0.4090 - val_acc: 0.8595\n"
     ]
    }
   ],
   "source": [
    "model_4_result = model_4.fit(x_train1, y_train,\n",
    "                          batch_size = 32,\n",
    "                          epochs = 5,\n",
    "                          validation_data = (x_test1, y_test))"
   ]
  },
  {
   "cell_type": "code",
   "execution_count": 81,
   "metadata": {},
   "outputs": [
    {
     "name": "stdout",
     "output_type": "stream",
     "text": [
      "25000/25000 [==============================] - 29s 1ms/step\n"
     ]
    }
   ],
   "source": [
    "score_4 = model_4.evaluate(x_test1, y_test)"
   ]
  },
  {
   "cell_type": "code",
   "execution_count": 82,
   "metadata": {},
   "outputs": [
    {
     "name": "stdout",
     "output_type": "stream",
     "text": [
      "測試資料的 loss = 0.4090455540084839\n",
      "測試資正確率 = 0.85948\n"
     ]
    }
   ],
   "source": [
    "print(f'測試資料的 loss = {score_4[0]}')\n",
    "print(f'測試資正確率 = {score_4[1]}')"
   ]
  },
  {
   "cell_type": "markdown",
   "metadata": {},
   "source": [
    "### 2.5.1 model_4結論：正確率為0.85，還是無法增加正確率"
   ]
  },
  {
   "cell_type": "markdown",
   "metadata": {},
   "source": [
    "### 2.6 model_5 dropout調回0.5試試\n",
    "- 文字要壓到 80 維\n",
    "- LSTM 有 10 個神經元\n",
    "- activation function指定sigmoid\n",
    "- 加入dropout(<span style=\"color:red;\">0.5</span>)\n",
    "- maxlen 250"
   ]
  },
  {
   "cell_type": "code",
   "execution_count": 86,
   "metadata": {},
   "outputs": [],
   "source": [
    "N5 = 80 # 文字要壓到 N 維\n",
    "K5 = 10 # LSTM 有 K 個神經元\n",
    "D1 = 0.5 # dropout比例\n",
    "D2 = 0.5 # dropout比例"
   ]
  },
  {
   "cell_type": "code",
   "execution_count": 87,
   "metadata": {},
   "outputs": [],
   "source": [
    "model_5 = Sequential()\n",
    "model_5.add(Embedding(10000, N5))\n",
    "model_5.add(Dropout(D1))\n",
    "model_5.add(LSTM(K5))\n",
    "model_5.add(Dropout(D2))\n",
    "model_5.add(Dense(1, activation='sigmoid'))"
   ]
  },
  {
   "cell_type": "code",
   "execution_count": 88,
   "metadata": {},
   "outputs": [],
   "source": [
    "model_5.compile(loss = 'binary_crossentropy',\n",
    "               optimizer = 'adam',\n",
    "               metrics = ['accuracy'])"
   ]
  },
  {
   "cell_type": "code",
   "execution_count": 89,
   "metadata": {},
   "outputs": [
    {
     "name": "stdout",
     "output_type": "stream",
     "text": [
      "_________________________________________________________________\n",
      "Layer (type)                 Output Shape              Param #   \n",
      "=================================================================\n",
      "embedding_14 (Embedding)     (None, None, 80)          800000    \n",
      "_________________________________________________________________\n",
      "dropout_9 (Dropout)          (None, None, 80)          0         \n",
      "_________________________________________________________________\n",
      "lstm_13 (LSTM)               (None, 10)                3640      \n",
      "_________________________________________________________________\n",
      "dropout_10 (Dropout)         (None, 10)                0         \n",
      "_________________________________________________________________\n",
      "dense_13 (Dense)             (None, 1)                 11        \n",
      "=================================================================\n",
      "Total params: 803,651\n",
      "Trainable params: 803,651\n",
      "Non-trainable params: 0\n",
      "_________________________________________________________________\n"
     ]
    }
   ],
   "source": [
    "model_5.summary()"
   ]
  },
  {
   "cell_type": "code",
   "execution_count": 90,
   "metadata": {},
   "outputs": [
    {
     "name": "stdout",
     "output_type": "stream",
     "text": [
      "Train on 25000 samples, validate on 25000 samples\n",
      "Epoch 1/5\n",
      "25000/25000 [==============================] - 204s 8ms/step - loss: 0.5213 - acc: 0.7525 - val_loss: 0.3666 - val_acc: 0.8453\n",
      "Epoch 2/5\n",
      "25000/25000 [==============================] - 190s 8ms/step - loss: 0.3126 - acc: 0.8820 - val_loss: 0.3126 - val_acc: 0.8712\n",
      "Epoch 3/5\n",
      "25000/25000 [==============================] - 190s 8ms/step - loss: 0.2453 - acc: 0.9131 - val_loss: 0.3575 - val_acc: 0.8683\n",
      "Epoch 4/5\n",
      "25000/25000 [==============================] - 189s 8ms/step - loss: 0.2089 - acc: 0.9250 - val_loss: 0.3506 - val_acc: 0.8697\n",
      "Epoch 5/5\n",
      "25000/25000 [==============================] - 187s 7ms/step - loss: 0.1817 - acc: 0.9390 - val_loss: 0.3869 - val_acc: 0.8657\n"
     ]
    }
   ],
   "source": [
    "model_5_result = model_5.fit(x_train1, y_train,\n",
    "                          batch_size = 32,\n",
    "                          epochs = 5,\n",
    "                          validation_data = (x_test1, y_test))"
   ]
  },
  {
   "cell_type": "code",
   "execution_count": 91,
   "metadata": {},
   "outputs": [
    {
     "name": "stdout",
     "output_type": "stream",
     "text": [
      "25000/25000 [==============================] - 26s 1ms/step\n",
      "測試資料的 loss = 0.38688930970668794\n",
      "測試資正確率 = 0.86572\n"
     ]
    }
   ],
   "source": [
    "score_5 = model_5.evaluate(x_test1, y_test)\n",
    "print(f'測試資料的 loss = {score_5[0]}')\n",
    "print(f'測試資正確率 = {score_5[1]}')"
   ]
  },
  {
   "cell_type": "markdown",
   "metadata": {},
   "source": [
    "### 2.6.1 model_5結論：正確率0.86，有上0.87，但又往下掉，也許不要訓練太多次(overfitting)反而是好的？"
   ]
  },
  {
   "cell_type": "markdown",
   "metadata": {},
   "source": [
    "### 2.7 model_6 減少epoch，並再提高一點dropout看看\n",
    "- 文字要壓到 80 維\n",
    "- LSTM 有 10 個神經元\n",
    "- activation function指定sigmoid\n",
    "- 加入dropout(<span style=\"color:red;\">0.6</span>)\n",
    "- maxlen 250\n",
    "- 訓練<span style=\"color:red;\">2</span>次"
   ]
  },
  {
   "cell_type": "code",
   "execution_count": 93,
   "metadata": {},
   "outputs": [],
   "source": [
    "N6 = 80 # 文字要壓到 N 維\n",
    "K6 = 10 # LSTM 有 K 個神經元\n",
    "D1 = 0.6 # dropout比例\n",
    "D2 = 0.6 # dropout比例"
   ]
  },
  {
   "cell_type": "code",
   "execution_count": 94,
   "metadata": {},
   "outputs": [],
   "source": [
    "model_6 = Sequential()\n",
    "model_6.add(Embedding(10000, N6))\n",
    "model_6.add(Dropout(D1))\n",
    "model_6.add(LSTM(K6))\n",
    "model_6.add(Dropout(D2))\n",
    "model_6.add(Dense(1, activation='sigmoid'))"
   ]
  },
  {
   "cell_type": "code",
   "execution_count": 95,
   "metadata": {},
   "outputs": [],
   "source": [
    "model_6.compile(loss = 'binary_crossentropy',\n",
    "               optimizer = 'adam',\n",
    "               metrics = ['accuracy'])"
   ]
  },
  {
   "cell_type": "code",
   "execution_count": 96,
   "metadata": {},
   "outputs": [
    {
     "name": "stdout",
     "output_type": "stream",
     "text": [
      "_________________________________________________________________\n",
      "Layer (type)                 Output Shape              Param #   \n",
      "=================================================================\n",
      "embedding_15 (Embedding)     (None, None, 80)          800000    \n",
      "_________________________________________________________________\n",
      "dropout_11 (Dropout)         (None, None, 80)          0         \n",
      "_________________________________________________________________\n",
      "lstm_14 (LSTM)               (None, 10)                3640      \n",
      "_________________________________________________________________\n",
      "dropout_12 (Dropout)         (None, 10)                0         \n",
      "_________________________________________________________________\n",
      "dense_14 (Dense)             (None, 1)                 11        \n",
      "=================================================================\n",
      "Total params: 803,651\n",
      "Trainable params: 803,651\n",
      "Non-trainable params: 0\n",
      "_________________________________________________________________\n"
     ]
    }
   ],
   "source": [
    "model_6.summary()"
   ]
  },
  {
   "cell_type": "code",
   "execution_count": 99,
   "metadata": {},
   "outputs": [
    {
     "name": "stdout",
     "output_type": "stream",
     "text": [
      "Train on 25000 samples, validate on 25000 samples\n",
      "Epoch 1/2\n",
      "25000/25000 [==============================] - 200s 8ms/step - loss: 0.4865 - acc: 0.7764 - val_loss: 0.3338 - val_acc: 0.8655\n",
      "Epoch 2/2\n",
      "25000/25000 [==============================] - 192s 8ms/step - loss: 0.3061 - acc: 0.8941 - val_loss: 0.3165 - val_acc: 0.8719\n"
     ]
    }
   ],
   "source": [
    "model_6_result = model_6.fit(x_train1, y_train,\n",
    "                          batch_size = 32,\n",
    "                          epochs = 2,\n",
    "                          validation_data = (x_test1, y_test))"
   ]
  },
  {
   "cell_type": "code",
   "execution_count": 100,
   "metadata": {},
   "outputs": [
    {
     "name": "stdout",
     "output_type": "stream",
     "text": [
      "25000/25000 [==============================] - 29s 1ms/step\n",
      "測試資料的 loss = 0.316459867811203\n",
      "測試資正確率 = 0.87188\n"
     ]
    }
   ],
   "source": [
    "score_6 = model_6.evaluate(x_test1, y_test)\n",
    "print(f'測試資料的 loss = {score_6[0]}')\n",
    "print(f'測試資正確率 = {score_6[1]}')"
   ]
  },
  {
   "cell_type": "markdown",
   "metadata": {},
   "source": [
    "### 2.7.1 model_6結論：正確率0.87，終於~"
   ]
  },
  {
   "cell_type": "markdown",
   "metadata": {},
   "source": [
    "#### model_6番外篇"
   ]
  },
  {
   "cell_type": "markdown",
   "metadata": {},
   "source": [
    "如果再訓練兩次呢？"
   ]
  },
  {
   "cell_type": "code",
   "execution_count": 101,
   "metadata": {},
   "outputs": [
    {
     "name": "stdout",
     "output_type": "stream",
     "text": [
      "Train on 25000 samples, validate on 25000 samples\n",
      "Epoch 1/2\n",
      "25000/25000 [==============================] - 187s 7ms/step - loss: 0.2492 - acc: 0.9173 - val_loss: 0.3322 - val_acc: 0.8777\n",
      "Epoch 2/2\n",
      "25000/25000 [==============================] - 187s 7ms/step - loss: 0.2096 - acc: 0.9310 - val_loss: 0.4206 - val_acc: 0.8259\n"
     ]
    }
   ],
   "source": [
    "model_6.fit(x_train1, y_train,\n",
    "                          batch_size = 32,\n",
    "                          epochs = 2,\n",
    "                          validation_data = (x_test1, y_test))"
   ]
  },
  {
   "cell_type": "markdown",
   "metadata": {},
   "source": [
    "正確率上升又下降，再訓練兩次?"
   ]
  },
  {
   "cell_type": "code",
   "execution_count": 103,
   "metadata": {},
   "outputs": [
    {
     "name": "stdout",
     "output_type": "stream",
     "text": [
      "Train on 25000 samples, validate on 25000 samples\n",
      "Epoch 1/2\n",
      "25000/25000 [==============================] - 186s 7ms/step - loss: 0.1947 - acc: 0.9377 - val_loss: 0.3767 - val_acc: 0.8726\n",
      "Epoch 2/2\n",
      "25000/25000 [==============================] - 188s 8ms/step - loss: 0.1725 - acc: 0.9448 - val_loss: 0.3843 - val_acc: 0.8676\n"
     ]
    },
    {
     "data": {
      "text/plain": [
       "<keras.callbacks.History at 0x136487856a0>"
      ]
     },
     "execution_count": 103,
     "metadata": {},
     "output_type": "execute_result"
    }
   ],
   "source": [
    "model_6.fit(x_train1, y_train,\n",
    "                          batch_size = 32,\n",
    "                          epochs = 2,\n",
    "                          validation_data = (x_test1, y_test))"
   ]
  },
  {
   "cell_type": "markdown",
   "metadata": {},
   "source": [
    "正確率還是上升又下降~看來不要訓練多次不一定比較好"
   ]
  },
  {
   "cell_type": "markdown",
   "metadata": {},
   "source": [
    "## 3.總結論"
   ]
  },
  {
   "cell_type": "markdown",
   "metadata": {},
   "source": [
    "### 畫個圖看看吧"
   ]
  },
  {
   "cell_type": "code",
   "execution_count": 108,
   "metadata": {},
   "outputs": [
    {
     "data": {
      "image/png": "[encoded data removed]",
      "text/plain": [
       "<Figure size 432x288 with 1 Axes>"
      ]
     },
     "metadata": {
      "needs_background": "light"
     },
     "output_type": "display_data"
    }
   ],
   "source": [
    "plt.plot(model_0_result.history[\"val_acc\"])\n",
    "plt.plot(model_1_result.history[\"val_acc\"])\n",
    "plt.plot(model_2_result.history[\"val_acc\"])\n",
    "plt.plot(model_3_result.history[\"val_acc\"])\n",
    "plt.plot(model_4_result.history[\"val_acc\"])\n",
    "plt.plot(model_5_result.history[\"val_acc\"])\n",
    "plt.plot(model_6_result.history[\"val_acc\"])\n",
    "\n",
    "plt.title(\"model training accuracy\")\n",
    "plt.ylabel(\"validation accuracy\")\n",
    "plt.xlabel(\"epoch\")\n",
    "plt.legend([\"model_0\", \"model_1\", \"model_2\", \"model_3\", \"model_4\", \"model_5\", \"model_6\"], loc = \"best\")\n",
    "plt.show()"
   ]
  },
  {
   "cell_type": "markdown",
   "metadata": {},
   "source": [
    "### 最後雖然有做出正確率達到87%的model，但過程中的嘗試的正確率不停擺盪，因此很難說出哪樣調整一定會比較好，感覺是運氣成分居多哈，不過可以得出的結論是，有時訓練會發生overfitting的狀態，因此不一定model愈訓練會愈好。"
   ]
  }
 ],
 "metadata": {
  "kernelspec": {
   "display_name": "Python 3",
   "language": "python",
   "name": "python3"
  },
  "language_info": {
   "codemirror_mode": {
    "name": "ipython",
    "version": 3
   },
   "file_extension": ".py",
   "mimetype": "text/x-python",
   "name": "python",
   "nbconvert_exporter": "python",
   "pygments_lexer": "ipython3",
   "version": "3.7.0"
  }
 },
 "nbformat": 4,
 "nbformat_minor": 2
}
