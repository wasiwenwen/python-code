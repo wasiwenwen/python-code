{
 "cells": [
  {
   "cell_type": "markdown",
   "metadata": {},
   "source": [
    "# 【視覺化/互動VAE中手寫辨識的Decoder】\n",
    "\n",
    "#### 組員:\n",
    "* B03207062簡家蓁\n",
    "* R06227124溫怡萱\n",
    "\n",
    "#### 說明:\n",
    "    利用matplotlib互動功能與ipywidgets互動功能實做視覺化/互動VAE中手寫辨識的Decoder\n",
    "    \n",
    "#### 步驟:\n",
    "* 初始準備\n",
    "* 讀入 MNIST 數據庫\n",
    "* Variational Autoencoder\n",
    "* 互動式介面建立\n",
    "* 動態呈現"
   ]
  },
  {
   "cell_type": "markdown",
   "metadata": {
    "colab_type": "text",
    "id": "CoF2iw8lCto6"
   },
   "source": [
    "# 1. 初始準備"
   ]
  },
  {
   "cell_type": "code",
   "execution_count": 1,
   "metadata": {
    "colab": {
     "base_uri": "https://localhost:8080/",
     "height": 34
    },
    "colab_type": "code",
    "id": "byRu4WWoCto8",
    "outputId": "dc408b49-6dd4-485b-c7d3-67f68abba2d7"
   },
   "outputs": [
    {
     "name": "stdout",
     "output_type": "stream",
     "text": [
      "env: KERAS_BACKEND=tensorflow\n"
     ]
    }
   ],
   "source": [
    "%env KERAS_BACKEND=tensorflow"
   ]
  },
  {
   "cell_type": "code",
   "execution_count": 2,
   "metadata": {
    "colab": {},
    "colab_type": "code",
    "id": "B5ihoDAuCtpE"
   },
   "outputs": [],
   "source": [
    "%matplotlib inline\n",
    "import numpy as np\n",
    "import matplotlib.pyplot as plt\n",
    "from ipywidgets import interact, FloatSlider, interact_manual"
   ]
  },
  {
   "cell_type": "code",
   "execution_count": 3,
   "metadata": {
    "colab": {
     "base_uri": "https://localhost:8080/",
     "height": 34
    },
    "colab_type": "code",
    "id": "wJX9WqY6CtpH",
    "outputId": "0aacc93b-ee29-480a-91ec-b413209fab61"
   },
   "outputs": [
    {
     "name": "stderr",
     "output_type": "stream",
     "text": [
      "Using TensorFlow backend.\n"
     ]
    }
   ],
   "source": [
    "# Keras functions\n",
    "from keras.models import Sequential, Model\n",
    "from keras.layers import Input, Lambda, concatenate\n",
    "from keras.layers import Dense\n",
    "from keras.layers import Conv2D, MaxPooling2D\n",
    "from keras.layers import Conv2DTranspose, UpSampling2D\n",
    "from keras.optimizers import SGD, Adam\n",
    "from keras import metrics\n",
    "\n",
    "# Keras dataset\n",
    "from keras.datasets import mnist\n",
    "\n",
    "# Keras utilis function\n",
    "from keras.utils import np_utils\n",
    "\n",
    "from keras import backend as K"
   ]
  },
  {
   "cell_type": "markdown",
   "metadata": {
    "colab_type": "text",
    "id": "iw_UbrjfCtpL"
   },
   "source": [
    "# 2. 讀入 MNIST 數據庫\n",
    "老規矩，開場就先召喚我們的好朋友 - MNIST 手寫數字數據庫"
   ]
  },
  {
   "cell_type": "code",
   "execution_count": 4,
   "metadata": {
    "colab": {
     "base_uri": "https://localhost:8080/",
     "height": 85
    },
    "colab_type": "code",
    "id": "_4KH0ZsxCtpL",
    "outputId": "4c62e3f9-e40f-448a-e1bc-ec0b52a05f96"
   },
   "outputs": [
    {
     "name": "stdout",
     "output_type": "stream",
     "text": [
      "There are 60000 training data with size 28 x 28\n",
      "There are 10000 testing  data with size 28 x 28\n"
     ]
    }
   ],
   "source": [
    "(x_train0, y_train0), (x_test0, y_test0) = mnist.load_data()\n",
    "\n",
    "print(\"There are %d training data with size %d x %d\" %x_train0.shape)\n",
    "print(\"There are %d testing  data with size %d x %d\" %x_test0.shape)"
   ]
  },
  {
   "cell_type": "markdown",
   "metadata": {
    "colab_type": "text",
    "id": "D3MOBGCKCtpP"
   },
   "source": [
    "調整資料長相及單位化"
   ]
  },
  {
   "cell_type": "code",
   "execution_count": 5,
   "metadata": {
    "colab": {},
    "colab_type": "code",
    "id": "8Z8oEe1vCtpP"
   },
   "outputs": [],
   "source": [
    "x_train = x_train0.reshape(60000, -1)\n",
    "x_test = x_test0.reshape(10000, -1)\n",
    "\n",
    "x_train -= x_train.min()\n",
    "x_train = x_train/x_train.max()"
   ]
  },
  {
   "cell_type": "markdown",
   "metadata": {
    "colab_type": "text",
    "id": "Kvfbj2gnCtpT"
   },
   "source": [
    "# 3.Variational Autoencoder"
   ]
  },
  {
   "cell_type": "markdown",
   "metadata": {
    "colab_type": "text",
    "id": "1pHkHrjvCtpW"
   },
   "source": [
    "## 3.1 VAE 的建立\n",
    "首先，我們定義 Encoder/Decoder 上的神經網路層"
   ]
  },
  {
   "cell_type": "code",
   "execution_count": 6,
   "metadata": {
    "colab": {},
    "colab_type": "code",
    "id": "JFIhG-2lCtpX"
   },
   "outputs": [],
   "source": [
    "enc_1 = Dense(100, activation='sigmoid')\n",
    "\n",
    "enc_mean = Dense(2)\n",
    "enc_log_var = Dense(2) #var本來就是非負，正數取log就是可正可負\n",
    "\n",
    "dec_2 = Dense(100, activation='sigmoid')\n",
    "dec_1 = Dense(784, activation='sigmoid')"
   ]
  },
  {
   "cell_type": "code",
   "execution_count": 7,
   "metadata": {
    "colab": {
     "base_uri": "https://localhost:8080/",
     "height": 88
    },
    "colab_type": "code",
    "id": "6bhBFzJyCtpa",
    "outputId": "59bcd87f-13c5-48b2-b6d4-f3baf0d0ae10"
   },
   "outputs": [
    {
     "name": "stdout",
     "output_type": "stream",
     "text": [
      "WARNING:tensorflow:From c:\\users\\ts105\\appdata\\local\\programs\\python\\python37\\lib\\site-packages\\tensorflow\\python\\framework\\op_def_library.py:263: colocate_with (from tensorflow.python.framework.ops) is deprecated and will be removed in a future version.\n",
      "Instructions for updating:\n",
      "Colocations handled automatically by placer.\n"
     ]
    }
   ],
   "source": [
    "x = Input(shape=(784,))\n",
    "enc_x = enc_1(x)\n",
    "\n",
    "z_mean = enc_mean(enc_x)\n",
    "z_log_var = enc_log_var(enc_x)"
   ]
  },
  {
   "cell_type": "markdown",
   "metadata": {
    "colab_type": "text",
    "id": "-AlLAy_yCtpf"
   },
   "source": [
    "定義抽樣函數並透過 ``Lambda`` 將其轉換成 Keras layer。"
   ]
  },
  {
   "cell_type": "markdown",
   "metadata": {
    "colab_type": "text",
    "id": "FofsrRz8Ctpf"
   },
   "source": [
    "透過 $X\\sim N(0, 1)\\Rightarrow \\mu+\\sigma X\\sim N(\\mu, \\sigma^2)$ 和 $\\sigma = e^{\\frac{\\log{\\sigma^2}}{2}}$，我們透過以下方式定義抽樣函數。"
   ]
  },
  {
   "cell_type": "code",
   "execution_count": 8,
   "metadata": {
    "colab": {},
    "colab_type": "code",
    "id": "LMd5mHwaCtpg"
   },
   "outputs": [],
   "source": [
    "def sampling(args):\n",
    "    z_mean, z_log_var = args\n",
    "    epsilon = K.random_normal(shape=(2,), mean=0., stddev=1)\n",
    "    return z_mean + K.exp(z_log_var / 2) * epsilon"
   ]
  },
  {
   "cell_type": "code",
   "execution_count": 9,
   "metadata": {
    "colab": {},
    "colab_type": "code",
    "id": "taxPpPPNCtpm"
   },
   "outputs": [],
   "source": [
    "z = Lambda(sampling, output_shape=(2,))([z_mean, z_log_var])"
   ]
  },
  {
   "cell_type": "code",
   "execution_count": 10,
   "metadata": {
    "colab": {},
    "colab_type": "code",
    "id": "-xXSroGvCtpq"
   },
   "outputs": [],
   "source": [
    "dec_x = dec_2(z)\n",
    "x_hat = dec_1(dec_x)"
   ]
  },
  {
   "cell_type": "code",
   "execution_count": 11,
   "metadata": {
    "colab": {
     "base_uri": "https://localhost:8080/",
     "height": 391
    },
    "colab_type": "code",
    "id": "OGKyR7WwCtpu",
    "outputId": "e0f3ec69-fcbc-4613-877b-4779ae2ab885"
   },
   "outputs": [
    {
     "name": "stdout",
     "output_type": "stream",
     "text": [
      "__________________________________________________________________________________________________\n",
      "Layer (type)                    Output Shape         Param #     Connected to                     \n",
      "==================================================================================================\n",
      "input_1 (InputLayer)            (None, 784)          0                                            \n",
      "__________________________________________________________________________________________________\n",
      "dense_1 (Dense)                 (None, 100)          78500       input_1[0][0]                    \n",
      "__________________________________________________________________________________________________\n",
      "dense_2 (Dense)                 (None, 2)            202         dense_1[0][0]                    \n",
      "__________________________________________________________________________________________________\n",
      "dense_3 (Dense)                 (None, 2)            202         dense_1[0][0]                    \n",
      "__________________________________________________________________________________________________\n",
      "lambda_1 (Lambda)               (None, 2)            0           dense_2[0][0]                    \n",
      "                                                                 dense_3[0][0]                    \n",
      "__________________________________________________________________________________________________\n",
      "dense_4 (Dense)                 (None, 100)          300         lambda_1[0][0]                   \n",
      "__________________________________________________________________________________________________\n",
      "dense_5 (Dense)                 (None, 784)          79184       dense_4[0][0]                    \n",
      "==================================================================================================\n",
      "Total params: 158,388\n",
      "Trainable params: 158,388\n",
      "Non-trainable params: 0\n",
      "__________________________________________________________________________________________________\n"
     ]
    }
   ],
   "source": [
    "VAE = Model(x, x_hat)\n",
    "VAE.summary()"
   ]
  },
  {
   "cell_type": "markdown",
   "metadata": {
    "colab_type": "text",
    "id": "PnssS8bUCtp2"
   },
   "source": [
    "## 3.2 Loss 函數的建立"
   ]
  },
  {
   "cell_type": "code",
   "execution_count": 12,
   "metadata": {
    "colab": {},
    "colab_type": "code",
    "id": "9N52XM_PCtp4"
   },
   "outputs": [],
   "source": [
    "def vae_loss(x, x_recon):  \n",
    "    recovery_loss = 784 * metrics.binary_crossentropy(x, x_recon)\n",
    "    kl_loss = - 0.5 * K.sum(1 + z_log_var - K.square(z_mean) - K.exp(z_log_var), axis=-1)\n",
    "    return recovery_loss + kl_loss"
   ]
  },
  {
   "cell_type": "markdown",
   "metadata": {
    "colab_type": "text",
    "id": "cecZf4eICtp6"
   },
   "source": [
    "## 3.3 讀入 權重"
   ]
  },
  {
   "cell_type": "code",
   "execution_count": 13,
   "metadata": {
    "colab": {},
    "colab_type": "code",
    "id": "x_zzu9HPCtp7"
   },
   "outputs": [],
   "source": [
    "VAE.compile(loss=vae_loss, optimizer=Adam())"
   ]
  },
  {
   "cell_type": "markdown",
   "metadata": {
    "colab_type": "text",
    "id": "8-vSTx4ZWo-J"
   },
   "source": [
    "Jupyter Notebook讀入文件"
   ]
  },
  {
   "cell_type": "code",
   "execution_count": 14,
   "metadata": {
    "colab": {},
    "colab_type": "code",
    "id": "BpqullecCtqD"
   },
   "outputs": [],
   "source": [
    "VAE.load_weights('VAE_handwriting_model_weights.h5')"
   ]
  },
  {
   "cell_type": "markdown",
   "metadata": {
    "colab_type": "text",
    "id": "ZtZOnyg6CtqH"
   },
   "source": [
    "## 3.4 VAE 的檢視\n",
    "與視覺化 Autoencoder 時的方式一樣，我們先分別定義出 Encoder 和 Decoder。"
   ]
  },
  {
   "cell_type": "code",
   "execution_count": 15,
   "metadata": {
    "colab": {
     "base_uri": "https://localhost:8080/",
     "height": 238
    },
    "colab_type": "code",
    "id": "RsUhM6_5CtqJ",
    "outputId": "3ae036bb-da97-4d8f-cecc-ff8d708a1bae"
   },
   "outputs": [
    {
     "name": "stdout",
     "output_type": "stream",
     "text": [
      "_________________________________________________________________\n",
      "Layer (type)                 Output Shape              Param #   \n",
      "=================================================================\n",
      "input_1 (InputLayer)         (None, 784)               0         \n",
      "_________________________________________________________________\n",
      "dense_1 (Dense)              (None, 100)               78500     \n",
      "_________________________________________________________________\n",
      "dense_2 (Dense)              (None, 2)                 202       \n",
      "=================================================================\n",
      "Total params: 78,702\n",
      "Trainable params: 78,702\n",
      "Non-trainable params: 0\n",
      "_________________________________________________________________\n"
     ]
    }
   ],
   "source": [
    "VAE_Encoder = Model(x, z_mean)\n",
    "\n",
    "VAE_Encoder.summary()"
   ]
  },
  {
   "cell_type": "code",
   "execution_count": 16,
   "metadata": {
    "colab": {
     "base_uri": "https://localhost:8080/",
     "height": 238
    },
    "colab_type": "code",
    "id": "5CTLA_k1CtqM",
    "outputId": "aa1ae236-175c-45c1-e2fd-3d42f002fc3f"
   },
   "outputs": [
    {
     "name": "stdout",
     "output_type": "stream",
     "text": [
      "_________________________________________________________________\n",
      "Layer (type)                 Output Shape              Param #   \n",
      "=================================================================\n",
      "input_2 (InputLayer)         (None, 2)                 0         \n",
      "_________________________________________________________________\n",
      "dense_4 (Dense)              (None, 100)               300       \n",
      "_________________________________________________________________\n",
      "dense_5 (Dense)              (None, 784)               79184     \n",
      "=================================================================\n",
      "Total params: 79,484\n",
      "Trainable params: 79,484\n",
      "Non-trainable params: 0\n",
      "_________________________________________________________________\n"
     ]
    }
   ],
   "source": [
    "h_input = Input(shape=(2,))\n",
    "VAE_Decoder = Model(h_input, dec_1(dec_2(h_input)))\n",
    "\n",
    "VAE_Decoder.summary()"
   ]
  },
  {
   "cell_type": "code",
   "execution_count": 17,
   "metadata": {
    "colab": {},
    "colab_type": "code",
    "id": "mNx_9ERrCtqd"
   },
   "outputs": [],
   "source": [
    "def normalized(x):\n",
    "    x -= x.min()\n",
    "    x /= x.max()\n",
    "    return x"
   ]
  },
  {
   "cell_type": "code",
   "execution_count": 18,
   "metadata": {
    "colab": {},
    "colab_type": "code",
    "id": "NO9Bw86DCtqf"
   },
   "outputs": [],
   "source": [
    "#建立一開始的VAE_figure\n",
    "n = 15\n",
    "digit_size = 28\n",
    "grid_x_vae = np.linspace(-4+0.05, 4-0.05, n)\n",
    "grid_y_vae = np.linspace(-4+0.05, 4-0.05, n)\n",
    "VAE_figure = np.zeros((digit_size * n, digit_size * n)) #準備好圖片大小給他\n",
    "for i, yi in enumerate(grid_x_vae): #取第幾次的什麼\n",
    "    for j, xi in enumerate(grid_y_vae):\n",
    "        z_sample = np.array([[xi, yi]]) #一筆二維的資料\n",
    "        x_decoded = VAE_Decoder.predict(z_sample)\n",
    "        digit = x_decoded[0].reshape(digit_size, digit_size) #每張圖都是digit_size, digit_size\n",
    "        VAE_figure[(n-i-1) * digit_size: (n - i) * digit_size, j * digit_size: (j + 1) * digit_size] = normalized(digit)"
   ]
  },
  {
   "cell_type": "markdown",
   "metadata": {},
   "source": [
    "# 4. 互動式介面"
   ]
  },
  {
   "cell_type": "markdown",
   "metadata": {},
   "source": [
    "## 4.1 建立所需函數"
   ]
  },
  {
   "cell_type": "code",
   "execution_count": 19,
   "metadata": {
    "scrolled": false
   },
   "outputs": [],
   "source": [
    "%matplotlib notebook\n",
    "VAE_figure_start = np.zeros((digit_size, digit_size))\n",
    "VAE_figure_end = np.zeros((digit_size, digit_size))\n",
    "def onclick(event, axx):\n",
    "    '''click on decoder's picture & print start/end picture'''\n",
    "    global c_start, c_end, digit, VAE_figure_end, VAE_figure_start\n",
    "    n = 15\n",
    "    digit_size = 28\n",
    "    grid_x_vae = np.linspace(-4+0.05, 4-0.05, n)\n",
    "    grid_y_vae = np.linspace(-4+0.05, 4-0.05, n)\n",
    "    \n",
    "    if event.inaxes == ax:\n",
    "        if event.button == 1: #按左鍵決定開始的數字\n",
    "            coords_start = [round(event.xdata, 2), round(event.ydata, 2)]\n",
    "            c_start.append(coords_start)\n",
    "            start = c_start[-1]\n",
    "            s_xi, s_yi = grid_x_vae[int(start[0]//28)], grid_y_vae[14-int(start[1]//28)]\n",
    "            z_sample = np.array([[s_xi, s_yi]]) #一筆二維的資料\n",
    "            x_decoded = VAE_Decoder.predict(z_sample)\n",
    "            digit = x_decoded[0].reshape(digit_size, digit_size) #每張圖都是digit_size, digit_size\n",
    "            VAE_figure_start[0:28, 0:28] = normalized(digit)\n",
    "            ax10.imshow(VAE_figure_start, cmap='Greens')\n",
    "        \n",
    "            \n",
    "        elif event.button == 3: #按右鍵決定結束的數字\n",
    "            coords_end = [round(event.xdata, 2), round(event.ydata, 2)]\n",
    "            c_end.append(coords_end)\n",
    "            end = c_end[-1]\n",
    "            e_xi, e_yi = grid_x_vae[int(end[0]//28)],   grid_y_vae[14-int(end[1]//28)]\n",
    "            z_sample = np.array([[e_xi, e_yi]]) #一筆二維的資料\n",
    "            x_decoded = VAE_Decoder.predict(z_sample)\n",
    "            digit = x_decoded[0].reshape(digit_size, digit_size) #每張圖都是digit_size, digit_size\n",
    "            VAE_figure_end[0:28, 0:28] = normalized(digit)\n",
    "            ax20.imshow(VAE_figure_end, cmap='Greens')\n",
    "            \n",
    "        else:\n",
    "            pass"
   ]
  },
  {
   "cell_type": "code",
   "execution_count": 20,
   "metadata": {},
   "outputs": [],
   "source": [
    "def inBetween(t):\n",
    "    '''interact'''\n",
    "    global c_start, c_end, VAE_figure_start, VAE_figure_end\n",
    "    \n",
    "    start = c_start[-1]\n",
    "    end = c_end[-1]\n",
    "    n = 15\n",
    "    digit_size = 28\n",
    "    grid_x_vae = np.linspace(-4+0.05, 4-0.05, n)\n",
    "    grid_y_vae = np.linspace(-4+0.05, 4-0.05, n)\n",
    "    \n",
    "    VAE_figure_start = np.zeros((digit_size, digit_size))\n",
    "    VAE_figure_end = np.zeros((digit_size, digit_size))\n",
    "    VAE_figure_mid = np.zeros((digit_size, digit_size))\n",
    "    \n",
    "    s_xi, s_yi = grid_x_vae[int(start[0]//28)], grid_y_vae[14-int(start[1]//28)]\n",
    "    e_xi, e_yi = grid_x_vae[int(end[0]//28)],   grid_y_vae[14-int(end[1]//28)]\n",
    "\n",
    "    z_sample = np.array([[s_xi, s_yi]]) #一筆二維的資料\n",
    "    x_decoded = VAE_Decoder.predict(z_sample)\n",
    "    digit = x_decoded[0].reshape(digit_size, digit_size) #每張圖都是digit_size, digit_size\n",
    "    VAE_figure_start[0:28, 0:28] = normalized(digit)\n",
    "    \n",
    "    z_sample = np.array([[e_xi, e_yi]]) #一筆二維的資料\n",
    "    x_decoded = VAE_Decoder.predict(z_sample)\n",
    "    digit = x_decoded[0].reshape(digit_size, digit_size) #每張圖都是digit_size, digit_size\n",
    "    VAE_figure_end[0:28, 0:28] = normalized(digit)\n",
    "\n",
    "\n",
    "    # 連續變化的值\n",
    "    mu_t = (1-t)*np.array([[s_xi, s_yi]]) + t*np.array([[e_xi, e_yi]])\n",
    "    x_decoded = VAE_Decoder.predict(mu_t)\n",
    "    digit = x_decoded[0].reshape(digit_size, digit_size) #每張圖都是digit_size, digit_size\n",
    "    VAE_figure_mid[0:28, 0:28] = normalized(digit)\n",
    "\n",
    "    plt.figure(2, figsize = (10, 5))\n",
    "    ax2 = plt.subplot(1, 3, 1)\n",
    "    ax2.imshow(VAE_figure_start, cmap='Greens')\n",
    "\n",
    "    ax3 = plt.subplot(1, 3, 3)\n",
    "    ax3.imshow(VAE_figure_end, cmap='Greens')\n",
    "    \n",
    "    ax4 = plt.subplot(1, 3, 2)\n",
    "    ax4.imshow(VAE_figure_mid, cmap='YlGn')\n"
   ]
  },
  {
   "cell_type": "markdown",
   "metadata": {
    "colab_type": "text",
    "id": "Rv6dDPCBCtqj"
   },
   "source": [
    "# 5. 動態呈現"
   ]
  },
  {
   "cell_type": "code",
   "execution_count": 21,
   "metadata": {},
   "outputs": [],
   "source": [
    "import ipywidgets as widgets\n",
    "from IPython.display import display"
   ]
  },
  {
   "cell_type": "code",
   "execution_count": 22,
   "metadata": {},
   "outputs": [
    {
     "data": {
      "application/javascript": [
       "/* Put everything inside the global mpl namespace */\n",
       "window.mpl = {};\n",
       "\n",
       "\n",
       "mpl.get_websocket_type = function() {\n",
       "    if (typeof(WebSocket) !== 'undefined') {\n",
       "        return WebSocket;\n",
       "    } else if (typeof(MozWebSocket) !== 'undefined') {\n",
       "        return MozWebSocket;\n",
       "    } else {\n",
       "        alert('Your browser does not have WebSocket support.' +\n",
       "              'Please try Chrome, Safari or Firefox ≥ 6. ' +\n",
       "              'Firefox 4 and 5 are also supported but you ' +\n",
       "              'have to enable WebSockets in about:config.');\n",
       "    };\n",
       "}\n",
       "\n",
       "mpl.figure = function(figure_id, websocket, ondownload, parent_element) {\n",
       "    this.id = figure_id;\n",
       "\n",
       "    this.ws = websocket;\n",
       "\n",
       "    this.supports_binary = (this.ws.binaryType != undefined);\n",
       "\n",
       "    if (!this.supports_binary) {\n",
       "        var warnings = document.getElementById(\"mpl-warnings\");\n",
       "        if (warnings) {\n",
       "            warnings.style.display = 'block';\n",
       "            warnings.textContent = (\n",
       "                \"This browser does not support binary websocket messages. \" +\n",
       "                    \"Performance may be slow.\");\n",
       "        }\n",
       "    }\n",
       "\n",
       "    this.imageObj = new Image();\n",
       "\n",
       "    this.context = undefined;\n",
       "    this.message = undefined;\n",
       "    this.canvas = undefined;\n",
       "    this.rubberband_canvas = undefined;\n",
       "    this.rubberband_context = undefined;\n",
       "    this.format_dropdown = undefined;\n",
       "\n",
       "    this.image_mode = 'full';\n",
       "\n",
       "    this.root = $('<div/>');\n",
       "    this._root_extra_style(this.root)\n",
       "    this.root.attr('style', 'display: inline-block');\n",
       "\n",
       "    $(parent_element).append(this.root);\n",
       "\n",
       "    this._init_header(this);\n",
       "    this._init_canvas(this);\n",
       "    this._init_toolbar(this);\n",
       "\n",
       "    var fig = this;\n",
       "\n",
       "    this.waiting = false;\n",
       "\n",
       "    this.ws.onopen =  function () {\n",
       "            fig.send_message(\"supports_binary\", {value: fig.supports_binary});\n",
       "            fig.send_message(\"send_image_mode\", {});\n",
       "            if (mpl.ratio != 1) {\n",
       "                fig.send_message(\"set_dpi_ratio\", {'dpi_ratio': mpl.ratio});\n",
       "            }\n",
       "            fig.send_message(\"refresh\", {});\n",
       "        }\n",
       "\n",
       "    this.imageObj.onload = function() {\n",
       "            if (fig.image_mode == 'full') {\n",
       "                // Full images could contain transparency (where diff images\n",
       "                // almost always do), so we need to clear the canvas so that\n",
       "                // there is no ghosting.\n",
       "                fig.context.clearRect(0, 0, fig.canvas.width, fig.canvas.height);\n",
       "            }\n",
       "            fig.context.drawImage(fig.imageObj, 0, 0);\n",
       "        };\n",
       "\n",
       "    this.imageObj.onunload = function() {\n",
       "        fig.ws.close();\n",
       "    }\n",
       "\n",
       "    this.ws.onmessage = this._make_on_message_function(this);\n",
       "\n",
       "    this.ondownload = ondownload;\n",
       "}\n",
       "\n",
       "mpl.figure.prototype._init_header = function() {\n",
       "    var titlebar = $(\n",
       "        '<div class=\"ui-dialog-titlebar ui-widget-header ui-corner-all ' +\n",
       "        'ui-helper-clearfix\"/>');\n",
       "    var titletext = $(\n",
       "        '<div class=\"ui-dialog-title\" style=\"width: 100%; ' +\n",
       "        'text-align: center; padding: 3px;\"/>');\n",
       "    titlebar.append(titletext)\n",
       "    this.root.append(titlebar);\n",
       "    this.header = titletext[0];\n",
       "}\n",
       "\n",
       "\n",
       "\n",
       "mpl.figure.prototype._canvas_extra_style = function(canvas_div) {\n",
       "\n",
       "}\n",
       "\n",
       "\n",
       "mpl.figure.prototype._root_extra_style = function(canvas_div) {\n",
       "\n",
       "}\n",
       "\n",
       "mpl.figure.prototype._init_canvas = function() {\n",
       "    var fig = this;\n",
       "\n",
       "    var canvas_div = $('<div/>');\n",
       "\n",
       "    canvas_div.attr('style', 'position: relative; clear: both; outline: 0');\n",
       "\n",
       "    function canvas_keyboard_event(event) {\n",
       "        return fig.key_event(event, event['data']);\n",
       "    }\n",
       "\n",
       "    canvas_div.keydown('key_press', canvas_keyboard_event);\n",
       "    canvas_div.keyup('key_release', canvas_keyboard_event);\n",
       "    this.canvas_div = canvas_div\n",
       "    this._canvas_extra_style(canvas_div)\n",
       "    this.root.append(canvas_div);\n",
       "\n",
       "    var canvas = $('<canvas/>');\n",
       "    canvas.addClass('mpl-canvas');\n",
       "    canvas.attr('style', \"left: 0; top: 0; z-index: 0; outline: 0\")\n",
       "\n",
       "    this.canvas = canvas[0];\n",
       "    this.context = canvas[0].getContext(\"2d\");\n",
       "\n",
       "    var backingStore = this.context.backingStorePixelRatio ||\n",
       "\tthis.context.webkitBackingStorePixelRatio ||\n",
       "\tthis.context.mozBackingStorePixelRatio ||\n",
       "\tthis.context.msBackingStorePixelRatio ||\n",
       "\tthis.context.oBackingStorePixelRatio ||\n",
       "\tthis.context.backingStorePixelRatio || 1;\n",
       "\n",
       "    mpl.ratio = (window.devicePixelRatio || 1) / backingStore;\n",
       "\n",
       "    var rubberband = $('<canvas/>');\n",
       "    rubberband.attr('style', \"position: absolute; left: 0; top: 0; z-index: 1;\")\n",
       "\n",
       "    var pass_mouse_events = true;\n",
       "\n",
       "    canvas_div.resizable({\n",
       "        start: function(event, ui) {\n",
       "            pass_mouse_events = false;\n",
       "        },\n",
       "        resize: function(event, ui) {\n",
       "            fig.request_resize(ui.size.width, ui.size.height);\n",
       "        },\n",
       "        stop: function(event, ui) {\n",
       "            pass_mouse_events = true;\n",
       "            fig.request_resize(ui.size.width, ui.size.height);\n",
       "        },\n",
       "    });\n",
       "\n",
       "    function mouse_event_fn(event) {\n",
       "        if (pass_mouse_events)\n",
       "            return fig.mouse_event(event, event['data']);\n",
       "    }\n",
       "\n",
       "    rubberband.mousedown('button_press', mouse_event_fn);\n",
       "    rubberband.mouseup('button_release', mouse_event_fn);\n",
       "    // Throttle sequential mouse events to 1 every 20ms.\n",
       "    rubberband.mousemove('motion_notify', mouse_event_fn);\n",
       "\n",
       "    rubberband.mouseenter('figure_enter', mouse_event_fn);\n",
       "    rubberband.mouseleave('figure_leave', mouse_event_fn);\n",
       "\n",
       "    canvas_div.on(\"wheel\", function (event) {\n",
       "        event = event.originalEvent;\n",
       "        event['data'] = 'scroll'\n",
       "        if (event.deltaY < 0) {\n",
       "            event.step = 1;\n",
       "        } else {\n",
       "            event.step = -1;\n",
       "        }\n",
       "        mouse_event_fn(event);\n",
       "    });\n",
       "\n",
       "    canvas_div.append(canvas);\n",
       "    canvas_div.append(rubberband);\n",
       "\n",
       "    this.rubberband = rubberband;\n",
       "    this.rubberband_canvas = rubberband[0];\n",
       "    this.rubberband_context = rubberband[0].getContext(\"2d\");\n",
       "    this.rubberband_context.strokeStyle = \"#000000\";\n",
       "\n",
       "    this._resize_canvas = function(width, height) {\n",
       "        // Keep the size of the canvas, canvas container, and rubber band\n",
       "        // canvas in synch.\n",
       "        canvas_div.css('width', width)\n",
       "        canvas_div.css('height', height)\n",
       "\n",
       "        canvas.attr('width', width * mpl.ratio);\n",
       "        canvas.attr('height', height * mpl.ratio);\n",
       "        canvas.attr('style', 'width: ' + width + 'px; height: ' + height + 'px;');\n",
       "\n",
       "        rubberband.attr('width', width);\n",
       "        rubberband.attr('height', height);\n",
       "    }\n",
       "\n",
       "    // Set the figure to an initial 600x600px, this will subsequently be updated\n",
       "    // upon first draw.\n",
       "    this._resize_canvas(600, 600);\n",
       "\n",
       "    // Disable right mouse context menu.\n",
       "    $(this.rubberband_canvas).bind(\"contextmenu\",function(e){\n",
       "        return false;\n",
       "    });\n",
       "\n",
       "    function set_focus () {\n",
       "        canvas.focus();\n",
       "        canvas_div.focus();\n",
       "    }\n",
       "\n",
       "    window.setTimeout(set_focus, 100);\n",
       "}\n",
       "\n",
       "mpl.figure.prototype._init_toolbar = function() {\n",
       "    var fig = this;\n",
       "\n",
       "    var nav_element = $('<div/>')\n",
       "    nav_element.attr('style', 'width: 100%');\n",
       "    this.root.append(nav_element);\n",
       "\n",
       "    // Define a callback function for later on.\n",
       "    function toolbar_event(event) {\n",
       "        return fig.toolbar_button_onclick(event['data']);\n",
       "    }\n",
       "    function toolbar_mouse_event(event) {\n",
       "        return fig.toolbar_button_onmouseover(event['data']);\n",
       "    }\n",
       "\n",
       "    for(var toolbar_ind in mpl.toolbar_items) {\n",
       "        var name = mpl.toolbar_items[toolbar_ind][0];\n",
       "        var tooltip = mpl.toolbar_items[toolbar_ind][1];\n",
       "        var image = mpl.toolbar_items[toolbar_ind][2];\n",
       "        var method_name = mpl.toolbar_items[toolbar_ind][3];\n",
       "\n",
       "        if (!name) {\n",
       "            // put a spacer in here.\n",
       "            continue;\n",
       "        }\n",
       "        var button = $('<button/>');\n",
       "        button.addClass('ui-button ui-widget ui-state-default ui-corner-all ' +\n",
       "                        'ui-button-icon-only');\n",
       "        button.attr('role', 'button');\n",
       "        button.attr('aria-disabled', 'false');\n",
       "        button.click(method_name, toolbar_event);\n",
       "        button.mouseover(tooltip, toolbar_mouse_event);\n",
       "\n",
       "        var icon_img = $('<span/>');\n",
       "        icon_img.addClass('ui-button-icon-primary ui-icon');\n",
       "        icon_img.addClass(image);\n",
       "        icon_img.addClass('ui-corner-all');\n",
       "\n",
       "        var tooltip_span = $('<span/>');\n",
       "        tooltip_span.addClass('ui-button-text');\n",
       "        tooltip_span.html(tooltip);\n",
       "\n",
       "        button.append(icon_img);\n",
       "        button.append(tooltip_span);\n",
       "\n",
       "        nav_element.append(button);\n",
       "    }\n",
       "\n",
       "    var fmt_picker_span = $('<span/>');\n",
       "\n",
       "    var fmt_picker = $('<select/>');\n",
       "    fmt_picker.addClass('mpl-toolbar-option ui-widget ui-widget-content');\n",
       "    fmt_picker_span.append(fmt_picker);\n",
       "    nav_element.append(fmt_picker_span);\n",
       "    this.format_dropdown = fmt_picker[0];\n",
       "\n",
       "    for (var ind in mpl.extensions) {\n",
       "        var fmt = mpl.extensions[ind];\n",
       "        var option = $(\n",
       "            '<option/>', {selected: fmt === mpl.default_extension}).html(fmt);\n",
       "        fmt_picker.append(option)\n",
       "    }\n",
       "\n",
       "    // Add hover states to the ui-buttons\n",
       "    $( \".ui-button\" ).hover(\n",
       "        function() { $(this).addClass(\"ui-state-hover\");},\n",
       "        function() { $(this).removeClass(\"ui-state-hover\");}\n",
       "    );\n",
       "\n",
       "    var status_bar = $('<span class=\"mpl-message\"/>');\n",
       "    nav_element.append(status_bar);\n",
       "    this.message = status_bar[0];\n",
       "}\n",
       "\n",
       "mpl.figure.prototype.request_resize = function(x_pixels, y_pixels) {\n",
       "    // Request matplotlib to resize the figure. Matplotlib will then trigger a resize in the client,\n",
       "    // which will in turn request a refresh of the image.\n",
       "    this.send_message('resize', {'width': x_pixels, 'height': y_pixels});\n",
       "}\n",
       "\n",
       "mpl.figure.prototype.send_message = function(type, properties) {\n",
       "    properties['type'] = type;\n",
       "    properties['figure_id'] = this.id;\n",
       "    this.ws.send(JSON.stringify(properties));\n",
       "}\n",
       "\n",
       "mpl.figure.prototype.send_draw_message = function() {\n",
       "    if (!this.waiting) {\n",
       "        this.waiting = true;\n",
       "        this.ws.send(JSON.stringify({type: \"draw\", figure_id: this.id}));\n",
       "    }\n",
       "}\n",
       "\n",
       "\n",
       "mpl.figure.prototype.handle_save = function(fig, msg) {\n",
       "    var format_dropdown = fig.format_dropdown;\n",
       "    var format = format_dropdown.options[format_dropdown.selectedIndex].value;\n",
       "    fig.ondownload(fig, format);\n",
       "}\n",
       "\n",
       "\n",
       "mpl.figure.prototype.handle_resize = function(fig, msg) {\n",
       "    var size = msg['size'];\n",
       "    if (size[0] != fig.canvas.width || size[1] != fig.canvas.height) {\n",
       "        fig._resize_canvas(size[0], size[1]);\n",
       "        fig.send_message(\"refresh\", {});\n",
       "    };\n",
       "}\n",
       "\n",
       "mpl.figure.prototype.handle_rubberband = function(fig, msg) {\n",
       "    var x0 = msg['x0'] / mpl.ratio;\n",
       "    var y0 = (fig.canvas.height - msg['y0']) / mpl.ratio;\n",
       "    var x1 = msg['x1'] / mpl.ratio;\n",
       "    var y1 = (fig.canvas.height - msg['y1']) / mpl.ratio;\n",
       "    x0 = Math.floor(x0) + 0.5;\n",
       "    y0 = Math.floor(y0) + 0.5;\n",
       "    x1 = Math.floor(x1) + 0.5;\n",
       "    y1 = Math.floor(y1) + 0.5;\n",
       "    var min_x = Math.min(x0, x1);\n",
       "    var min_y = Math.min(y0, y1);\n",
       "    var width = Math.abs(x1 - x0);\n",
       "    var height = Math.abs(y1 - y0);\n",
       "\n",
       "    fig.rubberband_context.clearRect(\n",
       "        0, 0, fig.canvas.width, fig.canvas.height);\n",
       "\n",
       "    fig.rubberband_context.strokeRect(min_x, min_y, width, height);\n",
       "}\n",
       "\n",
       "mpl.figure.prototype.handle_figure_label = function(fig, msg) {\n",
       "    // Updates the figure title.\n",
       "    fig.header.textContent = msg['label'];\n",
       "}\n",
       "\n",
       "mpl.figure.prototype.handle_cursor = function(fig, msg) {\n",
       "    var cursor = msg['cursor'];\n",
       "    switch(cursor)\n",
       "    {\n",
       "    case 0:\n",
       "        cursor = 'pointer';\n",
       "        break;\n",
       "    case 1:\n",
       "        cursor = 'default';\n",
       "        break;\n",
       "    case 2:\n",
       "        cursor = 'crosshair';\n",
       "        break;\n",
       "    case 3:\n",
       "        cursor = 'move';\n",
       "        break;\n",
       "    }\n",
       "    fig.rubberband_canvas.style.cursor = cursor;\n",
       "}\n",
       "\n",
       "mpl.figure.prototype.handle_message = function(fig, msg) {\n",
       "    fig.message.textContent = msg['message'];\n",
       "}\n",
       "\n",
       "mpl.figure.prototype.handle_draw = function(fig, msg) {\n",
       "    // Request the server to send over a new figure.\n",
       "    fig.send_draw_message();\n",
       "}\n",
       "\n",
       "mpl.figure.prototype.handle_image_mode = function(fig, msg) {\n",
       "    fig.image_mode = msg['mode'];\n",
       "}\n",
       "\n",
       "mpl.figure.prototype.updated_canvas_event = function() {\n",
       "    // Called whenever the canvas gets updated.\n",
       "    this.send_message(\"ack\", {});\n",
       "}\n",
       "\n",
       "// A function to construct a web socket function for onmessage handling.\n",
       "// Called in the figure constructor.\n",
       "mpl.figure.prototype._make_on_message_function = function(fig) {\n",
       "    return function socket_on_message(evt) {\n",
       "        if (evt.data instanceof Blob) {\n",
       "            /* FIXME: We get \"Resource interpreted as Image but\n",
       "             * transferred with MIME type text/plain:\" errors on\n",
       "             * Chrome.  But how to set the MIME type?  It doesn't seem\n",
       "             * to be part of the websocket stream */\n",
       "            evt.data.type = \"image/png\";\n",
       "\n",
       "            /* Free the memory for the previous frames */\n",
       "            if (fig.imageObj.src) {\n",
       "                (window.URL || window.webkitURL).revokeObjectURL(\n",
       "                    fig.imageObj.src);\n",
       "            }\n",
       "\n",
       "            fig.imageObj.src = (window.URL || window.webkitURL).createObjectURL(\n",
       "                evt.data);\n",
       "            fig.updated_canvas_event();\n",
       "            fig.waiting = false;\n",
       "            return;\n",
       "        }\n",
       "        else if (typeof evt.data === 'string' && evt.data.slice(0, 21) == \"data:image/png;base64\") {\n",
       "            fig.imageObj.src = evt.data;\n",
       "            fig.updated_canvas_event();\n",
       "            fig.waiting = false;\n",
       "            return;\n",
       "        }\n",
       "\n",
       "        var msg = JSON.parse(evt.data);\n",
       "        var msg_type = msg['type'];\n",
       "\n",
       "        // Call the  \"handle_{type}\" callback, which takes\n",
       "        // the figure and JSON message as its only arguments.\n",
       "        try {\n",
       "            var callback = fig[\"handle_\" + msg_type];\n",
       "        } catch (e) {\n",
       "            console.log(\"No handler for the '\" + msg_type + \"' message type: \", msg);\n",
       "            return;\n",
       "        }\n",
       "\n",
       "        if (callback) {\n",
       "            try {\n",
       "                // console.log(\"Handling '\" + msg_type + \"' message: \", msg);\n",
       "                callback(fig, msg);\n",
       "            } catch (e) {\n",
       "                console.log(\"Exception inside the 'handler_\" + msg_type + \"' callback:\", e, e.stack, msg);\n",
       "            }\n",
       "        }\n",
       "    };\n",
       "}\n",
       "\n",
       "// from http://stackoverflow.com/questions/1114465/getting-mouse-location-in-canvas\n",
       "mpl.findpos = function(e) {\n",
       "    //this section is from http://www.quirksmode.org/js/events_properties.html\n",
       "    var targ;\n",
       "    if (!e)\n",
       "        e = window.event;\n",
       "    if (e.target)\n",
       "        targ = e.target;\n",
       "    else if (e.srcElement)\n",
       "        targ = e.srcElement;\n",
       "    if (targ.nodeType == 3) // defeat Safari bug\n",
       "        targ = targ.parentNode;\n",
       "\n",
       "    // jQuery normalizes the pageX and pageY\n",
       "    // pageX,Y are the mouse positions relative to the document\n",
       "    // offset() returns the position of the element relative to the document\n",
       "    var x = e.pageX - $(targ).offset().left;\n",
       "    var y = e.pageY - $(targ).offset().top;\n",
       "\n",
       "    return {\"x\": x, \"y\": y};\n",
       "};\n",
       "\n",
       "/*\n",
       " * return a copy of an object with only non-object keys\n",
       " * we need this to avoid circular references\n",
       " * http://stackoverflow.com/a/24161582/3208463\n",
       " */\n",
       "function simpleKeys (original) {\n",
       "  return Object.keys(original).reduce(function (obj, key) {\n",
       "    if (typeof original[key] !== 'object')\n",
       "        obj[key] = original[key]\n",
       "    return obj;\n",
       "  }, {});\n",
       "}\n",
       "\n",
       "mpl.figure.prototype.mouse_event = function(event, name) {\n",
       "    var canvas_pos = mpl.findpos(event)\n",
       "\n",
       "    if (name === 'button_press')\n",
       "    {\n",
       "        this.canvas.focus();\n",
       "        this.canvas_div.focus();\n",
       "    }\n",
       "\n",
       "    var x = canvas_pos.x * mpl.ratio;\n",
       "    var y = canvas_pos.y * mpl.ratio;\n",
       "\n",
       "    this.send_message(name, {x: x, y: y, button: event.button,\n",
       "                             step: event.step,\n",
       "                             guiEvent: simpleKeys(event)});\n",
       "\n",
       "    /* This prevents the web browser from automatically changing to\n",
       "     * the text insertion cursor when the button is pressed.  We want\n",
       "     * to control all of the cursor setting manually through the\n",
       "     * 'cursor' event from matplotlib */\n",
       "    event.preventDefault();\n",
       "    return false;\n",
       "}\n",
       "\n",
       "mpl.figure.prototype._key_event_extra = function(event, name) {\n",
       "    // Handle any extra behaviour associated with a key event\n",
       "}\n",
       "\n",
       "mpl.figure.prototype.key_event = function(event, name) {\n",
       "\n",
       "    // Prevent repeat events\n",
       "    if (name == 'key_press')\n",
       "    {\n",
       "        if (event.which === this._key)\n",
       "            return;\n",
       "        else\n",
       "            this._key = event.which;\n",
       "    }\n",
       "    if (name == 'key_release')\n",
       "        this._key = null;\n",
       "\n",
       "    var value = '';\n",
       "    if (event.ctrlKey && event.which != 17)\n",
       "        value += \"ctrl+\";\n",
       "    if (event.altKey && event.which != 18)\n",
       "        value += \"alt+\";\n",
       "    if (event.shiftKey && event.which != 16)\n",
       "        value += \"shift+\";\n",
       "\n",
       "    value += 'k';\n",
       "    value += event.which.toString();\n",
       "\n",
       "    this._key_event_extra(event, name);\n",
       "\n",
       "    this.send_message(name, {key: value,\n",
       "                             guiEvent: simpleKeys(event)});\n",
       "    return false;\n",
       "}\n",
       "\n",
       "mpl.figure.prototype.toolbar_button_onclick = function(name) {\n",
       "    if (name == 'download') {\n",
       "        this.handle_save(this, null);\n",
       "    } else {\n",
       "        this.send_message(\"toolbar_button\", {name: name});\n",
       "    }\n",
       "};\n",
       "\n",
       "mpl.figure.prototype.toolbar_button_onmouseover = function(tooltip) {\n",
       "    this.message.textContent = tooltip;\n",
       "};\n",
       "mpl.toolbar_items = [[\"Home\", \"Reset original view\", \"fa fa-home icon-home\", \"home\"], [\"Back\", \"Back to previous view\", \"fa fa-arrow-left icon-arrow-left\", \"back\"], [\"Forward\", \"Forward to next view\", \"fa fa-arrow-right icon-arrow-right\", \"forward\"], [\"\", \"\", \"\", \"\"], [\"Pan\", \"Pan axes with left mouse, zoom with right\", \"fa fa-arrows icon-move\", \"pan\"], [\"Zoom\", \"Zoom to rectangle\", \"fa fa-square-o icon-check-empty\", \"zoom\"], [\"\", \"\", \"\", \"\"], [\"Download\", \"Download plot\", \"fa fa-floppy-o icon-save\", \"download\"]];\n",
       "\n",
       "mpl.extensions = [\"eps\", \"pdf\", \"png\", \"ps\", \"raw\", \"svg\"];\n",
       "\n",
       "mpl.default_extension = \"png\";var comm_websocket_adapter = function(comm) {\n",
       "    // Create a \"websocket\"-like object which calls the given IPython comm\n",
       "    // object with the appropriate methods. Currently this is a non binary\n",
       "    // socket, so there is still some room for performance tuning.\n",
       "    var ws = {};\n",
       "\n",
       "    ws.close = function() {\n",
       "        comm.close()\n",
       "    };\n",
       "    ws.send = function(m) {\n",
       "        //console.log('sending', m);\n",
       "        comm.send(m);\n",
       "    };\n",
       "    // Register the callback with on_msg.\n",
       "    comm.on_msg(function(msg) {\n",
       "        //console.log('receiving', msg['content']['data'], msg);\n",
       "        // Pass the mpl event to the overridden (by mpl) onmessage function.\n",
       "        ws.onmessage(msg['content']['data'])\n",
       "    });\n",
       "    return ws;\n",
       "}\n",
       "\n",
       "mpl.mpl_figure_comm = function(comm, msg) {\n",
       "    // This is the function which gets called when the mpl process\n",
       "    // starts-up an IPython Comm through the \"matplotlib\" channel.\n",
       "\n",
       "    var id = msg.content.data.id;\n",
       "    // Get hold of the div created by the display call when the Comm\n",
       "    // socket was opened in Python.\n",
       "    var element = $(\"#\" + id);\n",
       "    var ws_proxy = comm_websocket_adapter(comm)\n",
       "\n",
       "    function ondownload(figure, format) {\n",
       "        window.open(figure.imageObj.src);\n",
       "    }\n",
       "\n",
       "    var fig = new mpl.figure(id, ws_proxy,\n",
       "                           ondownload,\n",
       "                           element.get(0));\n",
       "\n",
       "    // Call onopen now - mpl needs it, as it is assuming we've passed it a real\n",
       "    // web socket which is closed, not our websocket->open comm proxy.\n",
       "    ws_proxy.onopen();\n",
       "\n",
       "    fig.parent_element = element.get(0);\n",
       "    fig.cell_info = mpl.find_output_cell(\"<div id='\" + id + \"'></div>\");\n",
       "    if (!fig.cell_info) {\n",
       "        console.error(\"Failed to find cell for figure\", id, fig);\n",
       "        return;\n",
       "    }\n",
       "\n",
       "    var output_index = fig.cell_info[2]\n",
       "    var cell = fig.cell_info[0];\n",
       "\n",
       "};\n",
       "\n",
       "mpl.figure.prototype.handle_close = function(fig, msg) {\n",
       "    var width = fig.canvas.width/mpl.ratio\n",
       "    fig.root.unbind('remove')\n",
       "\n",
       "    // Update the output cell to use the data from the current canvas.\n",
       "    fig.push_to_output();\n",
       "    var dataURL = fig.canvas.toDataURL();\n",
       "    // Re-enable the keyboard manager in IPython - without this line, in FF,\n",
       "    // the notebook keyboard shortcuts fail.\n",
       "    IPython.keyboard_manager.enable()\n",
       "    $(fig.parent_element).html('<img src=\"' + dataURL + '\" width=\"' + width + '\">');\n",
       "    fig.close_ws(fig, msg);\n",
       "}\n",
       "\n",
       "mpl.figure.prototype.close_ws = function(fig, msg){\n",
       "    fig.send_message('closing', msg);\n",
       "    // fig.ws.close()\n",
       "}\n",
       "\n",
       "mpl.figure.prototype.push_to_output = function(remove_interactive) {\n",
       "    // Turn the data on the canvas into data in the output cell.\n",
       "    var width = this.canvas.width/mpl.ratio\n",
       "    var dataURL = this.canvas.toDataURL();\n",
       "    this.cell_info[1]['text/html'] = '<img src=\"' + dataURL + '\" width=\"' + width + '\">';\n",
       "}\n",
       "\n",
       "mpl.figure.prototype.updated_canvas_event = function() {\n",
       "    // Tell IPython that the notebook contents must change.\n",
       "    IPython.notebook.set_dirty(true);\n",
       "    this.send_message(\"ack\", {});\n",
       "    var fig = this;\n",
       "    // Wait a second, then push the new image to the DOM so\n",
       "    // that it is saved nicely (might be nice to debounce this).\n",
       "    setTimeout(function () { fig.push_to_output() }, 1000);\n",
       "}\n",
       "\n",
       "mpl.figure.prototype._init_toolbar = function() {\n",
       "    var fig = this;\n",
       "\n",
       "    var nav_element = $('<div/>')\n",
       "    nav_element.attr('style', 'width: 100%');\n",
       "    this.root.append(nav_element);\n",
       "\n",
       "    // Define a callback function for later on.\n",
       "    function toolbar_event(event) {\n",
       "        return fig.toolbar_button_onclick(event['data']);\n",
       "    }\n",
       "    function toolbar_mouse_event(event) {\n",
       "        return fig.toolbar_button_onmouseover(event['data']);\n",
       "    }\n",
       "\n",
       "    for(var toolbar_ind in mpl.toolbar_items){\n",
       "        var name = mpl.toolbar_items[toolbar_ind][0];\n",
       "        var tooltip = mpl.toolbar_items[toolbar_ind][1];\n",
       "        var image = mpl.toolbar_items[toolbar_ind][2];\n",
       "        var method_name = mpl.toolbar_items[toolbar_ind][3];\n",
       "\n",
       "        if (!name) { continue; };\n",
       "\n",
       "        var button = $('<button class=\"btn btn-default\" href=\"#\" title=\"' + name + '\"><i class=\"fa ' + image + ' fa-lg\"></i></button>');\n",
       "        button.click(method_name, toolbar_event);\n",
       "        button.mouseover(tooltip, toolbar_mouse_event);\n",
       "        nav_element.append(button);\n",
       "    }\n",
       "\n",
       "    // Add the status bar.\n",
       "    var status_bar = $('<span class=\"mpl-message\" style=\"text-align:right; float: right;\"/>');\n",
       "    nav_element.append(status_bar);\n",
       "    this.message = status_bar[0];\n",
       "\n",
       "    // Add the close button to the window.\n",
       "    var buttongrp = $('<div class=\"btn-group inline pull-right\"></div>');\n",
       "    var button = $('<button class=\"btn btn-mini btn-primary\" href=\"#\" title=\"Stop Interaction\"><i class=\"fa fa-power-off icon-remove icon-large\"></i></button>');\n",
       "    button.click(function (evt) { fig.handle_close(fig, {}); } );\n",
       "    button.mouseover('Stop Interaction', toolbar_mouse_event);\n",
       "    buttongrp.append(button);\n",
       "    var titlebar = this.root.find($('.ui-dialog-titlebar'));\n",
       "    titlebar.prepend(buttongrp);\n",
       "}\n",
       "\n",
       "mpl.figure.prototype._root_extra_style = function(el){\n",
       "    var fig = this\n",
       "    el.on(\"remove\", function(){\n",
       "\tfig.close_ws(fig, {});\n",
       "    });\n",
       "}\n",
       "\n",
       "mpl.figure.prototype._canvas_extra_style = function(el){\n",
       "    // this is important to make the div 'focusable\n",
       "    el.attr('tabindex', 0)\n",
       "    // reach out to IPython and tell the keyboard manager to turn it's self\n",
       "    // off when our div gets focus\n",
       "\n",
       "    // location in version 3\n",
       "    if (IPython.notebook.keyboard_manager) {\n",
       "        IPython.notebook.keyboard_manager.register_events(el);\n",
       "    }\n",
       "    else {\n",
       "        // location in version 2\n",
       "        IPython.keyboard_manager.register_events(el);\n",
       "    }\n",
       "\n",
       "}\n",
       "\n",
       "mpl.figure.prototype._key_event_extra = function(event, name) {\n",
       "    var manager = IPython.notebook.keyboard_manager;\n",
       "    if (!manager)\n",
       "        manager = IPython.keyboard_manager;\n",
       "\n",
       "    // Check for shift+enter\n",
       "    if (event.shiftKey && event.which == 13) {\n",
       "        this.canvas_div.blur();\n",
       "        event.shiftKey = false;\n",
       "        // Send a \"J\" for go to next cell\n",
       "        event.which = 74;\n",
       "        event.keyCode = 74;\n",
       "        manager.command_mode();\n",
       "        manager.handle_keydown(event);\n",
       "    }\n",
       "}\n",
       "\n",
       "mpl.figure.prototype.handle_save = function(fig, msg) {\n",
       "    fig.ondownload(fig, null);\n",
       "}\n",
       "\n",
       "\n",
       "mpl.find_output_cell = function(html_output) {\n",
       "    // Return the cell and output element which can be found *uniquely* in the notebook.\n",
       "    // Note - this is a bit hacky, but it is done because the \"notebook_saving.Notebook\"\n",
       "    // IPython event is triggered only after the cells have been serialised, which for\n",
       "    // our purposes (turning an active figure into a static one), is too late.\n",
       "    var cells = IPython.notebook.get_cells();\n",
       "    var ncells = cells.length;\n",
       "    for (var i=0; i<ncells; i++) {\n",
       "        var cell = cells[i];\n",
       "        if (cell.cell_type === 'code'){\n",
       "            for (var j=0; j<cell.output_area.outputs.length; j++) {\n",
       "                var data = cell.output_area.outputs[j];\n",
       "                if (data.data) {\n",
       "                    // IPython >= 3 moved mimebundle to data attribute of output\n",
       "                    data = data.data;\n",
       "                }\n",
       "                if (data['text/html'] == html_output) {\n",
       "                    return [cell, data, j];\n",
       "                }\n",
       "            }\n",
       "        }\n",
       "    }\n",
       "}\n",
       "\n",
       "// Register the function which deals with the matplotlib target/channel.\n",
       "// The kernel may be null if the page has been refreshed.\n",
       "if (IPython.notebook.kernel != null) {\n",
       "    IPython.notebook.kernel.comm_manager.register_target('matplotlib', mpl.mpl_figure_comm);\n",
       "}\n"
      ],
      "text/plain": [
       "<IPython.core.display.Javascript object>"
      ]
     },
     "metadata": {},
     "output_type": "display_data"
    },
    {
     "data": {
      "text/html": [
       "<img src=\"data:image/png;base64,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\" width=\"647.4074531419155\">"
      ],
      "text/plain": [
       "<IPython.core.display.HTML object>"
      ]
     },
     "metadata": {},
     "output_type": "display_data"
    },
    {
     "data": {
      "application/vnd.jupyter.widget-view+json": {
       "model_id": "ddf30dfb7a864ffaa92100af3c6e882b",
       "version_major": 2,
       "version_minor": 0
      },
      "text/plain": [
       "interactive(children=(FloatSlider(value=0.5, description='連續圖:', max=1.0, step=0.02), Output()), _dom_classes=…"
      ]
     },
     "metadata": {},
     "output_type": "display_data"
    },
    {
     "data": {
      "text/plain": [
       "<function __main__.inBetween(t)>"
      ]
     },
     "execution_count": 22,
     "metadata": {},
     "output_type": "execute_result"
    }
   ],
   "source": [
    "%matplotlib notebook\n",
    "\n",
    "#設立畫布\n",
    "plt.figure(figsize = (9, 7))\n",
    "ax = plt.subplot(1, 2, 1)\n",
    "plt.title('Click left=start num. Click right=end num.',fontsize=12,color='r')\n",
    "ax10 = plt.subplot(2, 2, 2)\n",
    "plt.title('Start')\n",
    "ax20 = plt.subplot(2, 2, 4)\n",
    "plt.title('End')\n",
    "\n",
    "ax.imshow(VAE_figure, cmap='Greys')\n",
    "\n",
    "#初始值\n",
    "c_start = [[1,1],[200,200]]\n",
    "c_end = [[200,200],[1,1]]\n",
    "\n",
    "plt.gcf().canvas.mpl_connect('button_press_event', lambda event: onclick(event, ax))\n",
    "interact(inBetween, t = FloatSlider(value=0.5, min=0, max=1.0, step=0.02,description = '連續圖:',),)\n"
   ]
  },
  {
   "cell_type": "code",
   "execution_count": null,
   "metadata": {},
   "outputs": [],
   "source": []
  }
 ],
 "metadata": {
  "colab": {
   "name": "VAE.ipynb",
   "provenance": [],
   "version": "0.3.2"
  },
  "kernelspec": {
   "display_name": "Python 3",
   "language": "python",
   "name": "python3"
  },
  "language_info": {
   "codemirror_mode": {
    "name": "ipython",
    "version": 3
   },
   "file_extension": ".py",
   "mimetype": "text/x-python",
   "name": "python",
   "nbconvert_exporter": "python",
   "pygments_lexer": "ipython3",
   "version": "3.7.0"
  }
 },
 "nbformat": 4,
 "nbformat_minor": 1
}
